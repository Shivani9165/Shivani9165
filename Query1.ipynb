{
 "cells": [
  {
   "cell_type": "code",
   "execution_count": 1,
   "metadata": {},
   "outputs": [
    {
     "name": "stderr",
     "output_type": "stream",
     "text": [
      "/home/ec2-user/spark-3.2.0-bin-hadoop3.2/python/pyspark/context.py:238: FutureWarning: Python 3.6 support is deprecated in Spark 3.2.\n",
      "  FutureWarning\n"
     ]
    }
   ],
   "source": [
    "#importing spark and creating spark sessions\n",
    "import findspark\n",
    "findspark.init()\n",
    "findspark.find()\n",
    "import pyspark\n",
    "findspark.find()\n",
    "from pyspark import SparkConf, SparkContext\n",
    "from pyspark.sql import SparkSession\n",
    "\n",
    "spark = SparkSession.builder.appName(\"streaming\").master(\"local[*]\").getOrCreate()"
   ]
  },
  {
   "cell_type": "code",
   "execution_count": 2,
   "metadata": {},
   "outputs": [
    {
     "data": {
      "text/html": [
       "<style>pre { white-space: pre !important; }</style>"
      ],
      "text/plain": [
       "<IPython.core.display.HTML object>"
      ]
     },
     "metadata": {},
     "output_type": "display_data"
    }
   ],
   "source": [
    "#importing required libraries\n",
    "import math\n",
    "from IPython.display import clear_output, display\n",
    "from time import sleep\n",
    "from pyspark.sql.window import Window\n",
    "from pyspark.sql.functions import rank\n",
    "from pyspark.sql.functions import col\n",
    "from pyspark.sql.functions import udf\n",
    "from pyspark.sql.types import *\n",
    "from pyspark.sql import Row\n",
    "import datetime\n",
    "from datetime import datetime, timedelta\n",
    "from functools import reduce\n",
    "\n",
    "#importing HTML for better display\n",
    "from IPython.core.display import HTML\n",
    "display(HTML(\"<style>pre { white-space: pre !important; }</style>\"))"
   ]
  },
  {
   "cell_type": "code",
   "execution_count": 3,
   "metadata": {
    "collapsed": true
   },
   "outputs": [],
   "source": [
    "#Creating the schema for data to be received via spark streaming\n",
    "dataSchema = StructType([StructField(\"medallion\",StringType(),True), \n",
    "           StructField(\"hack_license\",StringType(),True), \n",
    "           StructField(\"pickup_datetime\",TimestampType(),True), \n",
    "           StructField(\"dropoff_datetime\",TimestampType(),True), \n",
    "           StructField(\"trip_time_in_secs\",StringType(),True), \n",
    "           StructField(\"trip_distance\",StringType(),True), \n",
    "           StructField(\"pickup_longitude\",FloatType(),True), \n",
    "           StructField(\"pickup_latitude\",FloatType(),True), \n",
    "           StructField(\"dropoff_longitude\",FloatType(),True), \n",
    "           StructField(\"dropoff_latitude\",FloatType(),True), \n",
    "           StructField(\"payment_type\",StringType(),True), \n",
    "           StructField(\"fare_amount\",FloatType(),True), \n",
    "           StructField(\"surcharge\",FloatType(),True), \n",
    "           StructField(\"mta_tax\",FloatType(),True), \n",
    "           StructField(\"tip_amount\",FloatType(),True), \n",
    "           StructField(\"tolls_amount\",FloatType(),True), \n",
    "           StructField(\"total_amount\",FloatType(),True)\n",
    "                       ])"
   ]
  },
  {
   "cell_type": "code",
   "execution_count": 4,
   "metadata": {
    "collapsed": true
   },
   "outputs": [],
   "source": [
    "#Reading the csv data into the dataframe\n",
    "df = (spark.readStream.schema(dataSchema).option(\"maxFilesPerTrigger\", 1).csv(\"sampled_data\", timestampFormat= \"dd-MM-yyyy HH:mm\"))"
   ]
  },
  {
   "cell_type": "code",
   "execution_count": 5,
   "metadata": {
    "collapsed": true
   },
   "outputs": [],
   "source": [
    "#Giving the specifications of latitudes and longitudes\n",
    "start_lat = 41.474937      #latitude for starting cell\n",
    "start_long = -74.913585    #longitude for starting cell\n",
    "lat_degree = 0.004491556   #Change in degrees for latitude\n",
    "long_degree = 0.004491556  #Change in degrees for longitude\n",
    "Grid_size = 150            #Grid size for finding most frequent routes in kms\n",
    "cell_size = 0.5            #Cell size for finding most frequent routes in kms"
   ]
  },
  {
   "cell_type": "code",
   "execution_count": 6,
   "metadata": {
    "collapsed": true
   },
   "outputs": [],
   "source": [
    "#Function defined for calculating grid cells\n",
    "def get_grids(longitude, latitude):\n",
    "    if longitude == None or latitude == None:              #Removing distorted data\n",
    "        return None\n",
    "    long = int(abs(longitude - start_long)/long_degree)    #Generating first half of grid cell\n",
    "    lat = int(abs(latitude - start_lat)/lat_degree)        #Generating second half of grid cell\n",
    "    if (long <= 300 and long >= 0 and lat <= 300 and lat >= 0): \n",
    "        result = (str(long) + \".\" + str(lat))              # Getting the grid cells in proper format\n",
    "        return float(result)"
   ]
  },
  {
   "cell_type": "code",
   "execution_count": 7,
   "metadata": {
    "collapsed": true
   },
   "outputs": [],
   "source": [
    "#Creating a UDF for pyspark streaming dataframe\n",
    "grid = udf(get_grids, FloatType())\n",
    "df = df.withColumn(\"start_cell\", grid(df.pickup_longitude, df.pickup_latitude))\\\n",
    "       .withColumn(\"end_cell\", grid(df.dropoff_longitude, df.dropoff_latitude))\n",
    "df = df.where(df.start_cell != df.end_cell)  #Removing the discrepency of data"
   ]
  },
  {
   "cell_type": "code",
   "execution_count": 11,
   "metadata": {
    "collapsed": true
   },
   "outputs": [],
   "source": [
    "from pyspark.sql.functions import *\n",
    "\n",
    "#Creating the function to run on each batch\n",
    "def batch_operation(df, epoch_id):\n",
    "    start = datetime.now()      #Start time for analysing the delay\n",
    "    \n",
    "     #Creating the window of 30 min and removing nulls\n",
    "    df = df.groupBy(window(\"dropoff_datetime\", \"30 minutes\"), \"start_cell\",\"end_cell\").count().dropna()  \n",
    "    df = df.orderBy(df[\"window\"], ascending = False)  #Ordering data by window in descending order\n",
    "    df = df.orderBy(df[\"count\"], ascending = False)    #Ordering data by count in descending order\n",
    "    \n",
    "    windowDf = Window.partitionBy(df[\"window\"]).orderBy(col(\"window\").desc()) #Partitioning window\n",
    "    df = df.withColumn(\"cells\", row_number().over(windowDf))                  #adding the cell ids column\n",
    "    \n",
    "    df = df.filter(col(\"cells\") <= 10)                                        #filtering the data by 10\n",
    "    \n",
    "    df = df.withColumn(\"window\", col(\"window\").cast(StringType()))            #changing the type of window column\n",
    "    df = df.withColumn(\"pickup_datetime\", split(col(\"window\"), \",\").getItem(0))\\\n",
    "          .withColumn(\"dropoff_datetime\", split(col(\"window\"), \",\").getItem(1)).drop(\"window\")\n",
    "    df = df.withColumn(\"pickup_datetime\",expr(\"substring(pickup_datetime, 2, 20)\"))\\\n",
    "           .withColumn(\"dropoff_datetime\",expr(\"substring(dropoff_datetime, 2, 20)\")) #removing discrepencies of data\n",
    "        \n",
    "    end = datetime.now()             #End time for analysing the delay\n",
    "    delay = end - start              #generating the delay\n",
    "    \n",
    "    df = df.withColumn(\"delay(in seconds)\", lit(str(delay.total_seconds()))) #adding delay column for each data set\n",
    "    \n",
    "    #selecting the required columns in a particular format\n",
    "    df = df.select(\"pickup_datetime\", \"dropoff_datetime\",\"cells\", \"start_cell\",\"end_cell\", \"count\", \"delay(in seconds)\" )\n",
    "    \n",
    "    #writing the data in csv format into output folder\n",
    "    df.repartition(1).write.mode(\"append\").csv('/home/ec2-user/output_folder_query1/', header = True)\n",
    "    df.show(truncate = False)\n",
    "   "
   ]
  },
  {
   "cell_type": "code",
   "execution_count": 12,
   "metadata": {},
   "outputs": [
    {
     "data": {
      "text/plain": [
       "True"
      ]
     },
     "execution_count": 12,
     "metadata": {},
     "output_type": "execute_result"
    }
   ],
   "source": [
    "#querying the data for batch processing\n",
    "query = (df.writeStream.format(\"memory\")\\\n",
    "           .foreachBatch(batch_operation)\\\n",
    "           .queryName(\"query1\")\\\n",
    "           .outputMode(\"update\")\\\n",
    "           .option(\"truncate\",False)\\\n",
    "           .start())\n",
    "df.isStreaming"
   ]
  },
  {
   "cell_type": "code",
   "execution_count": 13,
   "metadata": {},
   "outputs": [
    {
     "data": {
      "text/plain": [
       "{'isDataAvailable': True,\n",
       " 'isTriggerActive': True,\n",
       " 'message': 'Processing new data'}"
      ]
     },
     "metadata": {},
     "output_type": "display_data"
    },
    {
     "data": {
      "text/plain": [
       "DataFrame[medallion: string, hack_license: string, pickup_datetime: timestamp, dropoff_datetime: timestamp, trip_time_in_secs: string, trip_distance: string, pickup_longitude: float, pickup_latitude: float, dropoff_longitude: float, dropoff_latitude: float, payment_type: string, fare_amount: float, surcharge: float, mta_tax: float, tip_amount: float, tolls_amount: float, total_amount: float, start_cell: float, end_cell: float]"
      ]
     },
     "metadata": {},
     "output_type": "display_data"
    },
    {
     "data": {
      "text/plain": [
       "{'isDataAvailable': True,\n",
       " 'isTriggerActive': True,\n",
       " 'message': 'Processing new data'}"
      ]
     },
     "metadata": {},
     "output_type": "display_data"
    },
    {
     "data": {
      "text/plain": [
       "DataFrame[medallion: string, hack_license: string, pickup_datetime: timestamp, dropoff_datetime: timestamp, trip_time_in_secs: string, trip_distance: string, pickup_longitude: float, pickup_latitude: float, dropoff_longitude: float, dropoff_latitude: float, payment_type: string, fare_amount: float, surcharge: float, mta_tax: float, tip_amount: float, tolls_amount: float, total_amount: float, start_cell: float, end_cell: float]"
      ]
     },
     "metadata": {},
     "output_type": "display_data"
    },
    {
     "data": {
      "text/plain": [
       "{'isDataAvailable': True,\n",
       " 'isTriggerActive': True,\n",
       " 'message': 'Processing new data'}"
      ]
     },
     "metadata": {},
     "output_type": "display_data"
    },
    {
     "data": {
      "text/plain": [
       "DataFrame[medallion: string, hack_license: string, pickup_datetime: timestamp, dropoff_datetime: timestamp, trip_time_in_secs: string, trip_distance: string, pickup_longitude: float, pickup_latitude: float, dropoff_longitude: float, dropoff_latitude: float, payment_type: string, fare_amount: float, surcharge: float, mta_tax: float, tip_amount: float, tolls_amount: float, total_amount: float, start_cell: float, end_cell: float]"
      ]
     },
     "metadata": {},
     "output_type": "display_data"
    },
    {
     "data": {
      "text/plain": [
       "{'isDataAvailable': True,\n",
       " 'isTriggerActive': True,\n",
       " 'message': 'Processing new data'}"
      ]
     },
     "metadata": {},
     "output_type": "display_data"
    },
    {
     "data": {
      "text/plain": [
       "DataFrame[medallion: string, hack_license: string, pickup_datetime: timestamp, dropoff_datetime: timestamp, trip_time_in_secs: string, trip_distance: string, pickup_longitude: float, pickup_latitude: float, dropoff_longitude: float, dropoff_latitude: float, payment_type: string, fare_amount: float, surcharge: float, mta_tax: float, tip_amount: float, tolls_amount: float, total_amount: float, start_cell: float, end_cell: float]"
      ]
     },
     "metadata": {},
     "output_type": "display_data"
    },
    {
     "data": {
      "text/plain": [
       "{'isDataAvailable': True,\n",
       " 'isTriggerActive': True,\n",
       " 'message': 'Processing new data'}"
      ]
     },
     "metadata": {},
     "output_type": "display_data"
    },
    {
     "data": {
      "text/plain": [
       "DataFrame[medallion: string, hack_license: string, pickup_datetime: timestamp, dropoff_datetime: timestamp, trip_time_in_secs: string, trip_distance: string, pickup_longitude: float, pickup_latitude: float, dropoff_longitude: float, dropoff_latitude: float, payment_type: string, fare_amount: float, surcharge: float, mta_tax: float, tip_amount: float, tolls_amount: float, total_amount: float, start_cell: float, end_cell: float]"
      ]
     },
     "metadata": {},
     "output_type": "display_data"
    },
    {
     "data": {
      "text/plain": [
       "{'isDataAvailable': True,\n",
       " 'isTriggerActive': True,\n",
       " 'message': 'Processing new data'}"
      ]
     },
     "metadata": {},
     "output_type": "display_data"
    },
    {
     "data": {
      "text/plain": [
       "DataFrame[medallion: string, hack_license: string, pickup_datetime: timestamp, dropoff_datetime: timestamp, trip_time_in_secs: string, trip_distance: string, pickup_longitude: float, pickup_latitude: float, dropoff_longitude: float, dropoff_latitude: float, payment_type: string, fare_amount: float, surcharge: float, mta_tax: float, tip_amount: float, tolls_amount: float, total_amount: float, start_cell: float, end_cell: float]"
      ]
     },
     "metadata": {},
     "output_type": "display_data"
    },
    {
     "data": {
      "text/plain": [
       "{'isDataAvailable': True,\n",
       " 'isTriggerActive': True,\n",
       " 'message': 'Processing new data'}"
      ]
     },
     "metadata": {},
     "output_type": "display_data"
    },
    {
     "data": {
      "text/plain": [
       "DataFrame[medallion: string, hack_license: string, pickup_datetime: timestamp, dropoff_datetime: timestamp, trip_time_in_secs: string, trip_distance: string, pickup_longitude: float, pickup_latitude: float, dropoff_longitude: float, dropoff_latitude: float, payment_type: string, fare_amount: float, surcharge: float, mta_tax: float, tip_amount: float, tolls_amount: float, total_amount: float, start_cell: float, end_cell: float]"
      ]
     },
     "metadata": {},
     "output_type": "display_data"
    },
    {
     "data": {
      "text/plain": [
       "{'isDataAvailable': True,\n",
       " 'isTriggerActive': True,\n",
       " 'message': 'Processing new data'}"
      ]
     },
     "metadata": {},
     "output_type": "display_data"
    },
    {
     "data": {
      "text/plain": [
       "DataFrame[medallion: string, hack_license: string, pickup_datetime: timestamp, dropoff_datetime: timestamp, trip_time_in_secs: string, trip_distance: string, pickup_longitude: float, pickup_latitude: float, dropoff_longitude: float, dropoff_latitude: float, payment_type: string, fare_amount: float, surcharge: float, mta_tax: float, tip_amount: float, tolls_amount: float, total_amount: float, start_cell: float, end_cell: float]"
      ]
     },
     "metadata": {},
     "output_type": "display_data"
    },
    {
     "data": {
      "text/plain": [
       "{'isDataAvailable': True,\n",
       " 'isTriggerActive': True,\n",
       " 'message': 'Processing new data'}"
      ]
     },
     "metadata": {},
     "output_type": "display_data"
    },
    {
     "data": {
      "text/plain": [
       "DataFrame[medallion: string, hack_license: string, pickup_datetime: timestamp, dropoff_datetime: timestamp, trip_time_in_secs: string, trip_distance: string, pickup_longitude: float, pickup_latitude: float, dropoff_longitude: float, dropoff_latitude: float, payment_type: string, fare_amount: float, surcharge: float, mta_tax: float, tip_amount: float, tolls_amount: float, total_amount: float, start_cell: float, end_cell: float]"
      ]
     },
     "metadata": {},
     "output_type": "display_data"
    },
    {
     "data": {
      "text/plain": [
       "{'isDataAvailable': True,\n",
       " 'isTriggerActive': True,\n",
       " 'message': 'Processing new data'}"
      ]
     },
     "metadata": {},
     "output_type": "display_data"
    },
    {
     "data": {
      "text/plain": [
       "DataFrame[medallion: string, hack_license: string, pickup_datetime: timestamp, dropoff_datetime: timestamp, trip_time_in_secs: string, trip_distance: string, pickup_longitude: float, pickup_latitude: float, dropoff_longitude: float, dropoff_latitude: float, payment_type: string, fare_amount: float, surcharge: float, mta_tax: float, tip_amount: float, tolls_amount: float, total_amount: float, start_cell: float, end_cell: float]"
      ]
     },
     "metadata": {},
     "output_type": "display_data"
    },
    {
     "data": {
      "text/plain": [
       "{'isDataAvailable': True,\n",
       " 'isTriggerActive': True,\n",
       " 'message': 'Processing new data'}"
      ]
     },
     "metadata": {},
     "output_type": "display_data"
    },
    {
     "data": {
      "text/plain": [
       "DataFrame[medallion: string, hack_license: string, pickup_datetime: timestamp, dropoff_datetime: timestamp, trip_time_in_secs: string, trip_distance: string, pickup_longitude: float, pickup_latitude: float, dropoff_longitude: float, dropoff_latitude: float, payment_type: string, fare_amount: float, surcharge: float, mta_tax: float, tip_amount: float, tolls_amount: float, total_amount: float, start_cell: float, end_cell: float]"
      ]
     },
     "metadata": {},
     "output_type": "display_data"
    },
    {
     "data": {
      "text/plain": [
       "{'isDataAvailable': True,\n",
       " 'isTriggerActive': True,\n",
       " 'message': 'Processing new data'}"
      ]
     },
     "metadata": {},
     "output_type": "display_data"
    },
    {
     "data": {
      "text/plain": [
       "DataFrame[medallion: string, hack_license: string, pickup_datetime: timestamp, dropoff_datetime: timestamp, trip_time_in_secs: string, trip_distance: string, pickup_longitude: float, pickup_latitude: float, dropoff_longitude: float, dropoff_latitude: float, payment_type: string, fare_amount: float, surcharge: float, mta_tax: float, tip_amount: float, tolls_amount: float, total_amount: float, start_cell: float, end_cell: float]"
      ]
     },
     "metadata": {},
     "output_type": "display_data"
    },
    {
     "data": {
      "text/plain": [
       "{'isDataAvailable': True,\n",
       " 'isTriggerActive': True,\n",
       " 'message': 'Processing new data'}"
      ]
     },
     "metadata": {},
     "output_type": "display_data"
    },
    {
     "data": {
      "text/plain": [
       "DataFrame[medallion: string, hack_license: string, pickup_datetime: timestamp, dropoff_datetime: timestamp, trip_time_in_secs: string, trip_distance: string, pickup_longitude: float, pickup_latitude: float, dropoff_longitude: float, dropoff_latitude: float, payment_type: string, fare_amount: float, surcharge: float, mta_tax: float, tip_amount: float, tolls_amount: float, total_amount: float, start_cell: float, end_cell: float]"
      ]
     },
     "metadata": {},
     "output_type": "display_data"
    },
    {
     "data": {
      "text/plain": [
       "{'isDataAvailable': True,\n",
       " 'isTriggerActive': True,\n",
       " 'message': 'Processing new data'}"
      ]
     },
     "metadata": {},
     "output_type": "display_data"
    },
    {
     "data": {
      "text/plain": [
       "DataFrame[medallion: string, hack_license: string, pickup_datetime: timestamp, dropoff_datetime: timestamp, trip_time_in_secs: string, trip_distance: string, pickup_longitude: float, pickup_latitude: float, dropoff_longitude: float, dropoff_latitude: float, payment_type: string, fare_amount: float, surcharge: float, mta_tax: float, tip_amount: float, tolls_amount: float, total_amount: float, start_cell: float, end_cell: float]"
      ]
     },
     "metadata": {},
     "output_type": "display_data"
    },
    {
     "data": {
      "text/plain": [
       "{'isDataAvailable': True,\n",
       " 'isTriggerActive': True,\n",
       " 'message': 'Processing new data'}"
      ]
     },
     "metadata": {},
     "output_type": "display_data"
    },
    {
     "data": {
      "text/plain": [
       "DataFrame[medallion: string, hack_license: string, pickup_datetime: timestamp, dropoff_datetime: timestamp, trip_time_in_secs: string, trip_distance: string, pickup_longitude: float, pickup_latitude: float, dropoff_longitude: float, dropoff_latitude: float, payment_type: string, fare_amount: float, surcharge: float, mta_tax: float, tip_amount: float, tolls_amount: float, total_amount: float, start_cell: float, end_cell: float]"
      ]
     },
     "metadata": {},
     "output_type": "display_data"
    },
    {
     "data": {
      "text/plain": [
       "{'isDataAvailable': True,\n",
       " 'isTriggerActive': True,\n",
       " 'message': 'Processing new data'}"
      ]
     },
     "metadata": {},
     "output_type": "display_data"
    },
    {
     "data": {
      "text/plain": [
       "DataFrame[medallion: string, hack_license: string, pickup_datetime: timestamp, dropoff_datetime: timestamp, trip_time_in_secs: string, trip_distance: string, pickup_longitude: float, pickup_latitude: float, dropoff_longitude: float, dropoff_latitude: float, payment_type: string, fare_amount: float, surcharge: float, mta_tax: float, tip_amount: float, tolls_amount: float, total_amount: float, start_cell: float, end_cell: float]"
      ]
     },
     "metadata": {},
     "output_type": "display_data"
    },
    {
     "data": {
      "text/plain": [
       "{'isDataAvailable': True,\n",
       " 'isTriggerActive': True,\n",
       " 'message': 'Processing new data'}"
      ]
     },
     "metadata": {},
     "output_type": "display_data"
    },
    {
     "data": {
      "text/plain": [
       "DataFrame[medallion: string, hack_license: string, pickup_datetime: timestamp, dropoff_datetime: timestamp, trip_time_in_secs: string, trip_distance: string, pickup_longitude: float, pickup_latitude: float, dropoff_longitude: float, dropoff_latitude: float, payment_type: string, fare_amount: float, surcharge: float, mta_tax: float, tip_amount: float, tolls_amount: float, total_amount: float, start_cell: float, end_cell: float]"
      ]
     },
     "metadata": {},
     "output_type": "display_data"
    },
    {
     "data": {
      "text/plain": [
       "{'isDataAvailable': True,\n",
       " 'isTriggerActive': True,\n",
       " 'message': 'Processing new data'}"
      ]
     },
     "metadata": {},
     "output_type": "display_data"
    },
    {
     "data": {
      "text/plain": [
       "DataFrame[medallion: string, hack_license: string, pickup_datetime: timestamp, dropoff_datetime: timestamp, trip_time_in_secs: string, trip_distance: string, pickup_longitude: float, pickup_latitude: float, dropoff_longitude: float, dropoff_latitude: float, payment_type: string, fare_amount: float, surcharge: float, mta_tax: float, tip_amount: float, tolls_amount: float, total_amount: float, start_cell: float, end_cell: float]"
      ]
     },
     "metadata": {},
     "output_type": "display_data"
    },
    {
     "data": {
      "text/plain": [
       "{'isDataAvailable': True,\n",
       " 'isTriggerActive': True,\n",
       " 'message': 'Processing new data'}"
      ]
     },
     "metadata": {},
     "output_type": "display_data"
    },
    {
     "data": {
      "text/plain": [
       "DataFrame[medallion: string, hack_license: string, pickup_datetime: timestamp, dropoff_datetime: timestamp, trip_time_in_secs: string, trip_distance: string, pickup_longitude: float, pickup_latitude: float, dropoff_longitude: float, dropoff_latitude: float, payment_type: string, fare_amount: float, surcharge: float, mta_tax: float, tip_amount: float, tolls_amount: float, total_amount: float, start_cell: float, end_cell: float]"
      ]
     },
     "metadata": {},
     "output_type": "display_data"
    },
    {
     "data": {
      "text/plain": [
       "{'isDataAvailable': True,\n",
       " 'isTriggerActive': True,\n",
       " 'message': 'Processing new data'}"
      ]
     },
     "metadata": {},
     "output_type": "display_data"
    },
    {
     "data": {
      "text/plain": [
       "DataFrame[medallion: string, hack_license: string, pickup_datetime: timestamp, dropoff_datetime: timestamp, trip_time_in_secs: string, trip_distance: string, pickup_longitude: float, pickup_latitude: float, dropoff_longitude: float, dropoff_latitude: float, payment_type: string, fare_amount: float, surcharge: float, mta_tax: float, tip_amount: float, tolls_amount: float, total_amount: float, start_cell: float, end_cell: float]"
      ]
     },
     "metadata": {},
     "output_type": "display_data"
    },
    {
     "data": {
      "text/plain": [
       "{'isDataAvailable': True,\n",
       " 'isTriggerActive': True,\n",
       " 'message': 'Processing new data'}"
      ]
     },
     "metadata": {},
     "output_type": "display_data"
    },
    {
     "data": {
      "text/plain": [
       "DataFrame[medallion: string, hack_license: string, pickup_datetime: timestamp, dropoff_datetime: timestamp, trip_time_in_secs: string, trip_distance: string, pickup_longitude: float, pickup_latitude: float, dropoff_longitude: float, dropoff_latitude: float, payment_type: string, fare_amount: float, surcharge: float, mta_tax: float, tip_amount: float, tolls_amount: float, total_amount: float, start_cell: float, end_cell: float]"
      ]
     },
     "metadata": {},
     "output_type": "display_data"
    },
    {
     "data": {
      "text/plain": [
       "{'isDataAvailable': True,\n",
       " 'isTriggerActive': True,\n",
       " 'message': 'Processing new data'}"
      ]
     },
     "metadata": {},
     "output_type": "display_data"
    },
    {
     "data": {
      "text/plain": [
       "DataFrame[medallion: string, hack_license: string, pickup_datetime: timestamp, dropoff_datetime: timestamp, trip_time_in_secs: string, trip_distance: string, pickup_longitude: float, pickup_latitude: float, dropoff_longitude: float, dropoff_latitude: float, payment_type: string, fare_amount: float, surcharge: float, mta_tax: float, tip_amount: float, tolls_amount: float, total_amount: float, start_cell: float, end_cell: float]"
      ]
     },
     "metadata": {},
     "output_type": "display_data"
    },
    {
     "data": {
      "text/plain": [
       "{'isDataAvailable': True,\n",
       " 'isTriggerActive': True,\n",
       " 'message': 'Processing new data'}"
      ]
     },
     "metadata": {},
     "output_type": "display_data"
    },
    {
     "data": {
      "text/plain": [
       "DataFrame[medallion: string, hack_license: string, pickup_datetime: timestamp, dropoff_datetime: timestamp, trip_time_in_secs: string, trip_distance: string, pickup_longitude: float, pickup_latitude: float, dropoff_longitude: float, dropoff_latitude: float, payment_type: string, fare_amount: float, surcharge: float, mta_tax: float, tip_amount: float, tolls_amount: float, total_amount: float, start_cell: float, end_cell: float]"
      ]
     },
     "metadata": {},
     "output_type": "display_data"
    },
    {
     "data": {
      "text/plain": [
       "{'isDataAvailable': True,\n",
       " 'isTriggerActive': True,\n",
       " 'message': 'Processing new data'}"
      ]
     },
     "metadata": {},
     "output_type": "display_data"
    },
    {
     "data": {
      "text/plain": [
       "DataFrame[medallion: string, hack_license: string, pickup_datetime: timestamp, dropoff_datetime: timestamp, trip_time_in_secs: string, trip_distance: string, pickup_longitude: float, pickup_latitude: float, dropoff_longitude: float, dropoff_latitude: float, payment_type: string, fare_amount: float, surcharge: float, mta_tax: float, tip_amount: float, tolls_amount: float, total_amount: float, start_cell: float, end_cell: float]"
      ]
     },
     "metadata": {},
     "output_type": "display_data"
    },
    {
     "data": {
      "text/plain": [
       "{'isDataAvailable': True,\n",
       " 'isTriggerActive': True,\n",
       " 'message': 'Processing new data'}"
      ]
     },
     "metadata": {},
     "output_type": "display_data"
    },
    {
     "data": {
      "text/plain": [
       "DataFrame[medallion: string, hack_license: string, pickup_datetime: timestamp, dropoff_datetime: timestamp, trip_time_in_secs: string, trip_distance: string, pickup_longitude: float, pickup_latitude: float, dropoff_longitude: float, dropoff_latitude: float, payment_type: string, fare_amount: float, surcharge: float, mta_tax: float, tip_amount: float, tolls_amount: float, total_amount: float, start_cell: float, end_cell: float]"
      ]
     },
     "metadata": {},
     "output_type": "display_data"
    },
    {
     "data": {
      "text/plain": [
       "{'isDataAvailable': True,\n",
       " 'isTriggerActive': True,\n",
       " 'message': 'Processing new data'}"
      ]
     },
     "metadata": {},
     "output_type": "display_data"
    },
    {
     "data": {
      "text/plain": [
       "DataFrame[medallion: string, hack_license: string, pickup_datetime: timestamp, dropoff_datetime: timestamp, trip_time_in_secs: string, trip_distance: string, pickup_longitude: float, pickup_latitude: float, dropoff_longitude: float, dropoff_latitude: float, payment_type: string, fare_amount: float, surcharge: float, mta_tax: float, tip_amount: float, tolls_amount: float, total_amount: float, start_cell: float, end_cell: float]"
      ]
     },
     "metadata": {},
     "output_type": "display_data"
    },
    {
     "data": {
      "text/plain": [
       "{'isDataAvailable': True,\n",
       " 'isTriggerActive': True,\n",
       " 'message': 'Processing new data'}"
      ]
     },
     "metadata": {},
     "output_type": "display_data"
    },
    {
     "data": {
      "text/plain": [
       "DataFrame[medallion: string, hack_license: string, pickup_datetime: timestamp, dropoff_datetime: timestamp, trip_time_in_secs: string, trip_distance: string, pickup_longitude: float, pickup_latitude: float, dropoff_longitude: float, dropoff_latitude: float, payment_type: string, fare_amount: float, surcharge: float, mta_tax: float, tip_amount: float, tolls_amount: float, total_amount: float, start_cell: float, end_cell: float]"
      ]
     },
     "metadata": {},
     "output_type": "display_data"
    },
    {
     "data": {
      "text/plain": [
       "{'isDataAvailable': True,\n",
       " 'isTriggerActive': True,\n",
       " 'message': 'Processing new data'}"
      ]
     },
     "metadata": {},
     "output_type": "display_data"
    },
    {
     "data": {
      "text/plain": [
       "DataFrame[medallion: string, hack_license: string, pickup_datetime: timestamp, dropoff_datetime: timestamp, trip_time_in_secs: string, trip_distance: string, pickup_longitude: float, pickup_latitude: float, dropoff_longitude: float, dropoff_latitude: float, payment_type: string, fare_amount: float, surcharge: float, mta_tax: float, tip_amount: float, tolls_amount: float, total_amount: float, start_cell: float, end_cell: float]"
      ]
     },
     "metadata": {},
     "output_type": "display_data"
    },
    {
     "data": {
      "text/plain": [
       "{'isDataAvailable': True,\n",
       " 'isTriggerActive': True,\n",
       " 'message': 'Processing new data'}"
      ]
     },
     "metadata": {},
     "output_type": "display_data"
    },
    {
     "data": {
      "text/plain": [
       "DataFrame[medallion: string, hack_license: string, pickup_datetime: timestamp, dropoff_datetime: timestamp, trip_time_in_secs: string, trip_distance: string, pickup_longitude: float, pickup_latitude: float, dropoff_longitude: float, dropoff_latitude: float, payment_type: string, fare_amount: float, surcharge: float, mta_tax: float, tip_amount: float, tolls_amount: float, total_amount: float, start_cell: float, end_cell: float]"
      ]
     },
     "metadata": {},
     "output_type": "display_data"
    },
    {
     "data": {
      "text/plain": [
       "{'isDataAvailable': True,\n",
       " 'isTriggerActive': True,\n",
       " 'message': 'Processing new data'}"
      ]
     },
     "metadata": {},
     "output_type": "display_data"
    },
    {
     "data": {
      "text/plain": [
       "DataFrame[medallion: string, hack_license: string, pickup_datetime: timestamp, dropoff_datetime: timestamp, trip_time_in_secs: string, trip_distance: string, pickup_longitude: float, pickup_latitude: float, dropoff_longitude: float, dropoff_latitude: float, payment_type: string, fare_amount: float, surcharge: float, mta_tax: float, tip_amount: float, tolls_amount: float, total_amount: float, start_cell: float, end_cell: float]"
      ]
     },
     "metadata": {},
     "output_type": "display_data"
    },
    {
     "data": {
      "text/plain": [
       "{'isDataAvailable': True,\n",
       " 'isTriggerActive': True,\n",
       " 'message': 'Processing new data'}"
      ]
     },
     "metadata": {},
     "output_type": "display_data"
    },
    {
     "data": {
      "text/plain": [
       "DataFrame[medallion: string, hack_license: string, pickup_datetime: timestamp, dropoff_datetime: timestamp, trip_time_in_secs: string, trip_distance: string, pickup_longitude: float, pickup_latitude: float, dropoff_longitude: float, dropoff_latitude: float, payment_type: string, fare_amount: float, surcharge: float, mta_tax: float, tip_amount: float, tolls_amount: float, total_amount: float, start_cell: float, end_cell: float]"
      ]
     },
     "metadata": {},
     "output_type": "display_data"
    },
    {
     "data": {
      "text/plain": [
       "{'isDataAvailable': True,\n",
       " 'isTriggerActive': True,\n",
       " 'message': 'Processing new data'}"
      ]
     },
     "metadata": {},
     "output_type": "display_data"
    },
    {
     "data": {
      "text/plain": [
       "DataFrame[medallion: string, hack_license: string, pickup_datetime: timestamp, dropoff_datetime: timestamp, trip_time_in_secs: string, trip_distance: string, pickup_longitude: float, pickup_latitude: float, dropoff_longitude: float, dropoff_latitude: float, payment_type: string, fare_amount: float, surcharge: float, mta_tax: float, tip_amount: float, tolls_amount: float, total_amount: float, start_cell: float, end_cell: float]"
      ]
     },
     "metadata": {},
     "output_type": "display_data"
    },
    {
     "data": {
      "text/plain": [
       "{'isDataAvailable': True,\n",
       " 'isTriggerActive': True,\n",
       " 'message': 'Processing new data'}"
      ]
     },
     "metadata": {},
     "output_type": "display_data"
    },
    {
     "data": {
      "text/plain": [
       "DataFrame[medallion: string, hack_license: string, pickup_datetime: timestamp, dropoff_datetime: timestamp, trip_time_in_secs: string, trip_distance: string, pickup_longitude: float, pickup_latitude: float, dropoff_longitude: float, dropoff_latitude: float, payment_type: string, fare_amount: float, surcharge: float, mta_tax: float, tip_amount: float, tolls_amount: float, total_amount: float, start_cell: float, end_cell: float]"
      ]
     },
     "metadata": {},
     "output_type": "display_data"
    },
    {
     "data": {
      "text/plain": [
       "{'isDataAvailable': True,\n",
       " 'isTriggerActive': True,\n",
       " 'message': 'Processing new data'}"
      ]
     },
     "metadata": {},
     "output_type": "display_data"
    },
    {
     "data": {
      "text/plain": [
       "DataFrame[medallion: string, hack_license: string, pickup_datetime: timestamp, dropoff_datetime: timestamp, trip_time_in_secs: string, trip_distance: string, pickup_longitude: float, pickup_latitude: float, dropoff_longitude: float, dropoff_latitude: float, payment_type: string, fare_amount: float, surcharge: float, mta_tax: float, tip_amount: float, tolls_amount: float, total_amount: float, start_cell: float, end_cell: float]"
      ]
     },
     "metadata": {},
     "output_type": "display_data"
    },
    {
     "data": {
      "text/plain": [
       "{'isDataAvailable': True,\n",
       " 'isTriggerActive': True,\n",
       " 'message': 'Processing new data'}"
      ]
     },
     "metadata": {},
     "output_type": "display_data"
    },
    {
     "data": {
      "text/plain": [
       "DataFrame[medallion: string, hack_license: string, pickup_datetime: timestamp, dropoff_datetime: timestamp, trip_time_in_secs: string, trip_distance: string, pickup_longitude: float, pickup_latitude: float, dropoff_longitude: float, dropoff_latitude: float, payment_type: string, fare_amount: float, surcharge: float, mta_tax: float, tip_amount: float, tolls_amount: float, total_amount: float, start_cell: float, end_cell: float]"
      ]
     },
     "metadata": {},
     "output_type": "display_data"
    },
    {
     "data": {
      "text/plain": [
       "{'isDataAvailable': True,\n",
       " 'isTriggerActive': True,\n",
       " 'message': 'Processing new data'}"
      ]
     },
     "metadata": {},
     "output_type": "display_data"
    },
    {
     "data": {
      "text/plain": [
       "DataFrame[medallion: string, hack_license: string, pickup_datetime: timestamp, dropoff_datetime: timestamp, trip_time_in_secs: string, trip_distance: string, pickup_longitude: float, pickup_latitude: float, dropoff_longitude: float, dropoff_latitude: float, payment_type: string, fare_amount: float, surcharge: float, mta_tax: float, tip_amount: float, tolls_amount: float, total_amount: float, start_cell: float, end_cell: float]"
      ]
     },
     "metadata": {},
     "output_type": "display_data"
    },
    {
     "data": {
      "text/plain": [
       "{'isDataAvailable': True,\n",
       " 'isTriggerActive': True,\n",
       " 'message': 'Processing new data'}"
      ]
     },
     "metadata": {},
     "output_type": "display_data"
    },
    {
     "data": {
      "text/plain": [
       "DataFrame[medallion: string, hack_license: string, pickup_datetime: timestamp, dropoff_datetime: timestamp, trip_time_in_secs: string, trip_distance: string, pickup_longitude: float, pickup_latitude: float, dropoff_longitude: float, dropoff_latitude: float, payment_type: string, fare_amount: float, surcharge: float, mta_tax: float, tip_amount: float, tolls_amount: float, total_amount: float, start_cell: float, end_cell: float]"
      ]
     },
     "metadata": {},
     "output_type": "display_data"
    },
    {
     "data": {
      "text/plain": [
       "{'isDataAvailable': True,\n",
       " 'isTriggerActive': True,\n",
       " 'message': 'Processing new data'}"
      ]
     },
     "metadata": {},
     "output_type": "display_data"
    },
    {
     "data": {
      "text/plain": [
       "DataFrame[medallion: string, hack_license: string, pickup_datetime: timestamp, dropoff_datetime: timestamp, trip_time_in_secs: string, trip_distance: string, pickup_longitude: float, pickup_latitude: float, dropoff_longitude: float, dropoff_latitude: float, payment_type: string, fare_amount: float, surcharge: float, mta_tax: float, tip_amount: float, tolls_amount: float, total_amount: float, start_cell: float, end_cell: float]"
      ]
     },
     "metadata": {},
     "output_type": "display_data"
    },
    {
     "data": {
      "text/plain": [
       "{'isDataAvailable': True,\n",
       " 'isTriggerActive': True,\n",
       " 'message': 'Processing new data'}"
      ]
     },
     "metadata": {},
     "output_type": "display_data"
    },
    {
     "data": {
      "text/plain": [
       "DataFrame[medallion: string, hack_license: string, pickup_datetime: timestamp, dropoff_datetime: timestamp, trip_time_in_secs: string, trip_distance: string, pickup_longitude: float, pickup_latitude: float, dropoff_longitude: float, dropoff_latitude: float, payment_type: string, fare_amount: float, surcharge: float, mta_tax: float, tip_amount: float, tolls_amount: float, total_amount: float, start_cell: float, end_cell: float]"
      ]
     },
     "metadata": {},
     "output_type": "display_data"
    },
    {
     "data": {
      "text/plain": [
       "{'isDataAvailable': True,\n",
       " 'isTriggerActive': True,\n",
       " 'message': 'Processing new data'}"
      ]
     },
     "metadata": {},
     "output_type": "display_data"
    },
    {
     "data": {
      "text/plain": [
       "DataFrame[medallion: string, hack_license: string, pickup_datetime: timestamp, dropoff_datetime: timestamp, trip_time_in_secs: string, trip_distance: string, pickup_longitude: float, pickup_latitude: float, dropoff_longitude: float, dropoff_latitude: float, payment_type: string, fare_amount: float, surcharge: float, mta_tax: float, tip_amount: float, tolls_amount: float, total_amount: float, start_cell: float, end_cell: float]"
      ]
     },
     "metadata": {},
     "output_type": "display_data"
    },
    {
     "data": {
      "text/plain": [
       "{'isDataAvailable': True,\n",
       " 'isTriggerActive': True,\n",
       " 'message': 'Processing new data'}"
      ]
     },
     "metadata": {},
     "output_type": "display_data"
    },
    {
     "data": {
      "text/plain": [
       "DataFrame[medallion: string, hack_license: string, pickup_datetime: timestamp, dropoff_datetime: timestamp, trip_time_in_secs: string, trip_distance: string, pickup_longitude: float, pickup_latitude: float, dropoff_longitude: float, dropoff_latitude: float, payment_type: string, fare_amount: float, surcharge: float, mta_tax: float, tip_amount: float, tolls_amount: float, total_amount: float, start_cell: float, end_cell: float]"
      ]
     },
     "metadata": {},
     "output_type": "display_data"
    },
    {
     "data": {
      "text/plain": [
       "{'isDataAvailable': True,\n",
       " 'isTriggerActive': True,\n",
       " 'message': 'Processing new data'}"
      ]
     },
     "metadata": {},
     "output_type": "display_data"
    },
    {
     "data": {
      "text/plain": [
       "DataFrame[medallion: string, hack_license: string, pickup_datetime: timestamp, dropoff_datetime: timestamp, trip_time_in_secs: string, trip_distance: string, pickup_longitude: float, pickup_latitude: float, dropoff_longitude: float, dropoff_latitude: float, payment_type: string, fare_amount: float, surcharge: float, mta_tax: float, tip_amount: float, tolls_amount: float, total_amount: float, start_cell: float, end_cell: float]"
      ]
     },
     "metadata": {},
     "output_type": "display_data"
    },
    {
     "data": {
      "text/plain": [
       "{'isDataAvailable': True,\n",
       " 'isTriggerActive': True,\n",
       " 'message': 'Processing new data'}"
      ]
     },
     "metadata": {},
     "output_type": "display_data"
    },
    {
     "data": {
      "text/plain": [
       "DataFrame[medallion: string, hack_license: string, pickup_datetime: timestamp, dropoff_datetime: timestamp, trip_time_in_secs: string, trip_distance: string, pickup_longitude: float, pickup_latitude: float, dropoff_longitude: float, dropoff_latitude: float, payment_type: string, fare_amount: float, surcharge: float, mta_tax: float, tip_amount: float, tolls_amount: float, total_amount: float, start_cell: float, end_cell: float]"
      ]
     },
     "metadata": {},
     "output_type": "display_data"
    },
    {
     "data": {
      "text/plain": [
       "{'isDataAvailable': True,\n",
       " 'isTriggerActive': True,\n",
       " 'message': 'Processing new data'}"
      ]
     },
     "metadata": {},
     "output_type": "display_data"
    },
    {
     "data": {
      "text/plain": [
       "DataFrame[medallion: string, hack_license: string, pickup_datetime: timestamp, dropoff_datetime: timestamp, trip_time_in_secs: string, trip_distance: string, pickup_longitude: float, pickup_latitude: float, dropoff_longitude: float, dropoff_latitude: float, payment_type: string, fare_amount: float, surcharge: float, mta_tax: float, tip_amount: float, tolls_amount: float, total_amount: float, start_cell: float, end_cell: float]"
      ]
     },
     "metadata": {},
     "output_type": "display_data"
    },
    {
     "data": {
      "text/plain": [
       "{'isDataAvailable': True,\n",
       " 'isTriggerActive': True,\n",
       " 'message': 'Processing new data'}"
      ]
     },
     "metadata": {},
     "output_type": "display_data"
    },
    {
     "data": {
      "text/plain": [
       "DataFrame[medallion: string, hack_license: string, pickup_datetime: timestamp, dropoff_datetime: timestamp, trip_time_in_secs: string, trip_distance: string, pickup_longitude: float, pickup_latitude: float, dropoff_longitude: float, dropoff_latitude: float, payment_type: string, fare_amount: float, surcharge: float, mta_tax: float, tip_amount: float, tolls_amount: float, total_amount: float, start_cell: float, end_cell: float]"
      ]
     },
     "metadata": {},
     "output_type": "display_data"
    },
    {
     "data": {
      "text/plain": [
       "{'isDataAvailable': True,\n",
       " 'isTriggerActive': True,\n",
       " 'message': 'Processing new data'}"
      ]
     },
     "metadata": {},
     "output_type": "display_data"
    },
    {
     "data": {
      "text/plain": [
       "DataFrame[medallion: string, hack_license: string, pickup_datetime: timestamp, dropoff_datetime: timestamp, trip_time_in_secs: string, trip_distance: string, pickup_longitude: float, pickup_latitude: float, dropoff_longitude: float, dropoff_latitude: float, payment_type: string, fare_amount: float, surcharge: float, mta_tax: float, tip_amount: float, tolls_amount: float, total_amount: float, start_cell: float, end_cell: float]"
      ]
     },
     "metadata": {},
     "output_type": "display_data"
    },
    {
     "data": {
      "text/plain": [
       "{'isDataAvailable': True,\n",
       " 'isTriggerActive': True,\n",
       " 'message': 'Processing new data'}"
      ]
     },
     "metadata": {},
     "output_type": "display_data"
    },
    {
     "data": {
      "text/plain": [
       "DataFrame[medallion: string, hack_license: string, pickup_datetime: timestamp, dropoff_datetime: timestamp, trip_time_in_secs: string, trip_distance: string, pickup_longitude: float, pickup_latitude: float, dropoff_longitude: float, dropoff_latitude: float, payment_type: string, fare_amount: float, surcharge: float, mta_tax: float, tip_amount: float, tolls_amount: float, total_amount: float, start_cell: float, end_cell: float]"
      ]
     },
     "metadata": {},
     "output_type": "display_data"
    },
    {
     "data": {
      "text/plain": [
       "{'isDataAvailable': True,\n",
       " 'isTriggerActive': True,\n",
       " 'message': 'Processing new data'}"
      ]
     },
     "metadata": {},
     "output_type": "display_data"
    },
    {
     "data": {
      "text/plain": [
       "DataFrame[medallion: string, hack_license: string, pickup_datetime: timestamp, dropoff_datetime: timestamp, trip_time_in_secs: string, trip_distance: string, pickup_longitude: float, pickup_latitude: float, dropoff_longitude: float, dropoff_latitude: float, payment_type: string, fare_amount: float, surcharge: float, mta_tax: float, tip_amount: float, tolls_amount: float, total_amount: float, start_cell: float, end_cell: float]"
      ]
     },
     "metadata": {},
     "output_type": "display_data"
    },
    {
     "data": {
      "text/plain": [
       "{'isDataAvailable': True,\n",
       " 'isTriggerActive': True,\n",
       " 'message': 'Processing new data'}"
      ]
     },
     "metadata": {},
     "output_type": "display_data"
    },
    {
     "data": {
      "text/plain": [
       "DataFrame[medallion: string, hack_license: string, pickup_datetime: timestamp, dropoff_datetime: timestamp, trip_time_in_secs: string, trip_distance: string, pickup_longitude: float, pickup_latitude: float, dropoff_longitude: float, dropoff_latitude: float, payment_type: string, fare_amount: float, surcharge: float, mta_tax: float, tip_amount: float, tolls_amount: float, total_amount: float, start_cell: float, end_cell: float]"
      ]
     },
     "metadata": {},
     "output_type": "display_data"
    },
    {
     "data": {
      "text/plain": [
       "{'isDataAvailable': True,\n",
       " 'isTriggerActive': True,\n",
       " 'message': 'Processing new data'}"
      ]
     },
     "metadata": {},
     "output_type": "display_data"
    },
    {
     "data": {
      "text/plain": [
       "DataFrame[medallion: string, hack_license: string, pickup_datetime: timestamp, dropoff_datetime: timestamp, trip_time_in_secs: string, trip_distance: string, pickup_longitude: float, pickup_latitude: float, dropoff_longitude: float, dropoff_latitude: float, payment_type: string, fare_amount: float, surcharge: float, mta_tax: float, tip_amount: float, tolls_amount: float, total_amount: float, start_cell: float, end_cell: float]"
      ]
     },
     "metadata": {},
     "output_type": "display_data"
    },
    {
     "data": {
      "text/plain": [
       "{'isDataAvailable': True,\n",
       " 'isTriggerActive': True,\n",
       " 'message': 'Processing new data'}"
      ]
     },
     "metadata": {},
     "output_type": "display_data"
    },
    {
     "data": {
      "text/plain": [
       "DataFrame[medallion: string, hack_license: string, pickup_datetime: timestamp, dropoff_datetime: timestamp, trip_time_in_secs: string, trip_distance: string, pickup_longitude: float, pickup_latitude: float, dropoff_longitude: float, dropoff_latitude: float, payment_type: string, fare_amount: float, surcharge: float, mta_tax: float, tip_amount: float, tolls_amount: float, total_amount: float, start_cell: float, end_cell: float]"
      ]
     },
     "metadata": {},
     "output_type": "display_data"
    },
    {
     "data": {
      "text/plain": [
       "{'isDataAvailable': True,\n",
       " 'isTriggerActive': True,\n",
       " 'message': 'Processing new data'}"
      ]
     },
     "metadata": {},
     "output_type": "display_data"
    },
    {
     "data": {
      "text/plain": [
       "DataFrame[medallion: string, hack_license: string, pickup_datetime: timestamp, dropoff_datetime: timestamp, trip_time_in_secs: string, trip_distance: string, pickup_longitude: float, pickup_latitude: float, dropoff_longitude: float, dropoff_latitude: float, payment_type: string, fare_amount: float, surcharge: float, mta_tax: float, tip_amount: float, tolls_amount: float, total_amount: float, start_cell: float, end_cell: float]"
      ]
     },
     "metadata": {},
     "output_type": "display_data"
    },
    {
     "data": {
      "text/plain": [
       "{'isDataAvailable': True,\n",
       " 'isTriggerActive': True,\n",
       " 'message': 'Processing new data'}"
      ]
     },
     "metadata": {},
     "output_type": "display_data"
    },
    {
     "data": {
      "text/plain": [
       "DataFrame[medallion: string, hack_license: string, pickup_datetime: timestamp, dropoff_datetime: timestamp, trip_time_in_secs: string, trip_distance: string, pickup_longitude: float, pickup_latitude: float, dropoff_longitude: float, dropoff_latitude: float, payment_type: string, fare_amount: float, surcharge: float, mta_tax: float, tip_amount: float, tolls_amount: float, total_amount: float, start_cell: float, end_cell: float]"
      ]
     },
     "metadata": {},
     "output_type": "display_data"
    },
    {
     "data": {
      "text/plain": [
       "{'isDataAvailable': True,\n",
       " 'isTriggerActive': True,\n",
       " 'message': 'Processing new data'}"
      ]
     },
     "metadata": {},
     "output_type": "display_data"
    },
    {
     "data": {
      "text/plain": [
       "DataFrame[medallion: string, hack_license: string, pickup_datetime: timestamp, dropoff_datetime: timestamp, trip_time_in_secs: string, trip_distance: string, pickup_longitude: float, pickup_latitude: float, dropoff_longitude: float, dropoff_latitude: float, payment_type: string, fare_amount: float, surcharge: float, mta_tax: float, tip_amount: float, tolls_amount: float, total_amount: float, start_cell: float, end_cell: float]"
      ]
     },
     "metadata": {},
     "output_type": "display_data"
    },
    {
     "data": {
      "text/plain": [
       "{'isDataAvailable': True,\n",
       " 'isTriggerActive': True,\n",
       " 'message': 'Processing new data'}"
      ]
     },
     "metadata": {},
     "output_type": "display_data"
    },
    {
     "data": {
      "text/plain": [
       "DataFrame[medallion: string, hack_license: string, pickup_datetime: timestamp, dropoff_datetime: timestamp, trip_time_in_secs: string, trip_distance: string, pickup_longitude: float, pickup_latitude: float, dropoff_longitude: float, dropoff_latitude: float, payment_type: string, fare_amount: float, surcharge: float, mta_tax: float, tip_amount: float, tolls_amount: float, total_amount: float, start_cell: float, end_cell: float]"
      ]
     },
     "metadata": {},
     "output_type": "display_data"
    },
    {
     "data": {
      "text/plain": [
       "{'isDataAvailable': True,\n",
       " 'isTriggerActive': True,\n",
       " 'message': 'Processing new data'}"
      ]
     },
     "metadata": {},
     "output_type": "display_data"
    },
    {
     "data": {
      "text/plain": [
       "DataFrame[medallion: string, hack_license: string, pickup_datetime: timestamp, dropoff_datetime: timestamp, trip_time_in_secs: string, trip_distance: string, pickup_longitude: float, pickup_latitude: float, dropoff_longitude: float, dropoff_latitude: float, payment_type: string, fare_amount: float, surcharge: float, mta_tax: float, tip_amount: float, tolls_amount: float, total_amount: float, start_cell: float, end_cell: float]"
      ]
     },
     "metadata": {},
     "output_type": "display_data"
    },
    {
     "data": {
      "text/plain": [
       "{'isDataAvailable': True,\n",
       " 'isTriggerActive': True,\n",
       " 'message': 'Processing new data'}"
      ]
     },
     "metadata": {},
     "output_type": "display_data"
    },
    {
     "data": {
      "text/plain": [
       "DataFrame[medallion: string, hack_license: string, pickup_datetime: timestamp, dropoff_datetime: timestamp, trip_time_in_secs: string, trip_distance: string, pickup_longitude: float, pickup_latitude: float, dropoff_longitude: float, dropoff_latitude: float, payment_type: string, fare_amount: float, surcharge: float, mta_tax: float, tip_amount: float, tolls_amount: float, total_amount: float, start_cell: float, end_cell: float]"
      ]
     },
     "metadata": {},
     "output_type": "display_data"
    },
    {
     "data": {
      "text/plain": [
       "{'isDataAvailable': True,\n",
       " 'isTriggerActive': True,\n",
       " 'message': 'Processing new data'}"
      ]
     },
     "metadata": {},
     "output_type": "display_data"
    },
    {
     "data": {
      "text/plain": [
       "DataFrame[medallion: string, hack_license: string, pickup_datetime: timestamp, dropoff_datetime: timestamp, trip_time_in_secs: string, trip_distance: string, pickup_longitude: float, pickup_latitude: float, dropoff_longitude: float, dropoff_latitude: float, payment_type: string, fare_amount: float, surcharge: float, mta_tax: float, tip_amount: float, tolls_amount: float, total_amount: float, start_cell: float, end_cell: float]"
      ]
     },
     "metadata": {},
     "output_type": "display_data"
    },
    {
     "data": {
      "text/plain": [
       "{'isDataAvailable': True,\n",
       " 'isTriggerActive': True,\n",
       " 'message': 'Processing new data'}"
      ]
     },
     "metadata": {},
     "output_type": "display_data"
    },
    {
     "data": {
      "text/plain": [
       "DataFrame[medallion: string, hack_license: string, pickup_datetime: timestamp, dropoff_datetime: timestamp, trip_time_in_secs: string, trip_distance: string, pickup_longitude: float, pickup_latitude: float, dropoff_longitude: float, dropoff_latitude: float, payment_type: string, fare_amount: float, surcharge: float, mta_tax: float, tip_amount: float, tolls_amount: float, total_amount: float, start_cell: float, end_cell: float]"
      ]
     },
     "metadata": {},
     "output_type": "display_data"
    },
    {
     "data": {
      "text/plain": [
       "{'isDataAvailable': True,\n",
       " 'isTriggerActive': True,\n",
       " 'message': 'Processing new data'}"
      ]
     },
     "metadata": {},
     "output_type": "display_data"
    },
    {
     "data": {
      "text/plain": [
       "DataFrame[medallion: string, hack_license: string, pickup_datetime: timestamp, dropoff_datetime: timestamp, trip_time_in_secs: string, trip_distance: string, pickup_longitude: float, pickup_latitude: float, dropoff_longitude: float, dropoff_latitude: float, payment_type: string, fare_amount: float, surcharge: float, mta_tax: float, tip_amount: float, tolls_amount: float, total_amount: float, start_cell: float, end_cell: float]"
      ]
     },
     "metadata": {},
     "output_type": "display_data"
    },
    {
     "data": {
      "text/plain": [
       "{'isDataAvailable': True,\n",
       " 'isTriggerActive': True,\n",
       " 'message': 'Processing new data'}"
      ]
     },
     "metadata": {},
     "output_type": "display_data"
    },
    {
     "data": {
      "text/plain": [
       "DataFrame[medallion: string, hack_license: string, pickup_datetime: timestamp, dropoff_datetime: timestamp, trip_time_in_secs: string, trip_distance: string, pickup_longitude: float, pickup_latitude: float, dropoff_longitude: float, dropoff_latitude: float, payment_type: string, fare_amount: float, surcharge: float, mta_tax: float, tip_amount: float, tolls_amount: float, total_amount: float, start_cell: float, end_cell: float]"
      ]
     },
     "metadata": {},
     "output_type": "display_data"
    },
    {
     "data": {
      "text/plain": [
       "{'isDataAvailable': True,\n",
       " 'isTriggerActive': True,\n",
       " 'message': 'Processing new data'}"
      ]
     },
     "metadata": {},
     "output_type": "display_data"
    },
    {
     "data": {
      "text/plain": [
       "DataFrame[medallion: string, hack_license: string, pickup_datetime: timestamp, dropoff_datetime: timestamp, trip_time_in_secs: string, trip_distance: string, pickup_longitude: float, pickup_latitude: float, dropoff_longitude: float, dropoff_latitude: float, payment_type: string, fare_amount: float, surcharge: float, mta_tax: float, tip_amount: float, tolls_amount: float, total_amount: float, start_cell: float, end_cell: float]"
      ]
     },
     "metadata": {},
     "output_type": "display_data"
    },
    {
     "data": {
      "text/plain": [
       "{'isDataAvailable': True,\n",
       " 'isTriggerActive': True,\n",
       " 'message': 'Processing new data'}"
      ]
     },
     "metadata": {},
     "output_type": "display_data"
    },
    {
     "data": {
      "text/plain": [
       "DataFrame[medallion: string, hack_license: string, pickup_datetime: timestamp, dropoff_datetime: timestamp, trip_time_in_secs: string, trip_distance: string, pickup_longitude: float, pickup_latitude: float, dropoff_longitude: float, dropoff_latitude: float, payment_type: string, fare_amount: float, surcharge: float, mta_tax: float, tip_amount: float, tolls_amount: float, total_amount: float, start_cell: float, end_cell: float]"
      ]
     },
     "metadata": {},
     "output_type": "display_data"
    },
    {
     "data": {
      "text/plain": [
       "{'isDataAvailable': True,\n",
       " 'isTriggerActive': True,\n",
       " 'message': 'Processing new data'}"
      ]
     },
     "metadata": {},
     "output_type": "display_data"
    },
    {
     "data": {
      "text/plain": [
       "DataFrame[medallion: string, hack_license: string, pickup_datetime: timestamp, dropoff_datetime: timestamp, trip_time_in_secs: string, trip_distance: string, pickup_longitude: float, pickup_latitude: float, dropoff_longitude: float, dropoff_latitude: float, payment_type: string, fare_amount: float, surcharge: float, mta_tax: float, tip_amount: float, tolls_amount: float, total_amount: float, start_cell: float, end_cell: float]"
      ]
     },
     "metadata": {},
     "output_type": "display_data"
    },
    {
     "data": {
      "text/plain": [
       "{'isDataAvailable': True,\n",
       " 'isTriggerActive': True,\n",
       " 'message': 'Processing new data'}"
      ]
     },
     "metadata": {},
     "output_type": "display_data"
    },
    {
     "data": {
      "text/plain": [
       "DataFrame[medallion: string, hack_license: string, pickup_datetime: timestamp, dropoff_datetime: timestamp, trip_time_in_secs: string, trip_distance: string, pickup_longitude: float, pickup_latitude: float, dropoff_longitude: float, dropoff_latitude: float, payment_type: string, fare_amount: float, surcharge: float, mta_tax: float, tip_amount: float, tolls_amount: float, total_amount: float, start_cell: float, end_cell: float]"
      ]
     },
     "metadata": {},
     "output_type": "display_data"
    },
    {
     "data": {
      "text/plain": [
       "{'isDataAvailable': True,\n",
       " 'isTriggerActive': True,\n",
       " 'message': 'Processing new data'}"
      ]
     },
     "metadata": {},
     "output_type": "display_data"
    },
    {
     "data": {
      "text/plain": [
       "DataFrame[medallion: string, hack_license: string, pickup_datetime: timestamp, dropoff_datetime: timestamp, trip_time_in_secs: string, trip_distance: string, pickup_longitude: float, pickup_latitude: float, dropoff_longitude: float, dropoff_latitude: float, payment_type: string, fare_amount: float, surcharge: float, mta_tax: float, tip_amount: float, tolls_amount: float, total_amount: float, start_cell: float, end_cell: float]"
      ]
     },
     "metadata": {},
     "output_type": "display_data"
    },
    {
     "data": {
      "text/plain": [
       "{'isDataAvailable': True,\n",
       " 'isTriggerActive': True,\n",
       " 'message': 'Processing new data'}"
      ]
     },
     "metadata": {},
     "output_type": "display_data"
    },
    {
     "data": {
      "text/plain": [
       "DataFrame[medallion: string, hack_license: string, pickup_datetime: timestamp, dropoff_datetime: timestamp, trip_time_in_secs: string, trip_distance: string, pickup_longitude: float, pickup_latitude: float, dropoff_longitude: float, dropoff_latitude: float, payment_type: string, fare_amount: float, surcharge: float, mta_tax: float, tip_amount: float, tolls_amount: float, total_amount: float, start_cell: float, end_cell: float]"
      ]
     },
     "metadata": {},
     "output_type": "display_data"
    },
    {
     "data": {
      "text/plain": [
       "{'isDataAvailable': True,\n",
       " 'isTriggerActive': True,\n",
       " 'message': 'Processing new data'}"
      ]
     },
     "metadata": {},
     "output_type": "display_data"
    },
    {
     "data": {
      "text/plain": [
       "DataFrame[medallion: string, hack_license: string, pickup_datetime: timestamp, dropoff_datetime: timestamp, trip_time_in_secs: string, trip_distance: string, pickup_longitude: float, pickup_latitude: float, dropoff_longitude: float, dropoff_latitude: float, payment_type: string, fare_amount: float, surcharge: float, mta_tax: float, tip_amount: float, tolls_amount: float, total_amount: float, start_cell: float, end_cell: float]"
      ]
     },
     "metadata": {},
     "output_type": "display_data"
    },
    {
     "data": {
      "text/plain": [
       "{'isDataAvailable': True,\n",
       " 'isTriggerActive': True,\n",
       " 'message': 'Processing new data'}"
      ]
     },
     "metadata": {},
     "output_type": "display_data"
    },
    {
     "data": {
      "text/plain": [
       "DataFrame[medallion: string, hack_license: string, pickup_datetime: timestamp, dropoff_datetime: timestamp, trip_time_in_secs: string, trip_distance: string, pickup_longitude: float, pickup_latitude: float, dropoff_longitude: float, dropoff_latitude: float, payment_type: string, fare_amount: float, surcharge: float, mta_tax: float, tip_amount: float, tolls_amount: float, total_amount: float, start_cell: float, end_cell: float]"
      ]
     },
     "metadata": {},
     "output_type": "display_data"
    },
    {
     "data": {
      "text/plain": [
       "{'isDataAvailable': True,\n",
       " 'isTriggerActive': True,\n",
       " 'message': 'Processing new data'}"
      ]
     },
     "metadata": {},
     "output_type": "display_data"
    },
    {
     "data": {
      "text/plain": [
       "DataFrame[medallion: string, hack_license: string, pickup_datetime: timestamp, dropoff_datetime: timestamp, trip_time_in_secs: string, trip_distance: string, pickup_longitude: float, pickup_latitude: float, dropoff_longitude: float, dropoff_latitude: float, payment_type: string, fare_amount: float, surcharge: float, mta_tax: float, tip_amount: float, tolls_amount: float, total_amount: float, start_cell: float, end_cell: float]"
      ]
     },
     "metadata": {},
     "output_type": "display_data"
    },
    {
     "data": {
      "text/plain": [
       "{'isDataAvailable': True,\n",
       " 'isTriggerActive': True,\n",
       " 'message': 'Processing new data'}"
      ]
     },
     "metadata": {},
     "output_type": "display_data"
    },
    {
     "data": {
      "text/plain": [
       "DataFrame[medallion: string, hack_license: string, pickup_datetime: timestamp, dropoff_datetime: timestamp, trip_time_in_secs: string, trip_distance: string, pickup_longitude: float, pickup_latitude: float, dropoff_longitude: float, dropoff_latitude: float, payment_type: string, fare_amount: float, surcharge: float, mta_tax: float, tip_amount: float, tolls_amount: float, total_amount: float, start_cell: float, end_cell: float]"
      ]
     },
     "metadata": {},
     "output_type": "display_data"
    },
    {
     "data": {
      "text/plain": [
       "{'isDataAvailable': True,\n",
       " 'isTriggerActive': True,\n",
       " 'message': 'Processing new data'}"
      ]
     },
     "metadata": {},
     "output_type": "display_data"
    },
    {
     "data": {
      "text/plain": [
       "DataFrame[medallion: string, hack_license: string, pickup_datetime: timestamp, dropoff_datetime: timestamp, trip_time_in_secs: string, trip_distance: string, pickup_longitude: float, pickup_latitude: float, dropoff_longitude: float, dropoff_latitude: float, payment_type: string, fare_amount: float, surcharge: float, mta_tax: float, tip_amount: float, tolls_amount: float, total_amount: float, start_cell: float, end_cell: float]"
      ]
     },
     "metadata": {},
     "output_type": "display_data"
    },
    {
     "data": {
      "text/plain": [
       "{'isDataAvailable': True,\n",
       " 'isTriggerActive': True,\n",
       " 'message': 'Processing new data'}"
      ]
     },
     "metadata": {},
     "output_type": "display_data"
    },
    {
     "data": {
      "text/plain": [
       "DataFrame[medallion: string, hack_license: string, pickup_datetime: timestamp, dropoff_datetime: timestamp, trip_time_in_secs: string, trip_distance: string, pickup_longitude: float, pickup_latitude: float, dropoff_longitude: float, dropoff_latitude: float, payment_type: string, fare_amount: float, surcharge: float, mta_tax: float, tip_amount: float, tolls_amount: float, total_amount: float, start_cell: float, end_cell: float]"
      ]
     },
     "metadata": {},
     "output_type": "display_data"
    },
    {
     "data": {
      "text/plain": [
       "{'isDataAvailable': True,\n",
       " 'isTriggerActive': True,\n",
       " 'message': 'Processing new data'}"
      ]
     },
     "metadata": {},
     "output_type": "display_data"
    },
    {
     "data": {
      "text/plain": [
       "DataFrame[medallion: string, hack_license: string, pickup_datetime: timestamp, dropoff_datetime: timestamp, trip_time_in_secs: string, trip_distance: string, pickup_longitude: float, pickup_latitude: float, dropoff_longitude: float, dropoff_latitude: float, payment_type: string, fare_amount: float, surcharge: float, mta_tax: float, tip_amount: float, tolls_amount: float, total_amount: float, start_cell: float, end_cell: float]"
      ]
     },
     "metadata": {},
     "output_type": "display_data"
    },
    {
     "data": {
      "text/plain": [
       "{'isDataAvailable': True,\n",
       " 'isTriggerActive': True,\n",
       " 'message': 'Processing new data'}"
      ]
     },
     "metadata": {},
     "output_type": "display_data"
    },
    {
     "data": {
      "text/plain": [
       "DataFrame[medallion: string, hack_license: string, pickup_datetime: timestamp, dropoff_datetime: timestamp, trip_time_in_secs: string, trip_distance: string, pickup_longitude: float, pickup_latitude: float, dropoff_longitude: float, dropoff_latitude: float, payment_type: string, fare_amount: float, surcharge: float, mta_tax: float, tip_amount: float, tolls_amount: float, total_amount: float, start_cell: float, end_cell: float]"
      ]
     },
     "metadata": {},
     "output_type": "display_data"
    },
    {
     "data": {
      "text/plain": [
       "{'isDataAvailable': True,\n",
       " 'isTriggerActive': True,\n",
       " 'message': 'Processing new data'}"
      ]
     },
     "metadata": {},
     "output_type": "display_data"
    },
    {
     "data": {
      "text/plain": [
       "DataFrame[medallion: string, hack_license: string, pickup_datetime: timestamp, dropoff_datetime: timestamp, trip_time_in_secs: string, trip_distance: string, pickup_longitude: float, pickup_latitude: float, dropoff_longitude: float, dropoff_latitude: float, payment_type: string, fare_amount: float, surcharge: float, mta_tax: float, tip_amount: float, tolls_amount: float, total_amount: float, start_cell: float, end_cell: float]"
      ]
     },
     "metadata": {},
     "output_type": "display_data"
    },
    {
     "data": {
      "text/plain": [
       "{'isDataAvailable': True,\n",
       " 'isTriggerActive': True,\n",
       " 'message': 'Processing new data'}"
      ]
     },
     "metadata": {},
     "output_type": "display_data"
    },
    {
     "data": {
      "text/plain": [
       "DataFrame[medallion: string, hack_license: string, pickup_datetime: timestamp, dropoff_datetime: timestamp, trip_time_in_secs: string, trip_distance: string, pickup_longitude: float, pickup_latitude: float, dropoff_longitude: float, dropoff_latitude: float, payment_type: string, fare_amount: float, surcharge: float, mta_tax: float, tip_amount: float, tolls_amount: float, total_amount: float, start_cell: float, end_cell: float]"
      ]
     },
     "metadata": {},
     "output_type": "display_data"
    },
    {
     "data": {
      "text/plain": [
       "{'isDataAvailable': True,\n",
       " 'isTriggerActive': True,\n",
       " 'message': 'Processing new data'}"
      ]
     },
     "metadata": {},
     "output_type": "display_data"
    },
    {
     "data": {
      "text/plain": [
       "DataFrame[medallion: string, hack_license: string, pickup_datetime: timestamp, dropoff_datetime: timestamp, trip_time_in_secs: string, trip_distance: string, pickup_longitude: float, pickup_latitude: float, dropoff_longitude: float, dropoff_latitude: float, payment_type: string, fare_amount: float, surcharge: float, mta_tax: float, tip_amount: float, tolls_amount: float, total_amount: float, start_cell: float, end_cell: float]"
      ]
     },
     "metadata": {},
     "output_type": "display_data"
    },
    {
     "data": {
      "text/plain": [
       "{'isDataAvailable': True,\n",
       " 'isTriggerActive': True,\n",
       " 'message': 'Processing new data'}"
      ]
     },
     "metadata": {},
     "output_type": "display_data"
    },
    {
     "data": {
      "text/plain": [
       "DataFrame[medallion: string, hack_license: string, pickup_datetime: timestamp, dropoff_datetime: timestamp, trip_time_in_secs: string, trip_distance: string, pickup_longitude: float, pickup_latitude: float, dropoff_longitude: float, dropoff_latitude: float, payment_type: string, fare_amount: float, surcharge: float, mta_tax: float, tip_amount: float, tolls_amount: float, total_amount: float, start_cell: float, end_cell: float]"
      ]
     },
     "metadata": {},
     "output_type": "display_data"
    },
    {
     "data": {
      "text/plain": [
       "{'isDataAvailable': True,\n",
       " 'isTriggerActive': True,\n",
       " 'message': 'Processing new data'}"
      ]
     },
     "metadata": {},
     "output_type": "display_data"
    },
    {
     "data": {
      "text/plain": [
       "DataFrame[medallion: string, hack_license: string, pickup_datetime: timestamp, dropoff_datetime: timestamp, trip_time_in_secs: string, trip_distance: string, pickup_longitude: float, pickup_latitude: float, dropoff_longitude: float, dropoff_latitude: float, payment_type: string, fare_amount: float, surcharge: float, mta_tax: float, tip_amount: float, tolls_amount: float, total_amount: float, start_cell: float, end_cell: float]"
      ]
     },
     "metadata": {},
     "output_type": "display_data"
    },
    {
     "data": {
      "text/plain": [
       "{'isDataAvailable': True,\n",
       " 'isTriggerActive': True,\n",
       " 'message': 'Processing new data'}"
      ]
     },
     "metadata": {},
     "output_type": "display_data"
    },
    {
     "data": {
      "text/plain": [
       "DataFrame[medallion: string, hack_license: string, pickup_datetime: timestamp, dropoff_datetime: timestamp, trip_time_in_secs: string, trip_distance: string, pickup_longitude: float, pickup_latitude: float, dropoff_longitude: float, dropoff_latitude: float, payment_type: string, fare_amount: float, surcharge: float, mta_tax: float, tip_amount: float, tolls_amount: float, total_amount: float, start_cell: float, end_cell: float]"
      ]
     },
     "metadata": {},
     "output_type": "display_data"
    },
    {
     "data": {
      "text/plain": [
       "{'isDataAvailable': True,\n",
       " 'isTriggerActive': True,\n",
       " 'message': 'Processing new data'}"
      ]
     },
     "metadata": {},
     "output_type": "display_data"
    },
    {
     "data": {
      "text/plain": [
       "DataFrame[medallion: string, hack_license: string, pickup_datetime: timestamp, dropoff_datetime: timestamp, trip_time_in_secs: string, trip_distance: string, pickup_longitude: float, pickup_latitude: float, dropoff_longitude: float, dropoff_latitude: float, payment_type: string, fare_amount: float, surcharge: float, mta_tax: float, tip_amount: float, tolls_amount: float, total_amount: float, start_cell: float, end_cell: float]"
      ]
     },
     "metadata": {},
     "output_type": "display_data"
    },
    {
     "data": {
      "text/plain": [
       "{'isDataAvailable': True,\n",
       " 'isTriggerActive': True,\n",
       " 'message': 'Processing new data'}"
      ]
     },
     "metadata": {},
     "output_type": "display_data"
    },
    {
     "data": {
      "text/plain": [
       "DataFrame[medallion: string, hack_license: string, pickup_datetime: timestamp, dropoff_datetime: timestamp, trip_time_in_secs: string, trip_distance: string, pickup_longitude: float, pickup_latitude: float, dropoff_longitude: float, dropoff_latitude: float, payment_type: string, fare_amount: float, surcharge: float, mta_tax: float, tip_amount: float, tolls_amount: float, total_amount: float, start_cell: float, end_cell: float]"
      ]
     },
     "metadata": {},
     "output_type": "display_data"
    },
    {
     "name": "stdout",
     "output_type": "stream",
     "text": [
      "+-------------------+--------------------+-----+----------+--------+-----+-----------------+\n",
      "|pickup_datetime    |dropoff_datetime    |cells|start_cell|end_cell|count|delay(in seconds)|\n",
      "+-------------------+--------------------+-----+----------+--------+-----+-----------------+\n",
      "|2013-03-01 02:00:00|2013-03-01 02:30:00}|1    |202.163   |204.167 |4    |0.711584         |\n",
      "|2013-03-01 02:00:00|2013-03-01 02:30:00}|2    |202.163   |202.162 |3    |0.711584         |\n",
      "|2013-03-01 02:00:00|2013-03-01 02:30:00}|3    |201.163   |204.168 |3    |0.711584         |\n",
      "|2013-03-01 02:00:00|2013-03-01 02:30:00}|4    |204.163   |207.158 |2    |0.711584         |\n",
      "|2013-03-01 02:00:00|2013-03-01 02:30:00}|5    |211.159   |201.163 |2    |0.711584         |\n",
      "|2013-03-01 02:00:00|2013-03-01 02:30:00}|6    |202.167   |201.169 |2    |0.711584         |\n",
      "|2013-03-01 02:00:00|2013-03-01 02:30:00}|7    |207.165   |213.157 |2    |0.711584         |\n",
      "|2013-03-01 02:00:00|2013-03-01 02:30:00}|8    |202.163   |206.164 |2    |0.711584         |\n",
      "|2013-03-01 02:00:00|2013-03-01 02:30:00}|9    |203.161   |206.159 |2    |0.711584         |\n",
      "|2013-03-01 02:00:00|2013-03-01 02:30:00}|10   |205.167   |202.165 |2    |0.711584         |\n",
      "|2013-03-02 16:00:00|2013-03-02 16:30:00}|1    |212.155   |210.158 |5    |0.711584         |\n",
      "|2013-03-02 16:00:00|2013-03-02 16:30:00}|2    |206.159   |205.161 |4    |0.711584         |\n",
      "|2013-03-02 16:00:00|2013-03-02 16:30:00}|3    |209.158   |205.161 |4    |0.711584         |\n",
      "|2013-03-02 16:00:00|2013-03-02 16:30:00}|4    |209.158   |211.156 |4    |0.711584         |\n",
      "|2013-03-02 16:00:00|2013-03-02 16:30:00}|5    |201.168   |202.166 |3    |0.711584         |\n",
      "|2013-03-02 16:00:00|2013-03-02 16:30:00}|6    |213.155   |209.161 |3    |0.711584         |\n",
      "|2013-03-02 16:00:00|2013-03-02 16:30:00}|7    |205.163   |205.161 |3    |0.711584         |\n",
      "|2013-03-02 16:00:00|2013-03-02 16:30:00}|8    |208.158   |205.161 |3    |0.711584         |\n",
      "|2013-03-02 16:00:00|2013-03-02 16:30:00}|9    |209.158   |208.159 |3    |0.711584         |\n",
      "|2013-03-02 16:00:00|2013-03-02 16:30:00}|10   |208.159   |206.162 |3    |0.711584         |\n",
      "+-------------------+--------------------+-----+----------+--------+-----+-----------------+\n",
      "only showing top 20 rows\n",
      "\n"
     ]
    },
    {
     "data": {
      "text/plain": [
       "{'isDataAvailable': True,\n",
       " 'isTriggerActive': True,\n",
       " 'message': 'Processing new data'}"
      ]
     },
     "metadata": {},
     "output_type": "display_data"
    },
    {
     "data": {
      "text/plain": [
       "DataFrame[medallion: string, hack_license: string, pickup_datetime: timestamp, dropoff_datetime: timestamp, trip_time_in_secs: string, trip_distance: string, pickup_longitude: float, pickup_latitude: float, dropoff_longitude: float, dropoff_latitude: float, payment_type: string, fare_amount: float, surcharge: float, mta_tax: float, tip_amount: float, tolls_amount: float, total_amount: float, start_cell: float, end_cell: float]"
      ]
     },
     "metadata": {},
     "output_type": "display_data"
    },
    {
     "data": {
      "text/plain": [
       "{'isDataAvailable': True,\n",
       " 'isTriggerActive': True,\n",
       " 'message': 'Processing new data'}"
      ]
     },
     "metadata": {},
     "output_type": "display_data"
    },
    {
     "data": {
      "text/plain": [
       "DataFrame[medallion: string, hack_license: string, pickup_datetime: timestamp, dropoff_datetime: timestamp, trip_time_in_secs: string, trip_distance: string, pickup_longitude: float, pickup_latitude: float, dropoff_longitude: float, dropoff_latitude: float, payment_type: string, fare_amount: float, surcharge: float, mta_tax: float, tip_amount: float, tolls_amount: float, total_amount: float, start_cell: float, end_cell: float]"
      ]
     },
     "metadata": {},
     "output_type": "display_data"
    },
    {
     "data": {
      "text/plain": [
       "{'isDataAvailable': True,\n",
       " 'isTriggerActive': True,\n",
       " 'message': 'Processing new data'}"
      ]
     },
     "metadata": {},
     "output_type": "display_data"
    },
    {
     "data": {
      "text/plain": [
       "DataFrame[medallion: string, hack_license: string, pickup_datetime: timestamp, dropoff_datetime: timestamp, trip_time_in_secs: string, trip_distance: string, pickup_longitude: float, pickup_latitude: float, dropoff_longitude: float, dropoff_latitude: float, payment_type: string, fare_amount: float, surcharge: float, mta_tax: float, tip_amount: float, tolls_amount: float, total_amount: float, start_cell: float, end_cell: float]"
      ]
     },
     "metadata": {},
     "output_type": "display_data"
    },
    {
     "data": {
      "text/plain": [
       "{'isDataAvailable': True,\n",
       " 'isTriggerActive': True,\n",
       " 'message': 'Processing new data'}"
      ]
     },
     "metadata": {},
     "output_type": "display_data"
    },
    {
     "data": {
      "text/plain": [
       "DataFrame[medallion: string, hack_license: string, pickup_datetime: timestamp, dropoff_datetime: timestamp, trip_time_in_secs: string, trip_distance: string, pickup_longitude: float, pickup_latitude: float, dropoff_longitude: float, dropoff_latitude: float, payment_type: string, fare_amount: float, surcharge: float, mta_tax: float, tip_amount: float, tolls_amount: float, total_amount: float, start_cell: float, end_cell: float]"
      ]
     },
     "metadata": {},
     "output_type": "display_data"
    },
    {
     "data": {
      "text/plain": [
       "{'isDataAvailable': True,\n",
       " 'isTriggerActive': True,\n",
       " 'message': 'Processing new data'}"
      ]
     },
     "metadata": {},
     "output_type": "display_data"
    },
    {
     "data": {
      "text/plain": [
       "DataFrame[medallion: string, hack_license: string, pickup_datetime: timestamp, dropoff_datetime: timestamp, trip_time_in_secs: string, trip_distance: string, pickup_longitude: float, pickup_latitude: float, dropoff_longitude: float, dropoff_latitude: float, payment_type: string, fare_amount: float, surcharge: float, mta_tax: float, tip_amount: float, tolls_amount: float, total_amount: float, start_cell: float, end_cell: float]"
      ]
     },
     "metadata": {},
     "output_type": "display_data"
    },
    {
     "data": {
      "text/plain": [
       "{'isDataAvailable': True,\n",
       " 'isTriggerActive': True,\n",
       " 'message': 'Processing new data'}"
      ]
     },
     "metadata": {},
     "output_type": "display_data"
    },
    {
     "data": {
      "text/plain": [
       "DataFrame[medallion: string, hack_license: string, pickup_datetime: timestamp, dropoff_datetime: timestamp, trip_time_in_secs: string, trip_distance: string, pickup_longitude: float, pickup_latitude: float, dropoff_longitude: float, dropoff_latitude: float, payment_type: string, fare_amount: float, surcharge: float, mta_tax: float, tip_amount: float, tolls_amount: float, total_amount: float, start_cell: float, end_cell: float]"
      ]
     },
     "metadata": {},
     "output_type": "display_data"
    },
    {
     "data": {
      "text/plain": [
       "{'isDataAvailable': True,\n",
       " 'isTriggerActive': True,\n",
       " 'message': 'Processing new data'}"
      ]
     },
     "metadata": {},
     "output_type": "display_data"
    },
    {
     "data": {
      "text/plain": [
       "DataFrame[medallion: string, hack_license: string, pickup_datetime: timestamp, dropoff_datetime: timestamp, trip_time_in_secs: string, trip_distance: string, pickup_longitude: float, pickup_latitude: float, dropoff_longitude: float, dropoff_latitude: float, payment_type: string, fare_amount: float, surcharge: float, mta_tax: float, tip_amount: float, tolls_amount: float, total_amount: float, start_cell: float, end_cell: float]"
      ]
     },
     "metadata": {},
     "output_type": "display_data"
    },
    {
     "data": {
      "text/plain": [
       "{'isDataAvailable': True,\n",
       " 'isTriggerActive': True,\n",
       " 'message': 'Processing new data'}"
      ]
     },
     "metadata": {},
     "output_type": "display_data"
    },
    {
     "data": {
      "text/plain": [
       "DataFrame[medallion: string, hack_license: string, pickup_datetime: timestamp, dropoff_datetime: timestamp, trip_time_in_secs: string, trip_distance: string, pickup_longitude: float, pickup_latitude: float, dropoff_longitude: float, dropoff_latitude: float, payment_type: string, fare_amount: float, surcharge: float, mta_tax: float, tip_amount: float, tolls_amount: float, total_amount: float, start_cell: float, end_cell: float]"
      ]
     },
     "metadata": {},
     "output_type": "display_data"
    },
    {
     "data": {
      "text/plain": [
       "{'isDataAvailable': True,\n",
       " 'isTriggerActive': True,\n",
       " 'message': 'Processing new data'}"
      ]
     },
     "metadata": {},
     "output_type": "display_data"
    },
    {
     "data": {
      "text/plain": [
       "DataFrame[medallion: string, hack_license: string, pickup_datetime: timestamp, dropoff_datetime: timestamp, trip_time_in_secs: string, trip_distance: string, pickup_longitude: float, pickup_latitude: float, dropoff_longitude: float, dropoff_latitude: float, payment_type: string, fare_amount: float, surcharge: float, mta_tax: float, tip_amount: float, tolls_amount: float, total_amount: float, start_cell: float, end_cell: float]"
      ]
     },
     "metadata": {},
     "output_type": "display_data"
    },
    {
     "data": {
      "text/plain": [
       "{'isDataAvailable': True,\n",
       " 'isTriggerActive': True,\n",
       " 'message': 'Processing new data'}"
      ]
     },
     "metadata": {},
     "output_type": "display_data"
    },
    {
     "data": {
      "text/plain": [
       "DataFrame[medallion: string, hack_license: string, pickup_datetime: timestamp, dropoff_datetime: timestamp, trip_time_in_secs: string, trip_distance: string, pickup_longitude: float, pickup_latitude: float, dropoff_longitude: float, dropoff_latitude: float, payment_type: string, fare_amount: float, surcharge: float, mta_tax: float, tip_amount: float, tolls_amount: float, total_amount: float, start_cell: float, end_cell: float]"
      ]
     },
     "metadata": {},
     "output_type": "display_data"
    },
    {
     "data": {
      "text/plain": [
       "{'isDataAvailable': True,\n",
       " 'isTriggerActive': True,\n",
       " 'message': 'Processing new data'}"
      ]
     },
     "metadata": {},
     "output_type": "display_data"
    },
    {
     "data": {
      "text/plain": [
       "DataFrame[medallion: string, hack_license: string, pickup_datetime: timestamp, dropoff_datetime: timestamp, trip_time_in_secs: string, trip_distance: string, pickup_longitude: float, pickup_latitude: float, dropoff_longitude: float, dropoff_latitude: float, payment_type: string, fare_amount: float, surcharge: float, mta_tax: float, tip_amount: float, tolls_amount: float, total_amount: float, start_cell: float, end_cell: float]"
      ]
     },
     "metadata": {},
     "output_type": "display_data"
    },
    {
     "data": {
      "text/plain": [
       "{'isDataAvailable': True,\n",
       " 'isTriggerActive': True,\n",
       " 'message': 'Processing new data'}"
      ]
     },
     "metadata": {},
     "output_type": "display_data"
    },
    {
     "data": {
      "text/plain": [
       "DataFrame[medallion: string, hack_license: string, pickup_datetime: timestamp, dropoff_datetime: timestamp, trip_time_in_secs: string, trip_distance: string, pickup_longitude: float, pickup_latitude: float, dropoff_longitude: float, dropoff_latitude: float, payment_type: string, fare_amount: float, surcharge: float, mta_tax: float, tip_amount: float, tolls_amount: float, total_amount: float, start_cell: float, end_cell: float]"
      ]
     },
     "metadata": {},
     "output_type": "display_data"
    },
    {
     "data": {
      "text/plain": [
       "{'isDataAvailable': True,\n",
       " 'isTriggerActive': True,\n",
       " 'message': 'Processing new data'}"
      ]
     },
     "metadata": {},
     "output_type": "display_data"
    },
    {
     "data": {
      "text/plain": [
       "DataFrame[medallion: string, hack_license: string, pickup_datetime: timestamp, dropoff_datetime: timestamp, trip_time_in_secs: string, trip_distance: string, pickup_longitude: float, pickup_latitude: float, dropoff_longitude: float, dropoff_latitude: float, payment_type: string, fare_amount: float, surcharge: float, mta_tax: float, tip_amount: float, tolls_amount: float, total_amount: float, start_cell: float, end_cell: float]"
      ]
     },
     "metadata": {},
     "output_type": "display_data"
    },
    {
     "data": {
      "text/plain": [
       "{'isDataAvailable': True,\n",
       " 'isTriggerActive': True,\n",
       " 'message': 'Processing new data'}"
      ]
     },
     "metadata": {},
     "output_type": "display_data"
    },
    {
     "data": {
      "text/plain": [
       "DataFrame[medallion: string, hack_license: string, pickup_datetime: timestamp, dropoff_datetime: timestamp, trip_time_in_secs: string, trip_distance: string, pickup_longitude: float, pickup_latitude: float, dropoff_longitude: float, dropoff_latitude: float, payment_type: string, fare_amount: float, surcharge: float, mta_tax: float, tip_amount: float, tolls_amount: float, total_amount: float, start_cell: float, end_cell: float]"
      ]
     },
     "metadata": {},
     "output_type": "display_data"
    },
    {
     "data": {
      "text/plain": [
       "{'isDataAvailable': True,\n",
       " 'isTriggerActive': True,\n",
       " 'message': 'Processing new data'}"
      ]
     },
     "metadata": {},
     "output_type": "display_data"
    },
    {
     "data": {
      "text/plain": [
       "DataFrame[medallion: string, hack_license: string, pickup_datetime: timestamp, dropoff_datetime: timestamp, trip_time_in_secs: string, trip_distance: string, pickup_longitude: float, pickup_latitude: float, dropoff_longitude: float, dropoff_latitude: float, payment_type: string, fare_amount: float, surcharge: float, mta_tax: float, tip_amount: float, tolls_amount: float, total_amount: float, start_cell: float, end_cell: float]"
      ]
     },
     "metadata": {},
     "output_type": "display_data"
    },
    {
     "data": {
      "text/plain": [
       "{'isDataAvailable': True,\n",
       " 'isTriggerActive': True,\n",
       " 'message': 'Processing new data'}"
      ]
     },
     "metadata": {},
     "output_type": "display_data"
    },
    {
     "data": {
      "text/plain": [
       "DataFrame[medallion: string, hack_license: string, pickup_datetime: timestamp, dropoff_datetime: timestamp, trip_time_in_secs: string, trip_distance: string, pickup_longitude: float, pickup_latitude: float, dropoff_longitude: float, dropoff_latitude: float, payment_type: string, fare_amount: float, surcharge: float, mta_tax: float, tip_amount: float, tolls_amount: float, total_amount: float, start_cell: float, end_cell: float]"
      ]
     },
     "metadata": {},
     "output_type": "display_data"
    },
    {
     "name": "stdout",
     "output_type": "stream",
     "text": [
      "+-------------------+--------------------+-----+----------+--------+-----+-----------------+\n",
      "|pickup_datetime    |dropoff_datetime    |cells|start_cell|end_cell|count|delay(in seconds)|\n",
      "+-------------------+--------------------+-----+----------+--------+-----+-----------------+\n",
      "|2013-02-03 06:30:00|2013-02-03 07:00:00}|1    |213.156   |212.155 |2    |0.174929         |\n",
      "|2013-02-03 06:30:00|2013-02-03 07:00:00}|2    |205.16    |206.162 |2    |0.174929         |\n",
      "|2013-02-03 06:30:00|2013-02-03 07:00:00}|3    |204.163   |205.16  |2    |0.174929         |\n",
      "|2013-02-03 06:30:00|2013-02-03 07:00:00}|4    |212.158   |206.159 |2    |0.174929         |\n",
      "|2013-02-03 06:30:00|2013-02-03 07:00:00}|5    |213.155   |210.159 |2    |0.174929         |\n",
      "|2013-02-03 06:30:00|2013-02-03 07:00:00}|6    |210.16    |204.158 |2    |0.174929         |\n",
      "|2013-02-03 06:30:00|2013-02-03 07:00:00}|7    |205.161   |205.159 |2    |0.174929         |\n",
      "|2013-02-03 06:30:00|2013-02-03 07:00:00}|8    |221.162   |215.155 |1    |0.174929         |\n",
      "|2013-02-03 06:30:00|2013-02-03 07:00:00}|9    |205.167   |218.176 |1    |0.174929         |\n",
      "|2013-02-03 06:30:00|2013-02-03 07:00:00}|10   |200.171   |213.154 |1    |0.174929         |\n",
      "|2013-02-10 02:30:00|2013-02-10 03:00:00}|1    |205.165   |207.163 |4    |0.174929         |\n",
      "|2013-02-10 02:30:00|2013-02-10 03:00:00}|2    |205.166   |207.163 |4    |0.174929         |\n",
      "|2013-02-10 02:30:00|2013-02-10 03:00:00}|3    |205.165   |207.162 |3    |0.174929         |\n",
      "|2013-02-10 02:30:00|2013-02-10 03:00:00}|4    |206.164   |213.156 |3    |0.174929         |\n",
      "|2013-02-10 02:30:00|2013-02-10 03:00:00}|5    |205.166   |205.167 |3    |0.174929         |\n",
      "|2013-02-10 02:30:00|2013-02-10 03:00:00}|6    |206.166   |207.163 |3    |0.174929         |\n",
      "|2013-02-10 02:30:00|2013-02-10 03:00:00}|7    |205.162   |205.166 |3    |0.174929         |\n",
      "|2013-02-10 02:30:00|2013-02-10 03:00:00}|8    |202.163   |212.156 |3    |0.174929         |\n",
      "|2013-02-10 02:30:00|2013-02-10 03:00:00}|9    |206.165   |205.166 |3    |0.174929         |\n",
      "|2013-02-10 02:30:00|2013-02-10 03:00:00}|10   |205.167   |208.163 |3    |0.174929         |\n",
      "+-------------------+--------------------+-----+----------+--------+-----+-----------------+\n",
      "only showing top 20 rows\n",
      "\n",
      "+-------------------+--------------------+-----+----------+--------+-----+-----------------+\n",
      "|pickup_datetime    |dropoff_datetime    |cells|start_cell|end_cell|count|delay(in seconds)|\n",
      "+-------------------+--------------------+-----+----------+--------+-----+-----------------+\n",
      "|2013-01-04 04:30:00|2013-01-04 05:00:00}|1    |204.157   |211.159 |1    |0.153221         |\n",
      "|2013-01-04 04:30:00|2013-01-04 05:00:00}|2    |206.159   |205.16  |1    |0.153221         |\n",
      "|2013-01-04 04:30:00|2013-01-04 05:00:00}|3    |209.158   |221.158 |1    |0.153221         |\n",
      "|2013-01-04 04:30:00|2013-01-04 05:00:00}|4    |211.158   |210.158 |1    |0.153221         |\n",
      "|2013-01-04 04:30:00|2013-01-04 05:00:00}|5    |208.154   |210.153 |1    |0.153221         |\n",
      "|2013-01-04 04:30:00|2013-01-04 05:00:00}|6    |207.166   |202.163 |1    |0.153221         |\n",
      "|2013-01-04 04:30:00|2013-01-04 05:00:00}|7    |206.16    |231.155 |1    |0.153221         |\n",
      "|2013-01-04 04:30:00|2013-01-04 05:00:00}|8    |215.155   |232.156 |1    |0.153221         |\n",
      "|2013-01-04 04:30:00|2013-01-04 05:00:00}|9    |203.166   |216.152 |1    |0.153221         |\n",
      "|2013-01-04 04:30:00|2013-01-04 05:00:00}|10   |207.165   |202.165 |1    |0.153221         |\n",
      "|2013-01-05 01:00:00|2013-01-05 01:30:00}|1    |205.167   |205.162 |5    |0.153221         |\n",
      "|2013-01-05 01:00:00|2013-01-05 01:30:00}|2    |207.155   |209.153 |4    |0.153221         |\n",
      "|2013-01-05 01:00:00|2013-01-05 01:30:00}|3    |205.166   |207.163 |4    |0.153221         |\n",
      "|2013-01-05 01:00:00|2013-01-05 01:30:00}|4    |210.159   |205.161 |4    |0.153221         |\n",
      "|2013-01-05 01:00:00|2013-01-05 01:30:00}|5    |205.168   |204.167 |3    |0.153221         |\n",
      "|2013-01-05 01:00:00|2013-01-05 01:30:00}|6    |202.163   |201.165 |3    |0.153221         |\n",
      "|2013-01-05 01:00:00|2013-01-05 01:30:00}|7    |210.158   |206.161 |3    |0.153221         |\n",
      "|2013-01-05 01:00:00|2013-01-05 01:30:00}|8    |206.168   |207.166 |3    |0.153221         |\n",
      "|2013-01-05 01:00:00|2013-01-05 01:30:00}|9    |202.168   |205.168 |3    |0.153221         |\n",
      "|2013-01-05 01:00:00|2013-01-05 01:30:00}|10   |206.163   |205.167 |3    |0.153221         |\n",
      "+-------------------+--------------------+-----+----------+--------+-----+-----------------+\n",
      "only showing top 20 rows\n",
      "\n",
      "+-------------------+--------------------+-----+----------+--------+-----+-----------------+\n",
      "|pickup_datetime    |dropoff_datetime    |cells|start_cell|end_cell|count|delay(in seconds)|\n",
      "+-------------------+--------------------+-----+----------+--------+-----+-----------------+\n",
      "|2013-04-03 08:30:00|2013-04-03 09:00:00}|1    |208.16    |209.158 |10   |0.310917         |\n",
      "|2013-04-03 08:30:00|2013-04-03 09:00:00}|2    |205.161   |205.163 |9    |0.310917         |\n",
      "|2013-04-03 08:30:00|2013-04-03 09:00:00}|3    |205.161   |206.162 |7    |0.310917         |\n",
      "|2013-04-03 08:30:00|2013-04-03 09:00:00}|4    |211.156   |213.157 |5    |0.310917         |\n",
      "|2013-04-03 08:30:00|2013-04-03 09:00:00}|5    |208.16    |208.158 |5    |0.310917         |\n",
      "|2013-04-03 08:30:00|2013-04-03 09:00:00}|6    |208.161   |209.159 |5    |0.310917         |\n",
      "|2013-04-03 08:30:00|2013-04-03 09:00:00}|7    |212.155   |209.158 |5    |0.310917         |\n",
      "|2013-04-03 08:30:00|2013-04-03 09:00:00}|8    |211.159   |208.159 |5    |0.310917         |\n",
      "|2013-04-03 08:30:00|2013-04-03 09:00:00}|9    |208.16    |207.158 |4    |0.310917         |\n",
      "|2013-04-03 08:30:00|2013-04-03 09:00:00}|10   |212.158   |209.16  |4    |0.310917         |\n",
      "|2013-04-06 02:30:00|2013-04-06 03:00:00}|1    |204.167   |202.163 |4    |0.310917         |\n",
      "|2013-04-06 02:30:00|2013-04-06 03:00:00}|2    |203.165   |202.163 |4    |0.310917         |\n",
      "|2013-04-06 02:30:00|2013-04-06 03:00:00}|3    |205.165   |207.166 |3    |0.310917         |\n",
      "|2013-04-06 02:30:00|2013-04-06 03:00:00}|4    |203.167   |205.165 |3    |0.310917         |\n",
      "|2013-04-06 02:30:00|2013-04-06 03:00:00}|5    |202.163   |204.16  |3    |0.310917         |\n",
      "|2013-04-06 02:30:00|2013-04-06 03:00:00}|6    |206.167   |207.166 |3    |0.310917         |\n",
      "|2013-04-06 02:30:00|2013-04-06 03:00:00}|7    |206.167   |204.163 |3    |0.310917         |\n",
      "|2013-04-06 02:30:00|2013-04-06 03:00:00}|8    |206.167   |207.165 |3    |0.310917         |\n",
      "|2013-04-06 02:30:00|2013-04-06 03:00:00}|9    |206.165   |207.163 |3    |0.310917         |\n",
      "|2013-04-06 02:30:00|2013-04-06 03:00:00}|10   |201.164   |204.166 |3    |0.310917         |\n",
      "+-------------------+--------------------+-----+----------+--------+-----+-----------------+\n",
      "only showing top 20 rows\n",
      "\n",
      "+-------------------+--------------------+-----+----------+--------+-----+-----------------+\n",
      "|pickup_datetime    |dropoff_datetime    |cells|start_cell|end_cell|count|delay(in seconds)|\n",
      "+-------------------+--------------------+-----+----------+--------+-----+-----------------+\n",
      "|2013-05-05 03:30:00|2013-05-05 04:00:00}|1    |206.16    |204.161 |3    |0.248695         |\n",
      "|2013-05-05 03:30:00|2013-05-05 04:00:00}|2    |201.162   |211.159 |3    |0.248695         |\n",
      "|2013-05-05 03:30:00|2013-05-05 04:00:00}|3    |204.167   |208.162 |3    |0.248695         |\n",
      "|2013-05-05 03:30:00|2013-05-05 04:00:00}|4    |202.167   |205.168 |2    |0.248695         |\n",
      "|2013-05-05 03:30:00|2013-05-05 04:00:00}|5    |205.168   |211.159 |2    |0.248695         |\n",
      "|2013-05-05 03:30:00|2013-05-05 04:00:00}|6    |202.163   |209.162 |2    |0.248695         |\n",
      "|2013-05-05 03:30:00|2013-05-05 04:00:00}|7    |202.163   |209.16  |2    |0.248695         |\n",
      "|2013-05-05 03:30:00|2013-05-05 04:00:00}|8    |204.165   |204.163 |2    |0.248695         |\n",
      "|2013-05-05 03:30:00|2013-05-05 04:00:00}|9    |204.167   |203.165 |2    |0.248695         |\n",
      "|2013-05-05 03:30:00|2013-05-05 04:00:00}|10   |205.168   |207.158 |2    |0.248695         |\n",
      "|2013-05-06 01:00:00|2013-05-06 01:30:00}|1    |202.163   |202.165 |3    |0.248695         |\n",
      "|2013-05-06 01:00:00|2013-05-06 01:30:00}|2    |204.165   |206.158 |2    |0.248695         |\n",
      "|2013-05-06 01:00:00|2013-05-06 01:30:00}|3    |203.166   |219.172 |2    |0.248695         |\n",
      "|2013-05-06 01:00:00|2013-05-06 01:30:00}|4    |201.166   |203.168 |2    |0.248695         |\n",
      "|2013-05-06 01:00:00|2013-05-06 01:30:00}|5    |203.163   |202.166 |2    |0.248695         |\n",
      "|2013-05-06 01:00:00|2013-05-06 01:30:00}|6    |207.157   |209.152 |2    |0.248695         |\n",
      "|2013-05-06 01:00:00|2013-05-06 01:30:00}|7    |209.158   |205.167 |2    |0.248695         |\n",
      "|2013-05-06 01:00:00|2013-05-06 01:30:00}|8    |205.166   |206.161 |2    |0.248695         |\n",
      "|2013-05-06 01:00:00|2013-05-06 01:30:00}|9    |207.158   |208.158 |2    |0.248695         |\n",
      "|2013-05-06 01:00:00|2013-05-06 01:30:00}|10   |206.159   |207.165 |2    |0.248695         |\n",
      "+-------------------+--------------------+-----+----------+--------+-----+-----------------+\n",
      "only showing top 20 rows\n",
      "\n"
     ]
    }
   ],
   "source": [
    "#displaying the streaming data for 5 minutes\n",
    "end_time = datetime.now() + timedelta(minutes=5)\n",
    "df.createOrReplaceTempView(\"query1\")      #replacing the view if already created\n",
    "while True:                               #runs for displaying streaming data\n",
    "    current_time = datetime.now()\n",
    "    if current_time > end_time:           #if the time limit is exceeded then stops the loop\n",
    "        break\n",
    "    display(query.status)\n",
    "    df_final = spark.sql('SELECT * FROM query1') #using spark sql to display the data\n",
    "    display(df_final)                            #displaying the final data\n",
    "    sleep(3)                                     #adding a sleep time of 3 seconds"
   ]
  }
 ],
 "metadata": {
  "kernelspec": {
   "display_name": "Python 3",
   "language": "python",
   "name": "python3"
  },
  "language_info": {
   "codemirror_mode": {
    "name": "ipython",
    "version": 3
   },
   "file_extension": ".py",
   "mimetype": "text/x-python",
   "name": "python",
   "nbconvert_exporter": "python",
   "pygments_lexer": "ipython3",
   "version": "3.6.3"
  }
 },
 "nbformat": 4,
 "nbformat_minor": 5
}
