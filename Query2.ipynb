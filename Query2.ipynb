{
 "cells": [
  {
   "cell_type": "code",
   "execution_count": 1,
   "metadata": {},
   "outputs": [
    {
     "name": "stderr",
     "output_type": "stream",
     "text": [
      "/home/ec2-user/spark-3.2.0-bin-hadoop3.2/python/pyspark/context.py:238: FutureWarning: Python 3.6 support is deprecated in Spark 3.2.\n",
      "  FutureWarning\n"
     ]
    }
   ],
   "source": [
    "#importing spark and creating spark sessions\n",
    "import findspark\n",
    "findspark.init()\n",
    "findspark.find()\n",
    "import pyspark\n",
    "findspark.find()\n",
    "from pyspark import SparkConf, SparkContext\n",
    "from pyspark.sql import SparkSession\n",
    "\n",
    "spark = SparkSession.builder.appName(\"streaming\").master(\"local[*]\").getOrCreate()"
   ]
  },
  {
   "cell_type": "code",
   "execution_count": 2,
   "metadata": {},
   "outputs": [
    {
     "data": {
      "text/html": [
       "<style>pre { white-space: pre !important; }</style>"
      ],
      "text/plain": [
       "<IPython.core.display.HTML object>"
      ]
     },
     "metadata": {},
     "output_type": "display_data"
    }
   ],
   "source": [
    "#importing required libraries\n",
    "import math\n",
    "from pyspark.sql.window import Window\n",
    "from pyspark.sql.functions import rank\n",
    "from pyspark.sql.functions import col\n",
    "from pyspark.sql.functions import udf\n",
    "from pyspark.sql.types import *\n",
    "from pyspark.sql import Row\n",
    "import datetime\n",
    "from time import sleep\n",
    "import pandas as pd\n",
    "import numpy as np\n",
    "from datetime import datetime, timedelta\n",
    "from functools import reduce\n",
    "from pyspark.sql.functions import date_format\n",
    "\n",
    "#importing HTML for better display\n",
    "from IPython.core.display import HTML\n",
    "display(HTML(\"<style>pre { white-space: pre !important; }</style>\"))\n",
    "\n"
   ]
  },
  {
   "cell_type": "code",
   "execution_count": 3,
   "metadata": {
    "collapsed": true
   },
   "outputs": [],
   "source": [
    "#Creating the schema for data to be received via spark streaming\n",
    "dataSchema = StructType([StructField(\"medallion\",StringType(),True), \n",
    "           StructField(\"hack_license\",StringType(),True), \n",
    "           StructField(\"pickup_datetime\",TimestampType(),True), \n",
    "           StructField(\"dropoff_datetime\",TimestampType(),True), \n",
    "           StructField(\"trip_time_in_secs\",StringType(),True), \n",
    "           StructField(\"trip_distance\",StringType(),True), \n",
    "           StructField(\"pickup_longitude\",FloatType(),True), \n",
    "           StructField(\"pickup_latitude\",FloatType(),True), \n",
    "           StructField(\"dropoff_longitude\",FloatType(),True), \n",
    "           StructField(\"dropoff_latitude\",FloatType(),True), \n",
    "           StructField(\"payment_type\",StringType(),True), \n",
    "           StructField(\"fare_amount\",FloatType(),True), \n",
    "           StructField(\"surcharge\",FloatType(),True), \n",
    "           StructField(\"mta_tax\",FloatType(),True), \n",
    "           StructField(\"tip_amount\",FloatType(),True), \n",
    "           StructField(\"tolls_amount\",FloatType(),True), \n",
    "           StructField(\"total_amount\",FloatType(),True)\n",
    "                       ])"
   ]
  },
  {
   "cell_type": "code",
   "execution_count": 4,
   "metadata": {
    "collapsed": true
   },
   "outputs": [],
   "source": [
    "#Reading the csv data into the dataframe\n",
    "df = (spark.readStream.schema(dataSchema).option(\"maxFilesPerTrigger\", 1).csv(\"sampled_data\", timestampFormat= \"dd-MM-yyyy HH:mm\"))\n"
   ]
  },
  {
   "cell_type": "code",
   "execution_count": 5,
   "metadata": {
    "collapsed": true
   },
   "outputs": [],
   "source": [
    "#Giving the specifications of latitudes and longitudes\n",
    "start_lat = 41.474937      #latitude for starting cell\n",
    "start_long = -74.913585    #longitude for starting cell\n",
    "lat_degree = 0.004491556/2 #Change in degrees for latitude\n",
    "long_degree = 0.004491556/2#Change in degrees for longitude\n",
    "Grid_size = 150            #Grid size for finding most frequent routes in kms\n",
    "cell_size = 0.5            #Cell size for finding most frequent routes in kms"
   ]
  },
  {
   "cell_type": "code",
   "execution_count": 6,
   "metadata": {
    "collapsed": true
   },
   "outputs": [],
   "source": [
    "#Function defined for calculating grid cells\n",
    "def get_grids(longitude, latitude):\n",
    "    if longitude == None or latitude == None:               #Removing distorted data\n",
    "        return None\n",
    "    long = int(abs(longitude - start_long)/long_degree)     #Generating first half of grid cell\n",
    "    lat = int(abs(latitude - start_lat)/lat_degree)         #Generating second half of grid cell\n",
    "    if (long <= 600 and long >= 0 and lat <= 600 and lat >= 0):\n",
    "        result = (str(long) + \".\" + str(lat))               # Getting the grid cells in proper format\n",
    "        return float(result)"
   ]
  },
  {
   "cell_type": "code",
   "execution_count": 7,
   "metadata": {
    "collapsed": true
   },
   "outputs": [],
   "source": [
    "#Creating a UDF for pyspark streaming dataframe\n",
    "grid = udf(get_grids, FloatType())\n",
    "df = df.withColumn(\"start_cell\", grid(df.pickup_longitude, df.pickup_latitude))\\\n",
    "       .withColumn(\"end_cell\", grid(df.dropoff_longitude, df.dropoff_latitude))\n",
    "df = df.where(df.start_cell != df.end_cell)            #Removing the discrepency of data"
   ]
  },
  {
   "cell_type": "code",
   "execution_count": 8,
   "metadata": {
    "collapsed": true
   },
   "outputs": [],
   "source": [
    "from pyspark.sql.functions import *\n",
    "\n",
    "#Creating the function to run on each batch\n",
    "def batch_operation(df ,epoch_id):\n",
    "    start = datetime.now()                 #Start time for analysing the delay\n",
    "    df = df.withColumn('profit', df.total_amount+df.tip_amount)   #Calculating the profit by summing tip and total amount\n",
    "    \n",
    "    #getting the median prfoit for each area, checking the difference being lesser than 15 minutes\n",
    "    med_df = df.filter((minute(df.dropoff_datetime) - minute(df.pickup_datetime)) < 15)\\\n",
    "               .groupBy(window(\"dropoff_datetime\", \"30 minutes\"),\"start_cell\")\\\n",
    "               .sum(\"profit\").withColumnRenamed(\"sum(profit)\", \"median_profit\").orderBy(col(\"window\").desc())\n",
    "\n",
    "    #getting the number of empty taxis, checking the difference to be lesser than 30 minutes\n",
    "    empty_df =  df.filter((minute(df.dropoff_datetime) - minute(df.pickup_datetime)) < 30)\\\n",
    "                    .groupBy(window(\"dropoff_datetime\", \"30 minutes\"),\"medallion\",\"end_cell\").count()\\\n",
    "                    .orderBy(col(\"window\").desc())\\\n",
    "                    .where(col(\"count\") == 1 ).groupBy(\"end_cell\").sum(\"count\").withColumnRenamed(\"sum(count)\", \"empty_taxis\")\n",
    "\n",
    "\n",
    "    #joined df getting the data of empty taxis\n",
    "    df = med_df.join(empty_df.select(\"end_cell\", \"empty_taxis\")\\\n",
    "               .distinct(), med_df.start_cell == empty_df.end_cell , how=\"left\")\n",
    "    \n",
    "    #calculating profitability by dividing median profit by number of empty taxis\n",
    "    df = df.withColumn(\"profitability\", df.median_profit/df.empty_taxis).orderBy(df[\"window\"], ascending = False)\n",
    "    df = df.drop(\"end_cell\").withColumnRenamed(\"start_cell\", \"profitable_areas\")\n",
    "    \n",
    "    #partioning the window, ordering by profitability\n",
    "    window_df = Window.partitionBy(df[\"window\"]).orderBy(col(\"profitability\").desc())\n",
    "    df = df.withColumn(\"profitable_cell_id\", row_number().over(window_df))\\\n",
    "           .filter(col(\"profitable_cell_id\") <= 10)\n",
    "    #changing the type of window column\n",
    "    df = df.withColumn(\"window\", col(\"window\").cast(StringType())) \n",
    "    \n",
    "    #getting correct format of data\n",
    "    df = df.withColumn(\"pickup_datetime\", split(col(\"window\"), \",\").getItem(0))\\\n",
    "           .withColumn(\"dropoff_datetime\", split(col(\"window\"), \",\").getItem(1)).drop(\"window\")\n",
    "    df = df.withColumn(\"pickup_datetime\",expr(\"substring(pickup_datetime, 2, 20)\"))\\\n",
    "           .withColumn(\"dropoff_datetime\",expr(\"substring(dropoff_datetime, 2, 20)\"))\n",
    "        \n",
    "    end = datetime.now()            #End time for analysing the delay\n",
    "    delay = end - start             #generating the delay\n",
    "    \n",
    "    df = df.withColumn(\"delay(in seconds)\", lit(str(delay.total_seconds())))       #adding delay column for each data set\n",
    "    \n",
    "    #selecting the required columns in a particular format\n",
    "    df = df.select(\"pickup_datetime\", \"dropoff_datetime\",\"profitable_cell_id\",\"profitable_areas\", \"empty_taxis\",\"median_profit\", \"profitability\", \"delay(in seconds)\" )\n",
    "    \n",
    "    #writing the data in csv format into output folder\n",
    "    df.repartition(1).write.mode(\"append\").csv('/home/ec2-user/output_folder_query2/', header = True)\n",
    "    df.show(truncate = False)\n"
   ]
  },
  {
   "cell_type": "code",
   "execution_count": 9,
   "metadata": {},
   "outputs": [
    {
     "data": {
      "text/plain": [
       "True"
      ]
     },
     "execution_count": 9,
     "metadata": {},
     "output_type": "execute_result"
    }
   ],
   "source": [
    "#querying the data for batch processing\n",
    "query = (df.writeStream.format(\"memory\")\\\n",
    "           .foreachBatch(batch_operation)\\\n",
    "           .queryName(\"query2\")\\\n",
    "           .outputMode(\"update\")\\\n",
    "           .option(\"truncate\",False)\\\n",
    "           .start())\n",
    "df.isStreaming"
   ]
  },
  {
   "cell_type": "code",
   "execution_count": 10,
   "metadata": {},
   "outputs": [
    {
     "data": {
      "text/plain": [
       "{'isDataAvailable': True,\n",
       " 'isTriggerActive': True,\n",
       " 'message': 'Processing new data'}"
      ]
     },
     "metadata": {},
     "output_type": "display_data"
    },
    {
     "data": {
      "text/plain": [
       "DataFrame[medallion: string, hack_license: string, pickup_datetime: timestamp, dropoff_datetime: timestamp, trip_time_in_secs: string, trip_distance: string, pickup_longitude: float, pickup_latitude: float, dropoff_longitude: float, dropoff_latitude: float, payment_type: string, fare_amount: float, surcharge: float, mta_tax: float, tip_amount: float, tolls_amount: float, total_amount: float, start_cell: float, end_cell: float]"
      ]
     },
     "metadata": {},
     "output_type": "display_data"
    },
    {
     "data": {
      "text/plain": [
       "{'isDataAvailable': True,\n",
       " 'isTriggerActive': True,\n",
       " 'message': 'Processing new data'}"
      ]
     },
     "metadata": {},
     "output_type": "display_data"
    },
    {
     "data": {
      "text/plain": [
       "DataFrame[medallion: string, hack_license: string, pickup_datetime: timestamp, dropoff_datetime: timestamp, trip_time_in_secs: string, trip_distance: string, pickup_longitude: float, pickup_latitude: float, dropoff_longitude: float, dropoff_latitude: float, payment_type: string, fare_amount: float, surcharge: float, mta_tax: float, tip_amount: float, tolls_amount: float, total_amount: float, start_cell: float, end_cell: float]"
      ]
     },
     "metadata": {},
     "output_type": "display_data"
    },
    {
     "data": {
      "text/plain": [
       "{'isDataAvailable': True,\n",
       " 'isTriggerActive': True,\n",
       " 'message': 'Processing new data'}"
      ]
     },
     "metadata": {},
     "output_type": "display_data"
    },
    {
     "data": {
      "text/plain": [
       "DataFrame[medallion: string, hack_license: string, pickup_datetime: timestamp, dropoff_datetime: timestamp, trip_time_in_secs: string, trip_distance: string, pickup_longitude: float, pickup_latitude: float, dropoff_longitude: float, dropoff_latitude: float, payment_type: string, fare_amount: float, surcharge: float, mta_tax: float, tip_amount: float, tolls_amount: float, total_amount: float, start_cell: float, end_cell: float]"
      ]
     },
     "metadata": {},
     "output_type": "display_data"
    },
    {
     "data": {
      "text/plain": [
       "{'isDataAvailable': True,\n",
       " 'isTriggerActive': True,\n",
       " 'message': 'Processing new data'}"
      ]
     },
     "metadata": {},
     "output_type": "display_data"
    },
    {
     "data": {
      "text/plain": [
       "DataFrame[medallion: string, hack_license: string, pickup_datetime: timestamp, dropoff_datetime: timestamp, trip_time_in_secs: string, trip_distance: string, pickup_longitude: float, pickup_latitude: float, dropoff_longitude: float, dropoff_latitude: float, payment_type: string, fare_amount: float, surcharge: float, mta_tax: float, tip_amount: float, tolls_amount: float, total_amount: float, start_cell: float, end_cell: float]"
      ]
     },
     "metadata": {},
     "output_type": "display_data"
    },
    {
     "data": {
      "text/plain": [
       "{'isDataAvailable': True,\n",
       " 'isTriggerActive': True,\n",
       " 'message': 'Processing new data'}"
      ]
     },
     "metadata": {},
     "output_type": "display_data"
    },
    {
     "data": {
      "text/plain": [
       "DataFrame[medallion: string, hack_license: string, pickup_datetime: timestamp, dropoff_datetime: timestamp, trip_time_in_secs: string, trip_distance: string, pickup_longitude: float, pickup_latitude: float, dropoff_longitude: float, dropoff_latitude: float, payment_type: string, fare_amount: float, surcharge: float, mta_tax: float, tip_amount: float, tolls_amount: float, total_amount: float, start_cell: float, end_cell: float]"
      ]
     },
     "metadata": {},
     "output_type": "display_data"
    },
    {
     "data": {
      "text/plain": [
       "{'isDataAvailable': True,\n",
       " 'isTriggerActive': True,\n",
       " 'message': 'Processing new data'}"
      ]
     },
     "metadata": {},
     "output_type": "display_data"
    },
    {
     "data": {
      "text/plain": [
       "DataFrame[medallion: string, hack_license: string, pickup_datetime: timestamp, dropoff_datetime: timestamp, trip_time_in_secs: string, trip_distance: string, pickup_longitude: float, pickup_latitude: float, dropoff_longitude: float, dropoff_latitude: float, payment_type: string, fare_amount: float, surcharge: float, mta_tax: float, tip_amount: float, tolls_amount: float, total_amount: float, start_cell: float, end_cell: float]"
      ]
     },
     "metadata": {},
     "output_type": "display_data"
    },
    {
     "data": {
      "text/plain": [
       "{'isDataAvailable': True,\n",
       " 'isTriggerActive': True,\n",
       " 'message': 'Processing new data'}"
      ]
     },
     "metadata": {},
     "output_type": "display_data"
    },
    {
     "data": {
      "text/plain": [
       "DataFrame[medallion: string, hack_license: string, pickup_datetime: timestamp, dropoff_datetime: timestamp, trip_time_in_secs: string, trip_distance: string, pickup_longitude: float, pickup_latitude: float, dropoff_longitude: float, dropoff_latitude: float, payment_type: string, fare_amount: float, surcharge: float, mta_tax: float, tip_amount: float, tolls_amount: float, total_amount: float, start_cell: float, end_cell: float]"
      ]
     },
     "metadata": {},
     "output_type": "display_data"
    },
    {
     "data": {
      "text/plain": [
       "{'isDataAvailable': True,\n",
       " 'isTriggerActive': True,\n",
       " 'message': 'Processing new data'}"
      ]
     },
     "metadata": {},
     "output_type": "display_data"
    },
    {
     "data": {
      "text/plain": [
       "DataFrame[medallion: string, hack_license: string, pickup_datetime: timestamp, dropoff_datetime: timestamp, trip_time_in_secs: string, trip_distance: string, pickup_longitude: float, pickup_latitude: float, dropoff_longitude: float, dropoff_latitude: float, payment_type: string, fare_amount: float, surcharge: float, mta_tax: float, tip_amount: float, tolls_amount: float, total_amount: float, start_cell: float, end_cell: float]"
      ]
     },
     "metadata": {},
     "output_type": "display_data"
    },
    {
     "data": {
      "text/plain": [
       "{'isDataAvailable': True,\n",
       " 'isTriggerActive': True,\n",
       " 'message': 'Processing new data'}"
      ]
     },
     "metadata": {},
     "output_type": "display_data"
    },
    {
     "data": {
      "text/plain": [
       "DataFrame[medallion: string, hack_license: string, pickup_datetime: timestamp, dropoff_datetime: timestamp, trip_time_in_secs: string, trip_distance: string, pickup_longitude: float, pickup_latitude: float, dropoff_longitude: float, dropoff_latitude: float, payment_type: string, fare_amount: float, surcharge: float, mta_tax: float, tip_amount: float, tolls_amount: float, total_amount: float, start_cell: float, end_cell: float]"
      ]
     },
     "metadata": {},
     "output_type": "display_data"
    },
    {
     "data": {
      "text/plain": [
       "{'isDataAvailable': True,\n",
       " 'isTriggerActive': True,\n",
       " 'message': 'Processing new data'}"
      ]
     },
     "metadata": {},
     "output_type": "display_data"
    },
    {
     "data": {
      "text/plain": [
       "DataFrame[medallion: string, hack_license: string, pickup_datetime: timestamp, dropoff_datetime: timestamp, trip_time_in_secs: string, trip_distance: string, pickup_longitude: float, pickup_latitude: float, dropoff_longitude: float, dropoff_latitude: float, payment_type: string, fare_amount: float, surcharge: float, mta_tax: float, tip_amount: float, tolls_amount: float, total_amount: float, start_cell: float, end_cell: float]"
      ]
     },
     "metadata": {},
     "output_type": "display_data"
    },
    {
     "data": {
      "text/plain": [
       "{'isDataAvailable': True,\n",
       " 'isTriggerActive': True,\n",
       " 'message': 'Processing new data'}"
      ]
     },
     "metadata": {},
     "output_type": "display_data"
    },
    {
     "data": {
      "text/plain": [
       "DataFrame[medallion: string, hack_license: string, pickup_datetime: timestamp, dropoff_datetime: timestamp, trip_time_in_secs: string, trip_distance: string, pickup_longitude: float, pickup_latitude: float, dropoff_longitude: float, dropoff_latitude: float, payment_type: string, fare_amount: float, surcharge: float, mta_tax: float, tip_amount: float, tolls_amount: float, total_amount: float, start_cell: float, end_cell: float]"
      ]
     },
     "metadata": {},
     "output_type": "display_data"
    },
    {
     "data": {
      "text/plain": [
       "{'isDataAvailable': True,\n",
       " 'isTriggerActive': True,\n",
       " 'message': 'Processing new data'}"
      ]
     },
     "metadata": {},
     "output_type": "display_data"
    },
    {
     "data": {
      "text/plain": [
       "DataFrame[medallion: string, hack_license: string, pickup_datetime: timestamp, dropoff_datetime: timestamp, trip_time_in_secs: string, trip_distance: string, pickup_longitude: float, pickup_latitude: float, dropoff_longitude: float, dropoff_latitude: float, payment_type: string, fare_amount: float, surcharge: float, mta_tax: float, tip_amount: float, tolls_amount: float, total_amount: float, start_cell: float, end_cell: float]"
      ]
     },
     "metadata": {},
     "output_type": "display_data"
    },
    {
     "data": {
      "text/plain": [
       "{'isDataAvailable': True,\n",
       " 'isTriggerActive': True,\n",
       " 'message': 'Processing new data'}"
      ]
     },
     "metadata": {},
     "output_type": "display_data"
    },
    {
     "data": {
      "text/plain": [
       "DataFrame[medallion: string, hack_license: string, pickup_datetime: timestamp, dropoff_datetime: timestamp, trip_time_in_secs: string, trip_distance: string, pickup_longitude: float, pickup_latitude: float, dropoff_longitude: float, dropoff_latitude: float, payment_type: string, fare_amount: float, surcharge: float, mta_tax: float, tip_amount: float, tolls_amount: float, total_amount: float, start_cell: float, end_cell: float]"
      ]
     },
     "metadata": {},
     "output_type": "display_data"
    },
    {
     "data": {
      "text/plain": [
       "{'isDataAvailable': True,\n",
       " 'isTriggerActive': True,\n",
       " 'message': 'Processing new data'}"
      ]
     },
     "metadata": {},
     "output_type": "display_data"
    },
    {
     "data": {
      "text/plain": [
       "DataFrame[medallion: string, hack_license: string, pickup_datetime: timestamp, dropoff_datetime: timestamp, trip_time_in_secs: string, trip_distance: string, pickup_longitude: float, pickup_latitude: float, dropoff_longitude: float, dropoff_latitude: float, payment_type: string, fare_amount: float, surcharge: float, mta_tax: float, tip_amount: float, tolls_amount: float, total_amount: float, start_cell: float, end_cell: float]"
      ]
     },
     "metadata": {},
     "output_type": "display_data"
    },
    {
     "data": {
      "text/plain": [
       "{'isDataAvailable': True,\n",
       " 'isTriggerActive': True,\n",
       " 'message': 'Processing new data'}"
      ]
     },
     "metadata": {},
     "output_type": "display_data"
    },
    {
     "data": {
      "text/plain": [
       "DataFrame[medallion: string, hack_license: string, pickup_datetime: timestamp, dropoff_datetime: timestamp, trip_time_in_secs: string, trip_distance: string, pickup_longitude: float, pickup_latitude: float, dropoff_longitude: float, dropoff_latitude: float, payment_type: string, fare_amount: float, surcharge: float, mta_tax: float, tip_amount: float, tolls_amount: float, total_amount: float, start_cell: float, end_cell: float]"
      ]
     },
     "metadata": {},
     "output_type": "display_data"
    },
    {
     "data": {
      "text/plain": [
       "{'isDataAvailable': True,\n",
       " 'isTriggerActive': True,\n",
       " 'message': 'Processing new data'}"
      ]
     },
     "metadata": {},
     "output_type": "display_data"
    },
    {
     "data": {
      "text/plain": [
       "DataFrame[medallion: string, hack_license: string, pickup_datetime: timestamp, dropoff_datetime: timestamp, trip_time_in_secs: string, trip_distance: string, pickup_longitude: float, pickup_latitude: float, dropoff_longitude: float, dropoff_latitude: float, payment_type: string, fare_amount: float, surcharge: float, mta_tax: float, tip_amount: float, tolls_amount: float, total_amount: float, start_cell: float, end_cell: float]"
      ]
     },
     "metadata": {},
     "output_type": "display_data"
    },
    {
     "data": {
      "text/plain": [
       "{'isDataAvailable': True,\n",
       " 'isTriggerActive': True,\n",
       " 'message': 'Processing new data'}"
      ]
     },
     "metadata": {},
     "output_type": "display_data"
    },
    {
     "data": {
      "text/plain": [
       "DataFrame[medallion: string, hack_license: string, pickup_datetime: timestamp, dropoff_datetime: timestamp, trip_time_in_secs: string, trip_distance: string, pickup_longitude: float, pickup_latitude: float, dropoff_longitude: float, dropoff_latitude: float, payment_type: string, fare_amount: float, surcharge: float, mta_tax: float, tip_amount: float, tolls_amount: float, total_amount: float, start_cell: float, end_cell: float]"
      ]
     },
     "metadata": {},
     "output_type": "display_data"
    },
    {
     "data": {
      "text/plain": [
       "{'isDataAvailable': True,\n",
       " 'isTriggerActive': True,\n",
       " 'message': 'Processing new data'}"
      ]
     },
     "metadata": {},
     "output_type": "display_data"
    },
    {
     "data": {
      "text/plain": [
       "DataFrame[medallion: string, hack_license: string, pickup_datetime: timestamp, dropoff_datetime: timestamp, trip_time_in_secs: string, trip_distance: string, pickup_longitude: float, pickup_latitude: float, dropoff_longitude: float, dropoff_latitude: float, payment_type: string, fare_amount: float, surcharge: float, mta_tax: float, tip_amount: float, tolls_amount: float, total_amount: float, start_cell: float, end_cell: float]"
      ]
     },
     "metadata": {},
     "output_type": "display_data"
    },
    {
     "data": {
      "text/plain": [
       "{'isDataAvailable': True,\n",
       " 'isTriggerActive': True,\n",
       " 'message': 'Processing new data'}"
      ]
     },
     "metadata": {},
     "output_type": "display_data"
    },
    {
     "data": {
      "text/plain": [
       "DataFrame[medallion: string, hack_license: string, pickup_datetime: timestamp, dropoff_datetime: timestamp, trip_time_in_secs: string, trip_distance: string, pickup_longitude: float, pickup_latitude: float, dropoff_longitude: float, dropoff_latitude: float, payment_type: string, fare_amount: float, surcharge: float, mta_tax: float, tip_amount: float, tolls_amount: float, total_amount: float, start_cell: float, end_cell: float]"
      ]
     },
     "metadata": {},
     "output_type": "display_data"
    },
    {
     "data": {
      "text/plain": [
       "{'isDataAvailable': True,\n",
       " 'isTriggerActive': True,\n",
       " 'message': 'Processing new data'}"
      ]
     },
     "metadata": {},
     "output_type": "display_data"
    },
    {
     "data": {
      "text/plain": [
       "DataFrame[medallion: string, hack_license: string, pickup_datetime: timestamp, dropoff_datetime: timestamp, trip_time_in_secs: string, trip_distance: string, pickup_longitude: float, pickup_latitude: float, dropoff_longitude: float, dropoff_latitude: float, payment_type: string, fare_amount: float, surcharge: float, mta_tax: float, tip_amount: float, tolls_amount: float, total_amount: float, start_cell: float, end_cell: float]"
      ]
     },
     "metadata": {},
     "output_type": "display_data"
    },
    {
     "data": {
      "text/plain": [
       "{'isDataAvailable': True,\n",
       " 'isTriggerActive': True,\n",
       " 'message': 'Processing new data'}"
      ]
     },
     "metadata": {},
     "output_type": "display_data"
    },
    {
     "data": {
      "text/plain": [
       "DataFrame[medallion: string, hack_license: string, pickup_datetime: timestamp, dropoff_datetime: timestamp, trip_time_in_secs: string, trip_distance: string, pickup_longitude: float, pickup_latitude: float, dropoff_longitude: float, dropoff_latitude: float, payment_type: string, fare_amount: float, surcharge: float, mta_tax: float, tip_amount: float, tolls_amount: float, total_amount: float, start_cell: float, end_cell: float]"
      ]
     },
     "metadata": {},
     "output_type": "display_data"
    },
    {
     "data": {
      "text/plain": [
       "{'isDataAvailable': True,\n",
       " 'isTriggerActive': True,\n",
       " 'message': 'Processing new data'}"
      ]
     },
     "metadata": {},
     "output_type": "display_data"
    },
    {
     "data": {
      "text/plain": [
       "DataFrame[medallion: string, hack_license: string, pickup_datetime: timestamp, dropoff_datetime: timestamp, trip_time_in_secs: string, trip_distance: string, pickup_longitude: float, pickup_latitude: float, dropoff_longitude: float, dropoff_latitude: float, payment_type: string, fare_amount: float, surcharge: float, mta_tax: float, tip_amount: float, tolls_amount: float, total_amount: float, start_cell: float, end_cell: float]"
      ]
     },
     "metadata": {},
     "output_type": "display_data"
    },
    {
     "data": {
      "text/plain": [
       "{'isDataAvailable': True,\n",
       " 'isTriggerActive': True,\n",
       " 'message': 'Processing new data'}"
      ]
     },
     "metadata": {},
     "output_type": "display_data"
    },
    {
     "data": {
      "text/plain": [
       "DataFrame[medallion: string, hack_license: string, pickup_datetime: timestamp, dropoff_datetime: timestamp, trip_time_in_secs: string, trip_distance: string, pickup_longitude: float, pickup_latitude: float, dropoff_longitude: float, dropoff_latitude: float, payment_type: string, fare_amount: float, surcharge: float, mta_tax: float, tip_amount: float, tolls_amount: float, total_amount: float, start_cell: float, end_cell: float]"
      ]
     },
     "metadata": {},
     "output_type": "display_data"
    },
    {
     "data": {
      "text/plain": [
       "{'isDataAvailable': True,\n",
       " 'isTriggerActive': True,\n",
       " 'message': 'Processing new data'}"
      ]
     },
     "metadata": {},
     "output_type": "display_data"
    },
    {
     "data": {
      "text/plain": [
       "DataFrame[medallion: string, hack_license: string, pickup_datetime: timestamp, dropoff_datetime: timestamp, trip_time_in_secs: string, trip_distance: string, pickup_longitude: float, pickup_latitude: float, dropoff_longitude: float, dropoff_latitude: float, payment_type: string, fare_amount: float, surcharge: float, mta_tax: float, tip_amount: float, tolls_amount: float, total_amount: float, start_cell: float, end_cell: float]"
      ]
     },
     "metadata": {},
     "output_type": "display_data"
    },
    {
     "data": {
      "text/plain": [
       "{'isDataAvailable': True,\n",
       " 'isTriggerActive': True,\n",
       " 'message': 'Processing new data'}"
      ]
     },
     "metadata": {},
     "output_type": "display_data"
    },
    {
     "data": {
      "text/plain": [
       "DataFrame[medallion: string, hack_license: string, pickup_datetime: timestamp, dropoff_datetime: timestamp, trip_time_in_secs: string, trip_distance: string, pickup_longitude: float, pickup_latitude: float, dropoff_longitude: float, dropoff_latitude: float, payment_type: string, fare_amount: float, surcharge: float, mta_tax: float, tip_amount: float, tolls_amount: float, total_amount: float, start_cell: float, end_cell: float]"
      ]
     },
     "metadata": {},
     "output_type": "display_data"
    },
    {
     "data": {
      "text/plain": [
       "{'isDataAvailable': True,\n",
       " 'isTriggerActive': True,\n",
       " 'message': 'Processing new data'}"
      ]
     },
     "metadata": {},
     "output_type": "display_data"
    },
    {
     "data": {
      "text/plain": [
       "DataFrame[medallion: string, hack_license: string, pickup_datetime: timestamp, dropoff_datetime: timestamp, trip_time_in_secs: string, trip_distance: string, pickup_longitude: float, pickup_latitude: float, dropoff_longitude: float, dropoff_latitude: float, payment_type: string, fare_amount: float, surcharge: float, mta_tax: float, tip_amount: float, tolls_amount: float, total_amount: float, start_cell: float, end_cell: float]"
      ]
     },
     "metadata": {},
     "output_type": "display_data"
    },
    {
     "data": {
      "text/plain": [
       "{'isDataAvailable': True,\n",
       " 'isTriggerActive': True,\n",
       " 'message': 'Processing new data'}"
      ]
     },
     "metadata": {},
     "output_type": "display_data"
    },
    {
     "data": {
      "text/plain": [
       "DataFrame[medallion: string, hack_license: string, pickup_datetime: timestamp, dropoff_datetime: timestamp, trip_time_in_secs: string, trip_distance: string, pickup_longitude: float, pickup_latitude: float, dropoff_longitude: float, dropoff_latitude: float, payment_type: string, fare_amount: float, surcharge: float, mta_tax: float, tip_amount: float, tolls_amount: float, total_amount: float, start_cell: float, end_cell: float]"
      ]
     },
     "metadata": {},
     "output_type": "display_data"
    },
    {
     "data": {
      "text/plain": [
       "{'isDataAvailable': True,\n",
       " 'isTriggerActive': True,\n",
       " 'message': 'Processing new data'}"
      ]
     },
     "metadata": {},
     "output_type": "display_data"
    },
    {
     "data": {
      "text/plain": [
       "DataFrame[medallion: string, hack_license: string, pickup_datetime: timestamp, dropoff_datetime: timestamp, trip_time_in_secs: string, trip_distance: string, pickup_longitude: float, pickup_latitude: float, dropoff_longitude: float, dropoff_latitude: float, payment_type: string, fare_amount: float, surcharge: float, mta_tax: float, tip_amount: float, tolls_amount: float, total_amount: float, start_cell: float, end_cell: float]"
      ]
     },
     "metadata": {},
     "output_type": "display_data"
    },
    {
     "data": {
      "text/plain": [
       "{'isDataAvailable': True,\n",
       " 'isTriggerActive': True,\n",
       " 'message': 'Processing new data'}"
      ]
     },
     "metadata": {},
     "output_type": "display_data"
    },
    {
     "data": {
      "text/plain": [
       "DataFrame[medallion: string, hack_license: string, pickup_datetime: timestamp, dropoff_datetime: timestamp, trip_time_in_secs: string, trip_distance: string, pickup_longitude: float, pickup_latitude: float, dropoff_longitude: float, dropoff_latitude: float, payment_type: string, fare_amount: float, surcharge: float, mta_tax: float, tip_amount: float, tolls_amount: float, total_amount: float, start_cell: float, end_cell: float]"
      ]
     },
     "metadata": {},
     "output_type": "display_data"
    },
    {
     "data": {
      "text/plain": [
       "{'isDataAvailable': True,\n",
       " 'isTriggerActive': True,\n",
       " 'message': 'Processing new data'}"
      ]
     },
     "metadata": {},
     "output_type": "display_data"
    },
    {
     "data": {
      "text/plain": [
       "DataFrame[medallion: string, hack_license: string, pickup_datetime: timestamp, dropoff_datetime: timestamp, trip_time_in_secs: string, trip_distance: string, pickup_longitude: float, pickup_latitude: float, dropoff_longitude: float, dropoff_latitude: float, payment_type: string, fare_amount: float, surcharge: float, mta_tax: float, tip_amount: float, tolls_amount: float, total_amount: float, start_cell: float, end_cell: float]"
      ]
     },
     "metadata": {},
     "output_type": "display_data"
    },
    {
     "data": {
      "text/plain": [
       "{'isDataAvailable': True,\n",
       " 'isTriggerActive': True,\n",
       " 'message': 'Processing new data'}"
      ]
     },
     "metadata": {},
     "output_type": "display_data"
    },
    {
     "data": {
      "text/plain": [
       "DataFrame[medallion: string, hack_license: string, pickup_datetime: timestamp, dropoff_datetime: timestamp, trip_time_in_secs: string, trip_distance: string, pickup_longitude: float, pickup_latitude: float, dropoff_longitude: float, dropoff_latitude: float, payment_type: string, fare_amount: float, surcharge: float, mta_tax: float, tip_amount: float, tolls_amount: float, total_amount: float, start_cell: float, end_cell: float]"
      ]
     },
     "metadata": {},
     "output_type": "display_data"
    },
    {
     "data": {
      "text/plain": [
       "{'isDataAvailable': True,\n",
       " 'isTriggerActive': True,\n",
       " 'message': 'Processing new data'}"
      ]
     },
     "metadata": {},
     "output_type": "display_data"
    },
    {
     "data": {
      "text/plain": [
       "DataFrame[medallion: string, hack_license: string, pickup_datetime: timestamp, dropoff_datetime: timestamp, trip_time_in_secs: string, trip_distance: string, pickup_longitude: float, pickup_latitude: float, dropoff_longitude: float, dropoff_latitude: float, payment_type: string, fare_amount: float, surcharge: float, mta_tax: float, tip_amount: float, tolls_amount: float, total_amount: float, start_cell: float, end_cell: float]"
      ]
     },
     "metadata": {},
     "output_type": "display_data"
    },
    {
     "data": {
      "text/plain": [
       "{'isDataAvailable': True,\n",
       " 'isTriggerActive': True,\n",
       " 'message': 'Processing new data'}"
      ]
     },
     "metadata": {},
     "output_type": "display_data"
    },
    {
     "data": {
      "text/plain": [
       "DataFrame[medallion: string, hack_license: string, pickup_datetime: timestamp, dropoff_datetime: timestamp, trip_time_in_secs: string, trip_distance: string, pickup_longitude: float, pickup_latitude: float, dropoff_longitude: float, dropoff_latitude: float, payment_type: string, fare_amount: float, surcharge: float, mta_tax: float, tip_amount: float, tolls_amount: float, total_amount: float, start_cell: float, end_cell: float]"
      ]
     },
     "metadata": {},
     "output_type": "display_data"
    },
    {
     "data": {
      "text/plain": [
       "{'isDataAvailable': True,\n",
       " 'isTriggerActive': True,\n",
       " 'message': 'Processing new data'}"
      ]
     },
     "metadata": {},
     "output_type": "display_data"
    },
    {
     "data": {
      "text/plain": [
       "DataFrame[medallion: string, hack_license: string, pickup_datetime: timestamp, dropoff_datetime: timestamp, trip_time_in_secs: string, trip_distance: string, pickup_longitude: float, pickup_latitude: float, dropoff_longitude: float, dropoff_latitude: float, payment_type: string, fare_amount: float, surcharge: float, mta_tax: float, tip_amount: float, tolls_amount: float, total_amount: float, start_cell: float, end_cell: float]"
      ]
     },
     "metadata": {},
     "output_type": "display_data"
    },
    {
     "data": {
      "text/plain": [
       "{'isDataAvailable': True,\n",
       " 'isTriggerActive': True,\n",
       " 'message': 'Processing new data'}"
      ]
     },
     "metadata": {},
     "output_type": "display_data"
    },
    {
     "data": {
      "text/plain": [
       "DataFrame[medallion: string, hack_license: string, pickup_datetime: timestamp, dropoff_datetime: timestamp, trip_time_in_secs: string, trip_distance: string, pickup_longitude: float, pickup_latitude: float, dropoff_longitude: float, dropoff_latitude: float, payment_type: string, fare_amount: float, surcharge: float, mta_tax: float, tip_amount: float, tolls_amount: float, total_amount: float, start_cell: float, end_cell: float]"
      ]
     },
     "metadata": {},
     "output_type": "display_data"
    },
    {
     "data": {
      "text/plain": [
       "{'isDataAvailable': True,\n",
       " 'isTriggerActive': True,\n",
       " 'message': 'Processing new data'}"
      ]
     },
     "metadata": {},
     "output_type": "display_data"
    },
    {
     "data": {
      "text/plain": [
       "DataFrame[medallion: string, hack_license: string, pickup_datetime: timestamp, dropoff_datetime: timestamp, trip_time_in_secs: string, trip_distance: string, pickup_longitude: float, pickup_latitude: float, dropoff_longitude: float, dropoff_latitude: float, payment_type: string, fare_amount: float, surcharge: float, mta_tax: float, tip_amount: float, tolls_amount: float, total_amount: float, start_cell: float, end_cell: float]"
      ]
     },
     "metadata": {},
     "output_type": "display_data"
    },
    {
     "data": {
      "text/plain": [
       "{'isDataAvailable': True,\n",
       " 'isTriggerActive': True,\n",
       " 'message': 'Processing new data'}"
      ]
     },
     "metadata": {},
     "output_type": "display_data"
    },
    {
     "data": {
      "text/plain": [
       "DataFrame[medallion: string, hack_license: string, pickup_datetime: timestamp, dropoff_datetime: timestamp, trip_time_in_secs: string, trip_distance: string, pickup_longitude: float, pickup_latitude: float, dropoff_longitude: float, dropoff_latitude: float, payment_type: string, fare_amount: float, surcharge: float, mta_tax: float, tip_amount: float, tolls_amount: float, total_amount: float, start_cell: float, end_cell: float]"
      ]
     },
     "metadata": {},
     "output_type": "display_data"
    },
    {
     "data": {
      "text/plain": [
       "{'isDataAvailable': True,\n",
       " 'isTriggerActive': True,\n",
       " 'message': 'Processing new data'}"
      ]
     },
     "metadata": {},
     "output_type": "display_data"
    },
    {
     "data": {
      "text/plain": [
       "DataFrame[medallion: string, hack_license: string, pickup_datetime: timestamp, dropoff_datetime: timestamp, trip_time_in_secs: string, trip_distance: string, pickup_longitude: float, pickup_latitude: float, dropoff_longitude: float, dropoff_latitude: float, payment_type: string, fare_amount: float, surcharge: float, mta_tax: float, tip_amount: float, tolls_amount: float, total_amount: float, start_cell: float, end_cell: float]"
      ]
     },
     "metadata": {},
     "output_type": "display_data"
    },
    {
     "data": {
      "text/plain": [
       "{'isDataAvailable': True,\n",
       " 'isTriggerActive': True,\n",
       " 'message': 'Processing new data'}"
      ]
     },
     "metadata": {},
     "output_type": "display_data"
    },
    {
     "data": {
      "text/plain": [
       "DataFrame[medallion: string, hack_license: string, pickup_datetime: timestamp, dropoff_datetime: timestamp, trip_time_in_secs: string, trip_distance: string, pickup_longitude: float, pickup_latitude: float, dropoff_longitude: float, dropoff_latitude: float, payment_type: string, fare_amount: float, surcharge: float, mta_tax: float, tip_amount: float, tolls_amount: float, total_amount: float, start_cell: float, end_cell: float]"
      ]
     },
     "metadata": {},
     "output_type": "display_data"
    },
    {
     "data": {
      "text/plain": [
       "{'isDataAvailable': True,\n",
       " 'isTriggerActive': True,\n",
       " 'message': 'Processing new data'}"
      ]
     },
     "metadata": {},
     "output_type": "display_data"
    },
    {
     "data": {
      "text/plain": [
       "DataFrame[medallion: string, hack_license: string, pickup_datetime: timestamp, dropoff_datetime: timestamp, trip_time_in_secs: string, trip_distance: string, pickup_longitude: float, pickup_latitude: float, dropoff_longitude: float, dropoff_latitude: float, payment_type: string, fare_amount: float, surcharge: float, mta_tax: float, tip_amount: float, tolls_amount: float, total_amount: float, start_cell: float, end_cell: float]"
      ]
     },
     "metadata": {},
     "output_type": "display_data"
    },
    {
     "data": {
      "text/plain": [
       "{'isDataAvailable': True,\n",
       " 'isTriggerActive': True,\n",
       " 'message': 'Processing new data'}"
      ]
     },
     "metadata": {},
     "output_type": "display_data"
    },
    {
     "data": {
      "text/plain": [
       "DataFrame[medallion: string, hack_license: string, pickup_datetime: timestamp, dropoff_datetime: timestamp, trip_time_in_secs: string, trip_distance: string, pickup_longitude: float, pickup_latitude: float, dropoff_longitude: float, dropoff_latitude: float, payment_type: string, fare_amount: float, surcharge: float, mta_tax: float, tip_amount: float, tolls_amount: float, total_amount: float, start_cell: float, end_cell: float]"
      ]
     },
     "metadata": {},
     "output_type": "display_data"
    },
    {
     "data": {
      "text/plain": [
       "{'isDataAvailable': True,\n",
       " 'isTriggerActive': True,\n",
       " 'message': 'Processing new data'}"
      ]
     },
     "metadata": {},
     "output_type": "display_data"
    },
    {
     "data": {
      "text/plain": [
       "DataFrame[medallion: string, hack_license: string, pickup_datetime: timestamp, dropoff_datetime: timestamp, trip_time_in_secs: string, trip_distance: string, pickup_longitude: float, pickup_latitude: float, dropoff_longitude: float, dropoff_latitude: float, payment_type: string, fare_amount: float, surcharge: float, mta_tax: float, tip_amount: float, tolls_amount: float, total_amount: float, start_cell: float, end_cell: float]"
      ]
     },
     "metadata": {},
     "output_type": "display_data"
    },
    {
     "data": {
      "text/plain": [
       "{'isDataAvailable': True,\n",
       " 'isTriggerActive': True,\n",
       " 'message': 'Processing new data'}"
      ]
     },
     "metadata": {},
     "output_type": "display_data"
    },
    {
     "data": {
      "text/plain": [
       "DataFrame[medallion: string, hack_license: string, pickup_datetime: timestamp, dropoff_datetime: timestamp, trip_time_in_secs: string, trip_distance: string, pickup_longitude: float, pickup_latitude: float, dropoff_longitude: float, dropoff_latitude: float, payment_type: string, fare_amount: float, surcharge: float, mta_tax: float, tip_amount: float, tolls_amount: float, total_amount: float, start_cell: float, end_cell: float]"
      ]
     },
     "metadata": {},
     "output_type": "display_data"
    },
    {
     "data": {
      "text/plain": [
       "{'isDataAvailable': True,\n",
       " 'isTriggerActive': True,\n",
       " 'message': 'Processing new data'}"
      ]
     },
     "metadata": {},
     "output_type": "display_data"
    },
    {
     "data": {
      "text/plain": [
       "DataFrame[medallion: string, hack_license: string, pickup_datetime: timestamp, dropoff_datetime: timestamp, trip_time_in_secs: string, trip_distance: string, pickup_longitude: float, pickup_latitude: float, dropoff_longitude: float, dropoff_latitude: float, payment_type: string, fare_amount: float, surcharge: float, mta_tax: float, tip_amount: float, tolls_amount: float, total_amount: float, start_cell: float, end_cell: float]"
      ]
     },
     "metadata": {},
     "output_type": "display_data"
    },
    {
     "data": {
      "text/plain": [
       "{'isDataAvailable': True,\n",
       " 'isTriggerActive': True,\n",
       " 'message': 'Processing new data'}"
      ]
     },
     "metadata": {},
     "output_type": "display_data"
    },
    {
     "data": {
      "text/plain": [
       "DataFrame[medallion: string, hack_license: string, pickup_datetime: timestamp, dropoff_datetime: timestamp, trip_time_in_secs: string, trip_distance: string, pickup_longitude: float, pickup_latitude: float, dropoff_longitude: float, dropoff_latitude: float, payment_type: string, fare_amount: float, surcharge: float, mta_tax: float, tip_amount: float, tolls_amount: float, total_amount: float, start_cell: float, end_cell: float]"
      ]
     },
     "metadata": {},
     "output_type": "display_data"
    },
    {
     "data": {
      "text/plain": [
       "{'isDataAvailable': True,\n",
       " 'isTriggerActive': True,\n",
       " 'message': 'Processing new data'}"
      ]
     },
     "metadata": {},
     "output_type": "display_data"
    },
    {
     "data": {
      "text/plain": [
       "DataFrame[medallion: string, hack_license: string, pickup_datetime: timestamp, dropoff_datetime: timestamp, trip_time_in_secs: string, trip_distance: string, pickup_longitude: float, pickup_latitude: float, dropoff_longitude: float, dropoff_latitude: float, payment_type: string, fare_amount: float, surcharge: float, mta_tax: float, tip_amount: float, tolls_amount: float, total_amount: float, start_cell: float, end_cell: float]"
      ]
     },
     "metadata": {},
     "output_type": "display_data"
    },
    {
     "data": {
      "text/plain": [
       "{'isDataAvailable': True,\n",
       " 'isTriggerActive': True,\n",
       " 'message': 'Processing new data'}"
      ]
     },
     "metadata": {},
     "output_type": "display_data"
    },
    {
     "data": {
      "text/plain": [
       "DataFrame[medallion: string, hack_license: string, pickup_datetime: timestamp, dropoff_datetime: timestamp, trip_time_in_secs: string, trip_distance: string, pickup_longitude: float, pickup_latitude: float, dropoff_longitude: float, dropoff_latitude: float, payment_type: string, fare_amount: float, surcharge: float, mta_tax: float, tip_amount: float, tolls_amount: float, total_amount: float, start_cell: float, end_cell: float]"
      ]
     },
     "metadata": {},
     "output_type": "display_data"
    },
    {
     "data": {
      "text/plain": [
       "{'isDataAvailable': True,\n",
       " 'isTriggerActive': True,\n",
       " 'message': 'Processing new data'}"
      ]
     },
     "metadata": {},
     "output_type": "display_data"
    },
    {
     "data": {
      "text/plain": [
       "DataFrame[medallion: string, hack_license: string, pickup_datetime: timestamp, dropoff_datetime: timestamp, trip_time_in_secs: string, trip_distance: string, pickup_longitude: float, pickup_latitude: float, dropoff_longitude: float, dropoff_latitude: float, payment_type: string, fare_amount: float, surcharge: float, mta_tax: float, tip_amount: float, tolls_amount: float, total_amount: float, start_cell: float, end_cell: float]"
      ]
     },
     "metadata": {},
     "output_type": "display_data"
    },
    {
     "data": {
      "text/plain": [
       "{'isDataAvailable': True,\n",
       " 'isTriggerActive': True,\n",
       " 'message': 'Processing new data'}"
      ]
     },
     "metadata": {},
     "output_type": "display_data"
    },
    {
     "data": {
      "text/plain": [
       "DataFrame[medallion: string, hack_license: string, pickup_datetime: timestamp, dropoff_datetime: timestamp, trip_time_in_secs: string, trip_distance: string, pickup_longitude: float, pickup_latitude: float, dropoff_longitude: float, dropoff_latitude: float, payment_type: string, fare_amount: float, surcharge: float, mta_tax: float, tip_amount: float, tolls_amount: float, total_amount: float, start_cell: float, end_cell: float]"
      ]
     },
     "metadata": {},
     "output_type": "display_data"
    },
    {
     "data": {
      "text/plain": [
       "{'isDataAvailable': True,\n",
       " 'isTriggerActive': True,\n",
       " 'message': 'Processing new data'}"
      ]
     },
     "metadata": {},
     "output_type": "display_data"
    },
    {
     "data": {
      "text/plain": [
       "DataFrame[medallion: string, hack_license: string, pickup_datetime: timestamp, dropoff_datetime: timestamp, trip_time_in_secs: string, trip_distance: string, pickup_longitude: float, pickup_latitude: float, dropoff_longitude: float, dropoff_latitude: float, payment_type: string, fare_amount: float, surcharge: float, mta_tax: float, tip_amount: float, tolls_amount: float, total_amount: float, start_cell: float, end_cell: float]"
      ]
     },
     "metadata": {},
     "output_type": "display_data"
    },
    {
     "data": {
      "text/plain": [
       "{'isDataAvailable': True,\n",
       " 'isTriggerActive': True,\n",
       " 'message': 'Processing new data'}"
      ]
     },
     "metadata": {},
     "output_type": "display_data"
    },
    {
     "data": {
      "text/plain": [
       "DataFrame[medallion: string, hack_license: string, pickup_datetime: timestamp, dropoff_datetime: timestamp, trip_time_in_secs: string, trip_distance: string, pickup_longitude: float, pickup_latitude: float, dropoff_longitude: float, dropoff_latitude: float, payment_type: string, fare_amount: float, surcharge: float, mta_tax: float, tip_amount: float, tolls_amount: float, total_amount: float, start_cell: float, end_cell: float]"
      ]
     },
     "metadata": {},
     "output_type": "display_data"
    },
    {
     "data": {
      "text/plain": [
       "{'isDataAvailable': True,\n",
       " 'isTriggerActive': True,\n",
       " 'message': 'Processing new data'}"
      ]
     },
     "metadata": {},
     "output_type": "display_data"
    },
    {
     "data": {
      "text/plain": [
       "DataFrame[medallion: string, hack_license: string, pickup_datetime: timestamp, dropoff_datetime: timestamp, trip_time_in_secs: string, trip_distance: string, pickup_longitude: float, pickup_latitude: float, dropoff_longitude: float, dropoff_latitude: float, payment_type: string, fare_amount: float, surcharge: float, mta_tax: float, tip_amount: float, tolls_amount: float, total_amount: float, start_cell: float, end_cell: float]"
      ]
     },
     "metadata": {},
     "output_type": "display_data"
    },
    {
     "data": {
      "text/plain": [
       "{'isDataAvailable': True,\n",
       " 'isTriggerActive': True,\n",
       " 'message': 'Processing new data'}"
      ]
     },
     "metadata": {},
     "output_type": "display_data"
    },
    {
     "data": {
      "text/plain": [
       "DataFrame[medallion: string, hack_license: string, pickup_datetime: timestamp, dropoff_datetime: timestamp, trip_time_in_secs: string, trip_distance: string, pickup_longitude: float, pickup_latitude: float, dropoff_longitude: float, dropoff_latitude: float, payment_type: string, fare_amount: float, surcharge: float, mta_tax: float, tip_amount: float, tolls_amount: float, total_amount: float, start_cell: float, end_cell: float]"
      ]
     },
     "metadata": {},
     "output_type": "display_data"
    },
    {
     "data": {
      "text/plain": [
       "{'isDataAvailable': True,\n",
       " 'isTriggerActive': True,\n",
       " 'message': 'Processing new data'}"
      ]
     },
     "metadata": {},
     "output_type": "display_data"
    },
    {
     "data": {
      "text/plain": [
       "DataFrame[medallion: string, hack_license: string, pickup_datetime: timestamp, dropoff_datetime: timestamp, trip_time_in_secs: string, trip_distance: string, pickup_longitude: float, pickup_latitude: float, dropoff_longitude: float, dropoff_latitude: float, payment_type: string, fare_amount: float, surcharge: float, mta_tax: float, tip_amount: float, tolls_amount: float, total_amount: float, start_cell: float, end_cell: float]"
      ]
     },
     "metadata": {},
     "output_type": "display_data"
    },
    {
     "data": {
      "text/plain": [
       "{'isDataAvailable': True,\n",
       " 'isTriggerActive': True,\n",
       " 'message': 'Processing new data'}"
      ]
     },
     "metadata": {},
     "output_type": "display_data"
    },
    {
     "data": {
      "text/plain": [
       "DataFrame[medallion: string, hack_license: string, pickup_datetime: timestamp, dropoff_datetime: timestamp, trip_time_in_secs: string, trip_distance: string, pickup_longitude: float, pickup_latitude: float, dropoff_longitude: float, dropoff_latitude: float, payment_type: string, fare_amount: float, surcharge: float, mta_tax: float, tip_amount: float, tolls_amount: float, total_amount: float, start_cell: float, end_cell: float]"
      ]
     },
     "metadata": {},
     "output_type": "display_data"
    },
    {
     "data": {
      "text/plain": [
       "{'isDataAvailable': True,\n",
       " 'isTriggerActive': True,\n",
       " 'message': 'Processing new data'}"
      ]
     },
     "metadata": {},
     "output_type": "display_data"
    },
    {
     "data": {
      "text/plain": [
       "DataFrame[medallion: string, hack_license: string, pickup_datetime: timestamp, dropoff_datetime: timestamp, trip_time_in_secs: string, trip_distance: string, pickup_longitude: float, pickup_latitude: float, dropoff_longitude: float, dropoff_latitude: float, payment_type: string, fare_amount: float, surcharge: float, mta_tax: float, tip_amount: float, tolls_amount: float, total_amount: float, start_cell: float, end_cell: float]"
      ]
     },
     "metadata": {},
     "output_type": "display_data"
    },
    {
     "data": {
      "text/plain": [
       "{'isDataAvailable': True,\n",
       " 'isTriggerActive': True,\n",
       " 'message': 'Processing new data'}"
      ]
     },
     "metadata": {},
     "output_type": "display_data"
    },
    {
     "data": {
      "text/plain": [
       "DataFrame[medallion: string, hack_license: string, pickup_datetime: timestamp, dropoff_datetime: timestamp, trip_time_in_secs: string, trip_distance: string, pickup_longitude: float, pickup_latitude: float, dropoff_longitude: float, dropoff_latitude: float, payment_type: string, fare_amount: float, surcharge: float, mta_tax: float, tip_amount: float, tolls_amount: float, total_amount: float, start_cell: float, end_cell: float]"
      ]
     },
     "metadata": {},
     "output_type": "display_data"
    },
    {
     "data": {
      "text/plain": [
       "{'isDataAvailable': True,\n",
       " 'isTriggerActive': True,\n",
       " 'message': 'Processing new data'}"
      ]
     },
     "metadata": {},
     "output_type": "display_data"
    },
    {
     "data": {
      "text/plain": [
       "DataFrame[medallion: string, hack_license: string, pickup_datetime: timestamp, dropoff_datetime: timestamp, trip_time_in_secs: string, trip_distance: string, pickup_longitude: float, pickup_latitude: float, dropoff_longitude: float, dropoff_latitude: float, payment_type: string, fare_amount: float, surcharge: float, mta_tax: float, tip_amount: float, tolls_amount: float, total_amount: float, start_cell: float, end_cell: float]"
      ]
     },
     "metadata": {},
     "output_type": "display_data"
    },
    {
     "data": {
      "text/plain": [
       "{'isDataAvailable': True,\n",
       " 'isTriggerActive': True,\n",
       " 'message': 'Processing new data'}"
      ]
     },
     "metadata": {},
     "output_type": "display_data"
    },
    {
     "data": {
      "text/plain": [
       "DataFrame[medallion: string, hack_license: string, pickup_datetime: timestamp, dropoff_datetime: timestamp, trip_time_in_secs: string, trip_distance: string, pickup_longitude: float, pickup_latitude: float, dropoff_longitude: float, dropoff_latitude: float, payment_type: string, fare_amount: float, surcharge: float, mta_tax: float, tip_amount: float, tolls_amount: float, total_amount: float, start_cell: float, end_cell: float]"
      ]
     },
     "metadata": {},
     "output_type": "display_data"
    },
    {
     "data": {
      "text/plain": [
       "{'isDataAvailable': True,\n",
       " 'isTriggerActive': True,\n",
       " 'message': 'Processing new data'}"
      ]
     },
     "metadata": {},
     "output_type": "display_data"
    },
    {
     "data": {
      "text/plain": [
       "DataFrame[medallion: string, hack_license: string, pickup_datetime: timestamp, dropoff_datetime: timestamp, trip_time_in_secs: string, trip_distance: string, pickup_longitude: float, pickup_latitude: float, dropoff_longitude: float, dropoff_latitude: float, payment_type: string, fare_amount: float, surcharge: float, mta_tax: float, tip_amount: float, tolls_amount: float, total_amount: float, start_cell: float, end_cell: float]"
      ]
     },
     "metadata": {},
     "output_type": "display_data"
    },
    {
     "data": {
      "text/plain": [
       "{'isDataAvailable': True,\n",
       " 'isTriggerActive': True,\n",
       " 'message': 'Processing new data'}"
      ]
     },
     "metadata": {},
     "output_type": "display_data"
    },
    {
     "data": {
      "text/plain": [
       "DataFrame[medallion: string, hack_license: string, pickup_datetime: timestamp, dropoff_datetime: timestamp, trip_time_in_secs: string, trip_distance: string, pickup_longitude: float, pickup_latitude: float, dropoff_longitude: float, dropoff_latitude: float, payment_type: string, fare_amount: float, surcharge: float, mta_tax: float, tip_amount: float, tolls_amount: float, total_amount: float, start_cell: float, end_cell: float]"
      ]
     },
     "metadata": {},
     "output_type": "display_data"
    },
    {
     "data": {
      "text/plain": [
       "{'isDataAvailable': True,\n",
       " 'isTriggerActive': True,\n",
       " 'message': 'Processing new data'}"
      ]
     },
     "metadata": {},
     "output_type": "display_data"
    },
    {
     "data": {
      "text/plain": [
       "DataFrame[medallion: string, hack_license: string, pickup_datetime: timestamp, dropoff_datetime: timestamp, trip_time_in_secs: string, trip_distance: string, pickup_longitude: float, pickup_latitude: float, dropoff_longitude: float, dropoff_latitude: float, payment_type: string, fare_amount: float, surcharge: float, mta_tax: float, tip_amount: float, tolls_amount: float, total_amount: float, start_cell: float, end_cell: float]"
      ]
     },
     "metadata": {},
     "output_type": "display_data"
    },
    {
     "data": {
      "text/plain": [
       "{'isDataAvailable': True,\n",
       " 'isTriggerActive': True,\n",
       " 'message': 'Processing new data'}"
      ]
     },
     "metadata": {},
     "output_type": "display_data"
    },
    {
     "data": {
      "text/plain": [
       "DataFrame[medallion: string, hack_license: string, pickup_datetime: timestamp, dropoff_datetime: timestamp, trip_time_in_secs: string, trip_distance: string, pickup_longitude: float, pickup_latitude: float, dropoff_longitude: float, dropoff_latitude: float, payment_type: string, fare_amount: float, surcharge: float, mta_tax: float, tip_amount: float, tolls_amount: float, total_amount: float, start_cell: float, end_cell: float]"
      ]
     },
     "metadata": {},
     "output_type": "display_data"
    },
    {
     "data": {
      "text/plain": [
       "{'isDataAvailable': True,\n",
       " 'isTriggerActive': True,\n",
       " 'message': 'Processing new data'}"
      ]
     },
     "metadata": {},
     "output_type": "display_data"
    },
    {
     "data": {
      "text/plain": [
       "DataFrame[medallion: string, hack_license: string, pickup_datetime: timestamp, dropoff_datetime: timestamp, trip_time_in_secs: string, trip_distance: string, pickup_longitude: float, pickup_latitude: float, dropoff_longitude: float, dropoff_latitude: float, payment_type: string, fare_amount: float, surcharge: float, mta_tax: float, tip_amount: float, tolls_amount: float, total_amount: float, start_cell: float, end_cell: float]"
      ]
     },
     "metadata": {},
     "output_type": "display_data"
    },
    {
     "data": {
      "text/plain": [
       "{'isDataAvailable': True,\n",
       " 'isTriggerActive': True,\n",
       " 'message': 'Processing new data'}"
      ]
     },
     "metadata": {},
     "output_type": "display_data"
    },
    {
     "data": {
      "text/plain": [
       "DataFrame[medallion: string, hack_license: string, pickup_datetime: timestamp, dropoff_datetime: timestamp, trip_time_in_secs: string, trip_distance: string, pickup_longitude: float, pickup_latitude: float, dropoff_longitude: float, dropoff_latitude: float, payment_type: string, fare_amount: float, surcharge: float, mta_tax: float, tip_amount: float, tolls_amount: float, total_amount: float, start_cell: float, end_cell: float]"
      ]
     },
     "metadata": {},
     "output_type": "display_data"
    },
    {
     "data": {
      "text/plain": [
       "{'isDataAvailable': True,\n",
       " 'isTriggerActive': True,\n",
       " 'message': 'Processing new data'}"
      ]
     },
     "metadata": {},
     "output_type": "display_data"
    },
    {
     "data": {
      "text/plain": [
       "DataFrame[medallion: string, hack_license: string, pickup_datetime: timestamp, dropoff_datetime: timestamp, trip_time_in_secs: string, trip_distance: string, pickup_longitude: float, pickup_latitude: float, dropoff_longitude: float, dropoff_latitude: float, payment_type: string, fare_amount: float, surcharge: float, mta_tax: float, tip_amount: float, tolls_amount: float, total_amount: float, start_cell: float, end_cell: float]"
      ]
     },
     "metadata": {},
     "output_type": "display_data"
    },
    {
     "data": {
      "text/plain": [
       "{'isDataAvailable': True,\n",
       " 'isTriggerActive': True,\n",
       " 'message': 'Processing new data'}"
      ]
     },
     "metadata": {},
     "output_type": "display_data"
    },
    {
     "data": {
      "text/plain": [
       "DataFrame[medallion: string, hack_license: string, pickup_datetime: timestamp, dropoff_datetime: timestamp, trip_time_in_secs: string, trip_distance: string, pickup_longitude: float, pickup_latitude: float, dropoff_longitude: float, dropoff_latitude: float, payment_type: string, fare_amount: float, surcharge: float, mta_tax: float, tip_amount: float, tolls_amount: float, total_amount: float, start_cell: float, end_cell: float]"
      ]
     },
     "metadata": {},
     "output_type": "display_data"
    },
    {
     "data": {
      "text/plain": [
       "{'isDataAvailable': True,\n",
       " 'isTriggerActive': True,\n",
       " 'message': 'Processing new data'}"
      ]
     },
     "metadata": {},
     "output_type": "display_data"
    },
    {
     "data": {
      "text/plain": [
       "DataFrame[medallion: string, hack_license: string, pickup_datetime: timestamp, dropoff_datetime: timestamp, trip_time_in_secs: string, trip_distance: string, pickup_longitude: float, pickup_latitude: float, dropoff_longitude: float, dropoff_latitude: float, payment_type: string, fare_amount: float, surcharge: float, mta_tax: float, tip_amount: float, tolls_amount: float, total_amount: float, start_cell: float, end_cell: float]"
      ]
     },
     "metadata": {},
     "output_type": "display_data"
    },
    {
     "data": {
      "text/plain": [
       "{'isDataAvailable': True,\n",
       " 'isTriggerActive': True,\n",
       " 'message': 'Processing new data'}"
      ]
     },
     "metadata": {},
     "output_type": "display_data"
    },
    {
     "data": {
      "text/plain": [
       "DataFrame[medallion: string, hack_license: string, pickup_datetime: timestamp, dropoff_datetime: timestamp, trip_time_in_secs: string, trip_distance: string, pickup_longitude: float, pickup_latitude: float, dropoff_longitude: float, dropoff_latitude: float, payment_type: string, fare_amount: float, surcharge: float, mta_tax: float, tip_amount: float, tolls_amount: float, total_amount: float, start_cell: float, end_cell: float]"
      ]
     },
     "metadata": {},
     "output_type": "display_data"
    },
    {
     "data": {
      "text/plain": [
       "{'isDataAvailable': True,\n",
       " 'isTriggerActive': True,\n",
       " 'message': 'Processing new data'}"
      ]
     },
     "metadata": {},
     "output_type": "display_data"
    },
    {
     "data": {
      "text/plain": [
       "DataFrame[medallion: string, hack_license: string, pickup_datetime: timestamp, dropoff_datetime: timestamp, trip_time_in_secs: string, trip_distance: string, pickup_longitude: float, pickup_latitude: float, dropoff_longitude: float, dropoff_latitude: float, payment_type: string, fare_amount: float, surcharge: float, mta_tax: float, tip_amount: float, tolls_amount: float, total_amount: float, start_cell: float, end_cell: float]"
      ]
     },
     "metadata": {},
     "output_type": "display_data"
    },
    {
     "data": {
      "text/plain": [
       "{'isDataAvailable': True,\n",
       " 'isTriggerActive': True,\n",
       " 'message': 'Processing new data'}"
      ]
     },
     "metadata": {},
     "output_type": "display_data"
    },
    {
     "data": {
      "text/plain": [
       "DataFrame[medallion: string, hack_license: string, pickup_datetime: timestamp, dropoff_datetime: timestamp, trip_time_in_secs: string, trip_distance: string, pickup_longitude: float, pickup_latitude: float, dropoff_longitude: float, dropoff_latitude: float, payment_type: string, fare_amount: float, surcharge: float, mta_tax: float, tip_amount: float, tolls_amount: float, total_amount: float, start_cell: float, end_cell: float]"
      ]
     },
     "metadata": {},
     "output_type": "display_data"
    },
    {
     "data": {
      "text/plain": [
       "{'isDataAvailable': True,\n",
       " 'isTriggerActive': True,\n",
       " 'message': 'Processing new data'}"
      ]
     },
     "metadata": {},
     "output_type": "display_data"
    },
    {
     "data": {
      "text/plain": [
       "DataFrame[medallion: string, hack_license: string, pickup_datetime: timestamp, dropoff_datetime: timestamp, trip_time_in_secs: string, trip_distance: string, pickup_longitude: float, pickup_latitude: float, dropoff_longitude: float, dropoff_latitude: float, payment_type: string, fare_amount: float, surcharge: float, mta_tax: float, tip_amount: float, tolls_amount: float, total_amount: float, start_cell: float, end_cell: float]"
      ]
     },
     "metadata": {},
     "output_type": "display_data"
    },
    {
     "data": {
      "text/plain": [
       "{'isDataAvailable': True,\n",
       " 'isTriggerActive': True,\n",
       " 'message': 'Processing new data'}"
      ]
     },
     "metadata": {},
     "output_type": "display_data"
    },
    {
     "data": {
      "text/plain": [
       "DataFrame[medallion: string, hack_license: string, pickup_datetime: timestamp, dropoff_datetime: timestamp, trip_time_in_secs: string, trip_distance: string, pickup_longitude: float, pickup_latitude: float, dropoff_longitude: float, dropoff_latitude: float, payment_type: string, fare_amount: float, surcharge: float, mta_tax: float, tip_amount: float, tolls_amount: float, total_amount: float, start_cell: float, end_cell: float]"
      ]
     },
     "metadata": {},
     "output_type": "display_data"
    },
    {
     "data": {
      "text/plain": [
       "{'isDataAvailable': True,\n",
       " 'isTriggerActive': True,\n",
       " 'message': 'Processing new data'}"
      ]
     },
     "metadata": {},
     "output_type": "display_data"
    },
    {
     "data": {
      "text/plain": [
       "DataFrame[medallion: string, hack_license: string, pickup_datetime: timestamp, dropoff_datetime: timestamp, trip_time_in_secs: string, trip_distance: string, pickup_longitude: float, pickup_latitude: float, dropoff_longitude: float, dropoff_latitude: float, payment_type: string, fare_amount: float, surcharge: float, mta_tax: float, tip_amount: float, tolls_amount: float, total_amount: float, start_cell: float, end_cell: float]"
      ]
     },
     "metadata": {},
     "output_type": "display_data"
    },
    {
     "data": {
      "text/plain": [
       "{'isDataAvailable': True,\n",
       " 'isTriggerActive': True,\n",
       " 'message': 'Processing new data'}"
      ]
     },
     "metadata": {},
     "output_type": "display_data"
    },
    {
     "data": {
      "text/plain": [
       "DataFrame[medallion: string, hack_license: string, pickup_datetime: timestamp, dropoff_datetime: timestamp, trip_time_in_secs: string, trip_distance: string, pickup_longitude: float, pickup_latitude: float, dropoff_longitude: float, dropoff_latitude: float, payment_type: string, fare_amount: float, surcharge: float, mta_tax: float, tip_amount: float, tolls_amount: float, total_amount: float, start_cell: float, end_cell: float]"
      ]
     },
     "metadata": {},
     "output_type": "display_data"
    },
    {
     "data": {
      "text/plain": [
       "{'isDataAvailable': True,\n",
       " 'isTriggerActive': True,\n",
       " 'message': 'Processing new data'}"
      ]
     },
     "metadata": {},
     "output_type": "display_data"
    },
    {
     "data": {
      "text/plain": [
       "DataFrame[medallion: string, hack_license: string, pickup_datetime: timestamp, dropoff_datetime: timestamp, trip_time_in_secs: string, trip_distance: string, pickup_longitude: float, pickup_latitude: float, dropoff_longitude: float, dropoff_latitude: float, payment_type: string, fare_amount: float, surcharge: float, mta_tax: float, tip_amount: float, tolls_amount: float, total_amount: float, start_cell: float, end_cell: float]"
      ]
     },
     "metadata": {},
     "output_type": "display_data"
    },
    {
     "data": {
      "text/plain": [
       "{'isDataAvailable': True,\n",
       " 'isTriggerActive': True,\n",
       " 'message': 'Processing new data'}"
      ]
     },
     "metadata": {},
     "output_type": "display_data"
    },
    {
     "data": {
      "text/plain": [
       "DataFrame[medallion: string, hack_license: string, pickup_datetime: timestamp, dropoff_datetime: timestamp, trip_time_in_secs: string, trip_distance: string, pickup_longitude: float, pickup_latitude: float, dropoff_longitude: float, dropoff_latitude: float, payment_type: string, fare_amount: float, surcharge: float, mta_tax: float, tip_amount: float, tolls_amount: float, total_amount: float, start_cell: float, end_cell: float]"
      ]
     },
     "metadata": {},
     "output_type": "display_data"
    },
    {
     "data": {
      "text/plain": [
       "{'isDataAvailable': True,\n",
       " 'isTriggerActive': True,\n",
       " 'message': 'Processing new data'}"
      ]
     },
     "metadata": {},
     "output_type": "display_data"
    },
    {
     "data": {
      "text/plain": [
       "DataFrame[medallion: string, hack_license: string, pickup_datetime: timestamp, dropoff_datetime: timestamp, trip_time_in_secs: string, trip_distance: string, pickup_longitude: float, pickup_latitude: float, dropoff_longitude: float, dropoff_latitude: float, payment_type: string, fare_amount: float, surcharge: float, mta_tax: float, tip_amount: float, tolls_amount: float, total_amount: float, start_cell: float, end_cell: float]"
      ]
     },
     "metadata": {},
     "output_type": "display_data"
    },
    {
     "data": {
      "text/plain": [
       "{'isDataAvailable': True,\n",
       " 'isTriggerActive': True,\n",
       " 'message': 'Processing new data'}"
      ]
     },
     "metadata": {},
     "output_type": "display_data"
    },
    {
     "data": {
      "text/plain": [
       "DataFrame[medallion: string, hack_license: string, pickup_datetime: timestamp, dropoff_datetime: timestamp, trip_time_in_secs: string, trip_distance: string, pickup_longitude: float, pickup_latitude: float, dropoff_longitude: float, dropoff_latitude: float, payment_type: string, fare_amount: float, surcharge: float, mta_tax: float, tip_amount: float, tolls_amount: float, total_amount: float, start_cell: float, end_cell: float]"
      ]
     },
     "metadata": {},
     "output_type": "display_data"
    },
    {
     "data": {
      "text/plain": [
       "{'isDataAvailable': True,\n",
       " 'isTriggerActive': True,\n",
       " 'message': 'Processing new data'}"
      ]
     },
     "metadata": {},
     "output_type": "display_data"
    },
    {
     "data": {
      "text/plain": [
       "DataFrame[medallion: string, hack_license: string, pickup_datetime: timestamp, dropoff_datetime: timestamp, trip_time_in_secs: string, trip_distance: string, pickup_longitude: float, pickup_latitude: float, dropoff_longitude: float, dropoff_latitude: float, payment_type: string, fare_amount: float, surcharge: float, mta_tax: float, tip_amount: float, tolls_amount: float, total_amount: float, start_cell: float, end_cell: float]"
      ]
     },
     "metadata": {},
     "output_type": "display_data"
    },
    {
     "data": {
      "text/plain": [
       "{'isDataAvailable': True,\n",
       " 'isTriggerActive': True,\n",
       " 'message': 'Processing new data'}"
      ]
     },
     "metadata": {},
     "output_type": "display_data"
    },
    {
     "data": {
      "text/plain": [
       "DataFrame[medallion: string, hack_license: string, pickup_datetime: timestamp, dropoff_datetime: timestamp, trip_time_in_secs: string, trip_distance: string, pickup_longitude: float, pickup_latitude: float, dropoff_longitude: float, dropoff_latitude: float, payment_type: string, fare_amount: float, surcharge: float, mta_tax: float, tip_amount: float, tolls_amount: float, total_amount: float, start_cell: float, end_cell: float]"
      ]
     },
     "metadata": {},
     "output_type": "display_data"
    },
    {
     "data": {
      "text/plain": [
       "{'isDataAvailable': True,\n",
       " 'isTriggerActive': True,\n",
       " 'message': 'Processing new data'}"
      ]
     },
     "metadata": {},
     "output_type": "display_data"
    },
    {
     "data": {
      "text/plain": [
       "DataFrame[medallion: string, hack_license: string, pickup_datetime: timestamp, dropoff_datetime: timestamp, trip_time_in_secs: string, trip_distance: string, pickup_longitude: float, pickup_latitude: float, dropoff_longitude: float, dropoff_latitude: float, payment_type: string, fare_amount: float, surcharge: float, mta_tax: float, tip_amount: float, tolls_amount: float, total_amount: float, start_cell: float, end_cell: float]"
      ]
     },
     "metadata": {},
     "output_type": "display_data"
    },
    {
     "data": {
      "text/plain": [
       "{'isDataAvailable': True,\n",
       " 'isTriggerActive': True,\n",
       " 'message': 'Processing new data'}"
      ]
     },
     "metadata": {},
     "output_type": "display_data"
    },
    {
     "data": {
      "text/plain": [
       "DataFrame[medallion: string, hack_license: string, pickup_datetime: timestamp, dropoff_datetime: timestamp, trip_time_in_secs: string, trip_distance: string, pickup_longitude: float, pickup_latitude: float, dropoff_longitude: float, dropoff_latitude: float, payment_type: string, fare_amount: float, surcharge: float, mta_tax: float, tip_amount: float, tolls_amount: float, total_amount: float, start_cell: float, end_cell: float]"
      ]
     },
     "metadata": {},
     "output_type": "display_data"
    },
    {
     "data": {
      "text/plain": [
       "{'isDataAvailable': True,\n",
       " 'isTriggerActive': True,\n",
       " 'message': 'Processing new data'}"
      ]
     },
     "metadata": {},
     "output_type": "display_data"
    },
    {
     "data": {
      "text/plain": [
       "DataFrame[medallion: string, hack_license: string, pickup_datetime: timestamp, dropoff_datetime: timestamp, trip_time_in_secs: string, trip_distance: string, pickup_longitude: float, pickup_latitude: float, dropoff_longitude: float, dropoff_latitude: float, payment_type: string, fare_amount: float, surcharge: float, mta_tax: float, tip_amount: float, tolls_amount: float, total_amount: float, start_cell: float, end_cell: float]"
      ]
     },
     "metadata": {},
     "output_type": "display_data"
    },
    {
     "data": {
      "text/plain": [
       "{'isDataAvailable': True,\n",
       " 'isTriggerActive': True,\n",
       " 'message': 'Processing new data'}"
      ]
     },
     "metadata": {},
     "output_type": "display_data"
    },
    {
     "data": {
      "text/plain": [
       "DataFrame[medallion: string, hack_license: string, pickup_datetime: timestamp, dropoff_datetime: timestamp, trip_time_in_secs: string, trip_distance: string, pickup_longitude: float, pickup_latitude: float, dropoff_longitude: float, dropoff_latitude: float, payment_type: string, fare_amount: float, surcharge: float, mta_tax: float, tip_amount: float, tolls_amount: float, total_amount: float, start_cell: float, end_cell: float]"
      ]
     },
     "metadata": {},
     "output_type": "display_data"
    },
    {
     "data": {
      "text/plain": [
       "{'isDataAvailable': True,\n",
       " 'isTriggerActive': True,\n",
       " 'message': 'Processing new data'}"
      ]
     },
     "metadata": {},
     "output_type": "display_data"
    },
    {
     "data": {
      "text/plain": [
       "DataFrame[medallion: string, hack_license: string, pickup_datetime: timestamp, dropoff_datetime: timestamp, trip_time_in_secs: string, trip_distance: string, pickup_longitude: float, pickup_latitude: float, dropoff_longitude: float, dropoff_latitude: float, payment_type: string, fare_amount: float, surcharge: float, mta_tax: float, tip_amount: float, tolls_amount: float, total_amount: float, start_cell: float, end_cell: float]"
      ]
     },
     "metadata": {},
     "output_type": "display_data"
    },
    {
     "data": {
      "text/plain": [
       "{'isDataAvailable': True,\n",
       " 'isTriggerActive': True,\n",
       " 'message': 'Processing new data'}"
      ]
     },
     "metadata": {},
     "output_type": "display_data"
    },
    {
     "data": {
      "text/plain": [
       "DataFrame[medallion: string, hack_license: string, pickup_datetime: timestamp, dropoff_datetime: timestamp, trip_time_in_secs: string, trip_distance: string, pickup_longitude: float, pickup_latitude: float, dropoff_longitude: float, dropoff_latitude: float, payment_type: string, fare_amount: float, surcharge: float, mta_tax: float, tip_amount: float, tolls_amount: float, total_amount: float, start_cell: float, end_cell: float]"
      ]
     },
     "metadata": {},
     "output_type": "display_data"
    },
    {
     "data": {
      "text/plain": [
       "{'isDataAvailable': True,\n",
       " 'isTriggerActive': True,\n",
       " 'message': 'Processing new data'}"
      ]
     },
     "metadata": {},
     "output_type": "display_data"
    },
    {
     "data": {
      "text/plain": [
       "DataFrame[medallion: string, hack_license: string, pickup_datetime: timestamp, dropoff_datetime: timestamp, trip_time_in_secs: string, trip_distance: string, pickup_longitude: float, pickup_latitude: float, dropoff_longitude: float, dropoff_latitude: float, payment_type: string, fare_amount: float, surcharge: float, mta_tax: float, tip_amount: float, tolls_amount: float, total_amount: float, start_cell: float, end_cell: float]"
      ]
     },
     "metadata": {},
     "output_type": "display_data"
    },
    {
     "data": {
      "text/plain": [
       "{'isDataAvailable': True,\n",
       " 'isTriggerActive': True,\n",
       " 'message': 'Processing new data'}"
      ]
     },
     "metadata": {},
     "output_type": "display_data"
    },
    {
     "data": {
      "text/plain": [
       "DataFrame[medallion: string, hack_license: string, pickup_datetime: timestamp, dropoff_datetime: timestamp, trip_time_in_secs: string, trip_distance: string, pickup_longitude: float, pickup_latitude: float, dropoff_longitude: float, dropoff_latitude: float, payment_type: string, fare_amount: float, surcharge: float, mta_tax: float, tip_amount: float, tolls_amount: float, total_amount: float, start_cell: float, end_cell: float]"
      ]
     },
     "metadata": {},
     "output_type": "display_data"
    },
    {
     "data": {
      "text/plain": [
       "{'isDataAvailable': True,\n",
       " 'isTriggerActive': True,\n",
       " 'message': 'Processing new data'}"
      ]
     },
     "metadata": {},
     "output_type": "display_data"
    },
    {
     "data": {
      "text/plain": [
       "DataFrame[medallion: string, hack_license: string, pickup_datetime: timestamp, dropoff_datetime: timestamp, trip_time_in_secs: string, trip_distance: string, pickup_longitude: float, pickup_latitude: float, dropoff_longitude: float, dropoff_latitude: float, payment_type: string, fare_amount: float, surcharge: float, mta_tax: float, tip_amount: float, tolls_amount: float, total_amount: float, start_cell: float, end_cell: float]"
      ]
     },
     "metadata": {},
     "output_type": "display_data"
    },
    {
     "data": {
      "text/plain": [
       "{'isDataAvailable': True,\n",
       " 'isTriggerActive': True,\n",
       " 'message': 'Processing new data'}"
      ]
     },
     "metadata": {},
     "output_type": "display_data"
    },
    {
     "data": {
      "text/plain": [
       "DataFrame[medallion: string, hack_license: string, pickup_datetime: timestamp, dropoff_datetime: timestamp, trip_time_in_secs: string, trip_distance: string, pickup_longitude: float, pickup_latitude: float, dropoff_longitude: float, dropoff_latitude: float, payment_type: string, fare_amount: float, surcharge: float, mta_tax: float, tip_amount: float, tolls_amount: float, total_amount: float, start_cell: float, end_cell: float]"
      ]
     },
     "metadata": {},
     "output_type": "display_data"
    },
    {
     "data": {
      "text/plain": [
       "{'isDataAvailable': True,\n",
       " 'isTriggerActive': True,\n",
       " 'message': 'Processing new data'}"
      ]
     },
     "metadata": {},
     "output_type": "display_data"
    },
    {
     "data": {
      "text/plain": [
       "DataFrame[medallion: string, hack_license: string, pickup_datetime: timestamp, dropoff_datetime: timestamp, trip_time_in_secs: string, trip_distance: string, pickup_longitude: float, pickup_latitude: float, dropoff_longitude: float, dropoff_latitude: float, payment_type: string, fare_amount: float, surcharge: float, mta_tax: float, tip_amount: float, tolls_amount: float, total_amount: float, start_cell: float, end_cell: float]"
      ]
     },
     "metadata": {},
     "output_type": "display_data"
    },
    {
     "data": {
      "text/plain": [
       "{'isDataAvailable': True,\n",
       " 'isTriggerActive': True,\n",
       " 'message': 'Processing new data'}"
      ]
     },
     "metadata": {},
     "output_type": "display_data"
    },
    {
     "data": {
      "text/plain": [
       "DataFrame[medallion: string, hack_license: string, pickup_datetime: timestamp, dropoff_datetime: timestamp, trip_time_in_secs: string, trip_distance: string, pickup_longitude: float, pickup_latitude: float, dropoff_longitude: float, dropoff_latitude: float, payment_type: string, fare_amount: float, surcharge: float, mta_tax: float, tip_amount: float, tolls_amount: float, total_amount: float, start_cell: float, end_cell: float]"
      ]
     },
     "metadata": {},
     "output_type": "display_data"
    },
    {
     "data": {
      "text/plain": [
       "{'isDataAvailable': True,\n",
       " 'isTriggerActive': True,\n",
       " 'message': 'Processing new data'}"
      ]
     },
     "metadata": {},
     "output_type": "display_data"
    },
    {
     "data": {
      "text/plain": [
       "DataFrame[medallion: string, hack_license: string, pickup_datetime: timestamp, dropoff_datetime: timestamp, trip_time_in_secs: string, trip_distance: string, pickup_longitude: float, pickup_latitude: float, dropoff_longitude: float, dropoff_latitude: float, payment_type: string, fare_amount: float, surcharge: float, mta_tax: float, tip_amount: float, tolls_amount: float, total_amount: float, start_cell: float, end_cell: float]"
      ]
     },
     "metadata": {},
     "output_type": "display_data"
    },
    {
     "data": {
      "text/plain": [
       "{'isDataAvailable': True,\n",
       " 'isTriggerActive': True,\n",
       " 'message': 'Processing new data'}"
      ]
     },
     "metadata": {},
     "output_type": "display_data"
    },
    {
     "data": {
      "text/plain": [
       "DataFrame[medallion: string, hack_license: string, pickup_datetime: timestamp, dropoff_datetime: timestamp, trip_time_in_secs: string, trip_distance: string, pickup_longitude: float, pickup_latitude: float, dropoff_longitude: float, dropoff_latitude: float, payment_type: string, fare_amount: float, surcharge: float, mta_tax: float, tip_amount: float, tolls_amount: float, total_amount: float, start_cell: float, end_cell: float]"
      ]
     },
     "metadata": {},
     "output_type": "display_data"
    },
    {
     "data": {
      "text/plain": [
       "{'isDataAvailable': True,\n",
       " 'isTriggerActive': True,\n",
       " 'message': 'Processing new data'}"
      ]
     },
     "metadata": {},
     "output_type": "display_data"
    },
    {
     "data": {
      "text/plain": [
       "DataFrame[medallion: string, hack_license: string, pickup_datetime: timestamp, dropoff_datetime: timestamp, trip_time_in_secs: string, trip_distance: string, pickup_longitude: float, pickup_latitude: float, dropoff_longitude: float, dropoff_latitude: float, payment_type: string, fare_amount: float, surcharge: float, mta_tax: float, tip_amount: float, tolls_amount: float, total_amount: float, start_cell: float, end_cell: float]"
      ]
     },
     "metadata": {},
     "output_type": "display_data"
    },
    {
     "data": {
      "text/plain": [
       "{'isDataAvailable': True,\n",
       " 'isTriggerActive': True,\n",
       " 'message': 'Processing new data'}"
      ]
     },
     "metadata": {},
     "output_type": "display_data"
    },
    {
     "data": {
      "text/plain": [
       "DataFrame[medallion: string, hack_license: string, pickup_datetime: timestamp, dropoff_datetime: timestamp, trip_time_in_secs: string, trip_distance: string, pickup_longitude: float, pickup_latitude: float, dropoff_longitude: float, dropoff_latitude: float, payment_type: string, fare_amount: float, surcharge: float, mta_tax: float, tip_amount: float, tolls_amount: float, total_amount: float, start_cell: float, end_cell: float]"
      ]
     },
     "metadata": {},
     "output_type": "display_data"
    },
    {
     "data": {
      "text/plain": [
       "{'isDataAvailable': True,\n",
       " 'isTriggerActive': True,\n",
       " 'message': 'Processing new data'}"
      ]
     },
     "metadata": {},
     "output_type": "display_data"
    },
    {
     "data": {
      "text/plain": [
       "DataFrame[medallion: string, hack_license: string, pickup_datetime: timestamp, dropoff_datetime: timestamp, trip_time_in_secs: string, trip_distance: string, pickup_longitude: float, pickup_latitude: float, dropoff_longitude: float, dropoff_latitude: float, payment_type: string, fare_amount: float, surcharge: float, mta_tax: float, tip_amount: float, tolls_amount: float, total_amount: float, start_cell: float, end_cell: float]"
      ]
     },
     "metadata": {},
     "output_type": "display_data"
    },
    {
     "data": {
      "text/plain": [
       "{'isDataAvailable': True,\n",
       " 'isTriggerActive': True,\n",
       " 'message': 'Processing new data'}"
      ]
     },
     "metadata": {},
     "output_type": "display_data"
    },
    {
     "data": {
      "text/plain": [
       "DataFrame[medallion: string, hack_license: string, pickup_datetime: timestamp, dropoff_datetime: timestamp, trip_time_in_secs: string, trip_distance: string, pickup_longitude: float, pickup_latitude: float, dropoff_longitude: float, dropoff_latitude: float, payment_type: string, fare_amount: float, surcharge: float, mta_tax: float, tip_amount: float, tolls_amount: float, total_amount: float, start_cell: float, end_cell: float]"
      ]
     },
     "metadata": {},
     "output_type": "display_data"
    },
    {
     "name": "stdout",
     "output_type": "stream",
     "text": [
      "+-------------------+--------------------+------------------+----------------+-----------+------------------+------------------+-----------------+\n",
      "|pickup_datetime    |dropoff_datetime    |profitable_cell_id|profitable_areas|empty_taxis|median_profit     |profitability     |delay(in seconds)|\n",
      "+-------------------+--------------------+------------------+----------------+-----------+------------------+------------------+-----------------+\n",
      "|2013-03-31 20:30:00|2013-03-31 21:00:00}|1                 |408.385         |2          |11.0              |5.5               |2.16222          |\n",
      "|2013-03-31 20:30:00|2013-03-31 21:00:00}|2                 |505.368         |34         |136.4600067138672 |4.013529609231388 |2.16222          |\n",
      "|2013-03-31 20:30:00|2013-03-31 21:00:00}|3                 |502.371         |17         |57.83000183105469 |3.401764813591452 |2.16222          |\n",
      "|2013-03-31 20:30:00|2013-03-31 21:00:00}|4                 |502.368         |27         |57.83000183105469 |2.1418519196686923|2.16222          |\n",
      "|2013-03-31 20:30:00|2013-03-31 21:00:00}|5                 |502.367         |64         |73.83000183105469 |1.1535937786102295|2.16222          |\n",
      "|2013-03-31 20:30:00|2013-03-31 21:00:00}|6                 |501.37          |55         |57.83000183105469 |1.0514545787464489|2.16222          |\n",
      "|2013-03-31 20:30:00|2013-03-31 21:00:00}|7                 |428.335         |43         |33.5              |0.7790697674418605|2.16222          |\n",
      "|2013-03-31 20:30:00|2013-03-31 21:00:00}|8                 |457.318         |38         |20.299999237060547|0.5342105062384355|2.16222          |\n",
      "|2013-03-31 20:30:00|2013-03-31 21:00:00}|9                 |451.319         |27         |14.0              |0.5185185185185185|2.16222          |\n",
      "|2013-03-31 20:30:00|2013-03-31 21:00:00}|10                |438.351         |38         |19.240001678466797|0.5063158336438631|2.16222          |\n",
      "|2013-03-31 21:00:00|2013-03-31 21:30:00}|1                 |480.335         |9          |80.94999694824219 |8.994444105360243 |2.16222          |\n",
      "|2013-03-31 21:00:00|2013-03-31 21:30:00}|2                 |476.283         |2          |15.899999618530273|7.949999809265137 |2.16222          |\n",
      "|2013-03-31 21:00:00|2013-03-31 21:30:00}|3                 |491.349         |11         |78.6300048828125  |7.148182262073863 |2.16222          |\n",
      "|2013-03-31 21:00:00|2013-03-31 21:30:00}|4                 |462.312         |82         |432.4100112915039 |5.273292820628097 |2.16222          |\n",
      "|2013-03-31 21:00:00|2013-03-31 21:30:00}|5                 |499.362         |18         |73.30000305175781 |4.072222391764323 |2.16222          |\n",
      "|2013-03-31 21:00:00|2013-03-31 21:30:00}|6                 |502.368         |27         |105.0             |3.888888888888889 |2.16222          |\n",
      "|2013-03-31 21:00:00|2013-03-31 21:30:00}|7                 |306.402         |7          |22.900001525878906|3.271428789411272 |2.16222          |\n",
      "|2013-03-31 21:00:00|2013-03-31 21:30:00}|8                 |505.368         |34         |78.6300048828125  |2.3126472024356617|2.16222          |\n",
      "|2013-03-31 21:00:00|2013-03-31 21:30:00}|9                 |502.367         |64         |57.83000183105469 |0.9035937786102295|2.16222          |\n",
      "|2013-03-31 21:00:00|2013-03-31 21:30:00}|10                |463.312         |513        |400.9499969482422 |0.7815789414195754|2.16222          |\n",
      "+-------------------+--------------------+------------------+----------------+-----------+------------------+------------------+-----------------+\n",
      "only showing top 20 rows\n",
      "\n",
      "+-------------------+--------------------+------------------+----------------+-----------+------------------+-------------------+-----------------+\n",
      "|pickup_datetime    |dropoff_datetime    |profitable_cell_id|profitable_areas|empty_taxis|median_profit     |profitability      |delay(in seconds)|\n",
      "+-------------------+--------------------+------------------+----------------+-----------+------------------+-------------------+-----------------+\n",
      "|2013-02-28 21:30:00|2013-02-28 22:00:00}|1                 |462.312         |53         |278.89999771118164|5.262264107758144  |0.713153         |\n",
      "|2013-02-28 21:30:00|2013-02-28 22:00:00}|2                 |402.366         |11         |33.0              |3.0                |0.713153         |\n",
      "|2013-02-28 21:30:00|2013-02-28 22:00:00}|3                 |420.326         |6          |7.800000190734863 |1.3000000317891438 |0.713153         |\n",
      "|2013-02-28 21:30:00|2013-02-28 22:00:00}|4                 |466.319         |19         |14.0              |0.7368421052631579 |0.713153         |\n",
      "|2013-02-28 21:30:00|2013-02-28 22:00:00}|5                 |452.318         |20         |8.5               |0.425              |0.713153         |\n",
      "|2013-02-28 21:30:00|2013-02-28 22:00:00}|6                 |409.312         |44         |10.0              |0.22727272727272727|0.713153         |\n",
      "|2013-02-28 21:30:00|2013-02-28 22:00:00}|7                 |429.324         |112        |23.799999237060547|0.2124999931880406 |0.713153         |\n",
      "|2013-02-28 21:30:00|2013-02-28 22:00:00}|8                 |462.313         |335        |60.0              |0.1791044776119403 |0.713153         |\n",
      "|2013-02-28 21:30:00|2013-02-28 22:00:00}|9                 |392.383         |26         |4.5               |0.17307692307692307|0.713153         |\n",
      "|2013-02-28 21:30:00|2013-02-28 22:00:00}|10                |463.312         |402        |68.13999938964844 |0.16950248604390158|0.713153         |\n",
      "|2013-02-28 22:00:00|2013-02-28 22:30:00}|1                 |456.332         |6          |80.22000122070312 |13.370000203450521 |0.713153         |\n",
      "|2013-02-28 22:00:00|2013-02-28 22:30:00}|2                 |462.312         |53         |538.5599937438965 |10.161509315922576 |0.713153         |\n",
      "|2013-02-28 22:00:00|2013-02-28 22:30:00}|3                 |388.333         |6          |60.25             |10.041666666666666 |0.713153         |\n",
      "|2013-02-28 22:00:00|2013-02-28 22:30:00}|4                 |502.368         |17         |137.6999969482422 |8.099999820484834  |0.713153         |\n",
      "|2013-02-28 22:00:00|2013-02-28 22:30:00}|5                 |414.37          |10         |22.0              |2.2                |0.713153         |\n",
      "|2013-02-28 22:00:00|2013-02-28 22:30:00}|6                 |423.307         |8          |11.0              |1.375              |0.713153         |\n",
      "|2013-02-28 22:00:00|2013-02-28 22:30:00}|7                 |501.37          |44         |53.19999694824219 |1.209090839732777  |0.713153         |\n",
      "|2013-02-28 22:00:00|2013-02-28 22:30:00}|8                 |504.369         |227        |231.81999969482422|1.0212334788318247 |0.713153         |\n",
      "|2013-02-28 22:00:00|2013-02-28 22:30:00}|9                 |419.339         |25         |22.5              |0.9                |0.713153         |\n",
      "|2013-02-28 22:00:00|2013-02-28 22:30:00}|10                |463.312         |402        |278.9399948120117 |0.6938805841094818 |0.713153         |\n",
      "+-------------------+--------------------+------------------+----------------+-----------+------------------+-------------------+-----------------+\n",
      "only showing top 20 rows\n",
      "\n",
      "+-------------------+--------------------+------------------+----------------+-----------+------------------+-------------------+-----------------+\n",
      "|pickup_datetime    |dropoff_datetime    |profitable_cell_id|profitable_areas|empty_taxis|median_profit     |profitability      |delay(in seconds)|\n",
      "+-------------------+--------------------+------------------+----------------+-----------+------------------+-------------------+-----------------+\n",
      "|2013-01-31 21:00:00|2013-01-31 21:30:00}|1                 |487.355         |3          |56.5              |18.833333333333332 |0.386667         |\n",
      "|2013-01-31 21:00:00|2013-01-31 21:30:00}|2                 |394.317         |4          |70.0              |17.5               |0.386667         |\n",
      "|2013-01-31 21:00:00|2013-01-31 21:30:00}|3                 |499.363         |6          |57.29999923706055 |9.549999872843424  |0.386667         |\n",
      "|2013-01-31 21:00:00|2013-01-31 21:30:00}|4                 |490.346         |8          |57.29999923706055 |7.162499904632568  |0.386667         |\n",
      "|2013-01-31 21:00:00|2013-01-31 21:30:00}|5                 |462.312         |72         |475.3999938964844 |6.602777693006727  |0.386667         |\n",
      "|2013-01-31 21:00:00|2013-01-31 21:30:00}|6                 |443.298         |4          |25.700000762939453|6.425000190734863  |0.386667         |\n",
      "|2013-01-31 21:00:00|2013-01-31 21:30:00}|7                 |493.352         |14         |57.29999923706055 |4.092857088361468  |0.386667         |\n",
      "|2013-01-31 21:00:00|2013-01-31 21:30:00}|8                 |442.338         |3          |12.0              |4.0                |0.386667         |\n",
      "|2013-01-31 21:00:00|2013-01-31 21:30:00}|9                 |465.247         |5          |18.0              |3.6                |0.386667         |\n",
      "|2013-01-31 21:00:00|2013-01-31 21:30:00}|10                |501.365         |21         |73.30000305175781 |3.490476335797991  |0.386667         |\n",
      "|2013-01-31 21:30:00|2013-01-31 22:00:00}|1                 |391.339         |10         |91.0              |9.1                |0.386667         |\n",
      "|2013-01-31 21:30:00|2013-01-31 22:00:00}|2                 |408.342         |7          |35.0              |5.0                |0.386667         |\n",
      "|2013-01-31 21:30:00|2013-01-31 22:00:00}|3                 |446.286         |9          |13.0              |1.4444444444444444 |0.386667         |\n",
      "|2013-01-31 21:30:00|2013-01-31 22:00:00}|4                 |424.343         |35         |23.5              |0.6714285714285714 |0.386667         |\n",
      "|2013-01-31 21:30:00|2013-01-31 22:00:00}|5                 |426.319         |28         |12.399999618530273|0.44285712923322407|0.386667         |\n",
      "|2013-01-31 21:30:00|2013-01-31 22:00:00}|6                 |455.315         |31         |9.5               |0.3064516129032258 |0.386667         |\n",
      "|2013-01-31 21:30:00|2013-01-31 22:00:00}|7                 |463.312         |462        |140.70000076293945|0.30454545619683865|0.386667         |\n",
      "|2013-01-31 21:30:00|2013-01-31 22:00:00}|8                 |421.368         |26         |6.5               |0.25               |0.386667         |\n",
      "|2013-01-31 21:30:00|2013-01-31 22:00:00}|9                 |438.317         |106        |25.0              |0.2358490566037736 |0.386667         |\n",
      "|2013-01-31 21:30:00|2013-01-31 22:00:00}|10                |427.353         |60         |13.5              |0.225              |0.386667         |\n",
      "+-------------------+--------------------+------------------+----------------+-----------+------------------+-------------------+-----------------+\n",
      "only showing top 20 rows\n",
      "\n"
     ]
    },
    {
     "name": "stdout",
     "output_type": "stream",
     "text": [
      "+-------------------+--------------------+------------------+----------------+-----------+------------------+-------------------+-----------------+\n",
      "|pickup_datetime    |dropoff_datetime    |profitable_cell_id|profitable_areas|empty_taxis|median_profit     |profitability      |delay(in seconds)|\n",
      "+-------------------+--------------------+------------------+----------------+-----------+------------------+-------------------+-----------------+\n",
      "|2013-04-30 20:30:00|2013-04-30 21:00:00}|1                 |393.313         |1          |10.5              |10.5               |0.319541         |\n",
      "|2013-04-30 20:30:00|2013-04-30 21:00:00}|2                 |390.323         |12         |76.5              |6.375              |0.319541         |\n",
      "|2013-04-30 20:30:00|2013-04-30 21:00:00}|3                 |473.328         |15         |80.93000030517578 |5.395333353678385  |0.319541         |\n",
      "|2013-04-30 20:30:00|2013-04-30 21:00:00}|4                 |428.326         |74         |57.83000183105469 |0.7814865112304688 |0.319541         |\n",
      "|2013-04-30 20:30:00|2013-04-30 21:00:00}|5                 |438.287         |122        |94.98999786376953 |0.7786065398669634 |0.319541         |\n",
      "|2013-04-30 20:30:00|2013-04-30 21:00:00}|6                 |462.312         |73         |43.5              |0.5958904109589042 |0.319541         |\n",
      "|2013-04-30 20:30:00|2013-04-30 21:00:00}|7                 |501.371         |657        |145.8300018310547 |0.22196347310662815|0.319541         |\n",
      "|2013-04-30 20:30:00|2013-04-30 21:00:00}|8                 |463.312         |637        |130.63000106811523|0.2050706453188622 |0.319541         |\n",
      "|2013-04-30 20:30:00|2013-04-30 21:00:00}|9                 |429.3           |83         |16.5              |0.19879518072289157|0.319541         |\n",
      "|2013-04-30 20:30:00|2013-04-30 21:00:00}|10                |424.291         |28         |5.5               |0.19642857142857142|0.319541         |\n",
      "|2013-04-30 21:00:00|2013-04-30 21:30:00}|1                 |468.313         |2          |38.5              |19.25              |0.319541         |\n",
      "|2013-04-30 21:00:00|2013-04-30 21:30:00}|2                 |391.333         |6          |61.0              |10.166666666666666 |0.319541         |\n",
      "|2013-04-30 21:00:00|2013-04-30 21:30:00}|3                 |462.312         |73         |463.6599979400635 |6.35150682109676   |0.319541         |\n",
      "|2013-04-30 21:00:00|2013-04-30 21:30:00}|4                 |502.367         |39         |181.4499969482422 |4.652564024313902  |0.319541         |\n",
      "|2013-04-30 21:00:00|2013-04-30 21:30:00}|5                 |440.329         |15         |52.5              |3.5                |0.319541         |\n",
      "|2013-04-30 21:00:00|2013-04-30 21:30:00}|6                 |439.305         |17         |57.83000183105469 |3.401764813591452  |0.319541         |\n",
      "|2013-04-30 21:00:00|2013-04-30 21:30:00}|7                 |502.371         |17         |45.0              |2.6470588235294117 |0.319541         |\n",
      "|2013-04-30 21:00:00|2013-04-30 21:30:00}|8                 |502.368         |23         |52.5              |2.282608695652174  |0.319541         |\n",
      "|2013-04-30 21:00:00|2013-04-30 21:30:00}|9                 |501.365         |36         |73.30000305175781 |2.0361111958821616 |0.319541         |\n",
      "|2013-04-30 21:00:00|2013-04-30 21:30:00}|10                |419.311         |6          |10.0              |1.6666666666666667 |0.319541         |\n",
      "+-------------------+--------------------+------------------+----------------+-----------+------------------+-------------------+-----------------+\n",
      "only showing top 20 rows\n",
      "\n",
      "+-------------------+--------------------+------------------+----------------+-----------+-----------------+------------------+-----------------+\n",
      "|pickup_datetime    |dropoff_datetime    |profitable_cell_id|profitable_areas|empty_taxis|median_profit    |profitability     |delay(in seconds)|\n",
      "+-------------------+--------------------+------------------+----------------+-----------+-----------------+------------------+-----------------+\n",
      "|2013-05-07 15:00:00|2013-05-07 15:30:00}|1                 |491.348         |1          |57.83000183105469|57.83000183105469 |0.387396         |\n",
      "|2013-05-07 15:00:00|2013-05-07 15:30:00}|2                 |430.326         |2          |86.75            |43.375            |0.387396         |\n",
      "|2013-05-07 15:00:00|2013-05-07 15:30:00}|3                 |459.331         |1          |35.70000076293945|35.70000076293945 |0.387396         |\n",
      "|2013-05-07 15:00:00|2013-05-07 15:30:00}|4                 |499.362         |2          |57.83000183105469|28.915000915527344|0.387396         |\n",
      "|2013-05-07 15:00:00|2013-05-07 15:30:00}|5                 |501.37          |8          |78.6300048828125 |9.828750610351562 |0.387396         |\n",
      "|2013-05-07 15:00:00|2013-05-07 15:30:00}|6                 |481.337         |6          |52.5             |8.75              |0.387396         |\n",
      "|2013-05-07 15:00:00|2013-05-07 15:30:00}|7                 |505.368         |7          |52.0             |7.428571428571429 |0.387396         |\n",
      "|2013-05-07 15:00:00|2013-05-07 15:30:00}|8                 |502.367         |13         |69.83000183105469|5.3715386023888225|0.387396         |\n",
      "|2013-05-07 15:00:00|2013-05-07 15:30:00}|9                 |462.312         |20         |100.4800033569336|5.02400016784668  |0.387396         |\n",
      "|2013-05-07 15:00:00|2013-05-07 15:30:00}|10                |460.33          |3          |13.5             |4.5               |0.387396         |\n",
      "|2013-05-07 15:30:00|2013-05-07 16:00:00}|1                 |502.367         |13         |57.83000183105469|4.448461679311899 |0.387396         |\n",
      "|2013-05-07 15:30:00|2013-05-07 16:00:00}|2                 |450.321         |5          |9.0              |1.8               |0.387396         |\n",
      "|2013-05-07 15:30:00|2013-05-07 16:00:00}|3                 |462.312         |20         |32.43000030517578|1.621500015258789 |0.387396         |\n",
      "|2013-05-07 15:30:00|2013-05-07 16:00:00}|4                 |432.277         |32         |46.0             |1.4375            |0.387396         |\n",
      "|2013-05-07 15:30:00|2013-05-07 16:00:00}|5                 |435.317         |13         |15.5             |1.1923076923076923|0.387396         |\n",
      "|2013-05-07 15:30:00|2013-05-07 16:00:00}|6                 |425.293         |108        |89.02999877929688|0.8243518405490451|0.387396         |\n",
      "|2013-05-07 15:30:00|2013-05-07 16:00:00}|7                 |437.295         |8          |6.5              |0.8125            |0.387396         |\n",
      "|2013-05-07 15:30:00|2013-05-07 16:00:00}|8                 |501.368         |106        |80.94999694824219|0.7636792164928509|0.387396         |\n",
      "|2013-05-07 15:30:00|2013-05-07 16:00:00}|9                 |437.315         |52         |35.0             |0.6730769230769231|0.387396         |\n",
      "|2013-05-07 15:30:00|2013-05-07 16:00:00}|10                |408.338         |197        |83.69999694824219|0.4248730809555441|0.387396         |\n",
      "+-------------------+--------------------+------------------+----------------+-----------+-----------------+------------------+-----------------+\n",
      "only showing top 20 rows\n",
      "\n"
     ]
    }
   ],
   "source": [
    "#displaying the streaming data for 5 minutes\n",
    "end_time = datetime.now() + timedelta(minutes=5)\n",
    "df.createOrReplaceTempView(\"query2\")      #replacing the view if already created\n",
    "while True:                               #runs for displaying streaming data\n",
    "    current_time = datetime.now()\n",
    "    if current_time > end_time:           #if the time limit is exceeded then stops the loop\n",
    "        break\n",
    "    display(query.status)\n",
    "    df_final = spark.sql('SELECT * FROM query2')  #using spark sql to display the data\n",
    "    display(df_final)                             #displaying the final data\n",
    "    sleep(3)                                     #adding a sleep time of 3 seconds"
   ]
  }
 ],
 "metadata": {
  "kernelspec": {
   "display_name": "Python 3",
   "language": "python",
   "name": "python3"
  },
  "language_info": {
   "codemirror_mode": {
    "name": "ipython",
    "version": 3
   },
   "file_extension": ".py",
   "mimetype": "text/x-python",
   "name": "python",
   "nbconvert_exporter": "python",
   "pygments_lexer": "ipython3",
   "version": "3.6.3"
  }
 },
 "nbformat": 4,
 "nbformat_minor": 5
}
